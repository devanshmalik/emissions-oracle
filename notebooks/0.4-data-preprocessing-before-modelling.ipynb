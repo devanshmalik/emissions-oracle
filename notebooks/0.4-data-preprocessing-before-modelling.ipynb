{
 "cells": [
  {
   "cell_type": "code",
   "execution_count": 27,
   "id": "d1361272-80ff-4284-9ab2-5983f6ee4bad",
   "metadata": {},
   "outputs": [
    {
     "name": "stdout",
     "output_type": "stream",
     "text": [
      "The autoreload extension is already loaded. To reload it, use:\n",
      "  %reload_ext autoreload\n"
     ]
    }
   ],
   "source": [
    "import pandas as pd\n",
    "import numpy as np\n",
    "import eia\n",
    "import requests\n",
    "import json\n",
    "import yaml\n",
    "from prophet import Prophet\n",
    "\n",
    "# Definitions\n",
    "pd.set_option('display.float_format', lambda x: '{:.3f}'.format(x)) #Limiting floats output to 3 decimal points\n",
    "pd.set_option('display.max_columns', 100)    #Display upto 100 columns \n",
    "pd.set_option('display.max_rows', 100) \n",
    "%matplotlib inline\n",
    "\n",
    "# Suppress warnings \n",
    "import warnings\n",
    "warnings.filterwarnings('ignore')   \n",
    "\n",
    "# OPTIONAL: Load the \"autoreload\" extension so that code can change\n",
    "%load_ext autoreload\n",
    "\n",
    "# OPTIONAL: always reload modules so that as you change code in src, it gets loaded\n",
    "%autoreload 2"
   ]
  },
  {
   "cell_type": "code",
   "execution_count": 3,
   "id": "77f165b7-7ca4-4f4a-859e-0010c27f4498",
   "metadata": {},
   "outputs": [],
   "source": [
    "# To be able to pull modules from src folder \n",
    "import os\n",
    "import sys\n",
    "src_dir = os.path.join(os.getcwd(), '..', 'src')\n",
    "sys.path.append(src_dir)"
   ]
  },
  {
   "cell_type": "code",
   "execution_count": 4,
   "id": "5822f578-0842-436e-a95a-7ad7a0eb0e83",
   "metadata": {},
   "outputs": [
    {
     "name": "stderr",
     "output_type": "stream",
     "text": [
      "2022-02-28 18:18:30,853 - Finding .env file to load entries as environment variables...\n",
      "2022-02-28 18:18:30,856 - Finished loading environment variables.\n"
     ]
    },
    {
     "data": {
      "text/plain": [
       "'xPWAeqwYEwqmxA0hFnjsCUbcyxEG95ajpq4aX89p'"
      ]
     },
     "execution_count": 4,
     "metadata": {},
     "output_type": "execute_result"
    }
   ],
   "source": [
    "from d00_utils.const import *\n",
    "from d00_utils.utils import setup_env_vars, load_yml, get_filepath\n",
    "\n",
    "setup_env_vars()\n",
    "os.environ.get(\"EIA_ACCESS_KEY\")"
   ]
  },
  {
   "cell_type": "markdown",
   "id": "18dc9597-8b14-4c9d-94b3-713694cf7d82",
   "metadata": {},
   "source": [
    "## Pulling Raw Data (JSON) and Creating Intermediate CSVs\n",
    "So far, we've pulled all the raw data we're interested in and created intermediate CSVS for it - including handling of failed API requests. "
   ]
  },
  {
   "cell_type": "code",
   "execution_count": 5,
   "id": "2229184e-5822-4312-a95c-86413f4e594c",
   "metadata": {},
   "outputs": [
    {
     "name": "stdout",
     "output_type": "stream",
     "text": [
      "Net_Gen_By_Fuel_MWh {'all_fuels': 'ELEC.GEN.ALL-{}-99.Q', 'coal': 'ELEC.GEN.COW-{}-99.Q', 'natural_gas': 'ELEC.GEN.NG-{}-99.Q', 'nuclear': 'ELEC.GEN.NUC-{}-99.Q', 'hydro': 'ELEC.GEN.HYC-{}-99.Q', 'other_renewables': 'ELEC.GEN.AOR-{}-99.Q', 'wind': 'ELEC.GEN.WND-{}-99.Q', 'solar_utility': 'ELEC.GEN.SUN-{}-99.Q', 'solar_all': 'ELEC.GEN.TSN-{}-99.Q', 'other': 'ELEC.GEN.OTH-{}-99.Q'}\n",
      "\n",
      "\n",
      "Fuel_Consumption_BTU {'coal': 'ELEC.CONS_TOT_BTU.COW-{}-99.Q', 'natural_gas': 'ELEC.CONS_TOT_BTU.NG-{}-99.Q'}\n",
      "\n",
      "\n"
     ]
    }
   ],
   "source": [
    "eia_api_ids = load_yml(EIA_API_IDS_YML_FILEPATH)\n",
    "for data_type, api_ids_dict in eia_api_ids.items(): \n",
    "    print(data_type, api_ids_dict)\n",
    "    print('\\n')"
   ]
  },
  {
   "cell_type": "code",
   "execution_count": 64,
   "id": "27f85894-50a4-4a81-8bf5-344117244b26",
   "metadata": {
    "scrolled": true,
    "tags": []
   },
   "outputs": [
    {
     "name": "stderr",
     "output_type": "stream",
     "text": [
      "2022-02-28 19:57:05,293 - Invalid response for EIA Series ID: elec.gen.wnd-al-99.q with error message: invalid series_id. For key registration, documentation, and examples see https://www.eia.gov/developer/\n",
      "2022-02-28 19:57:08,083 - Invalid response for EIA Series ID: elec.gen.wnd-ar-99.q with error message: invalid series_id. For key registration, documentation, and examples see https://www.eia.gov/developer/\n"
     ]
    }
   ],
   "source": [
    "# Working code so far\n",
    "from d01_data.get_raw_data import load_all_data\n",
    "load_all_data(eia_api_ids)"
   ]
  },
  {
   "cell_type": "markdown",
   "id": "f4728722-1214-41d9-85c3-ba77d5d3f458",
   "metadata": {},
   "source": [
    "## Data Preprocessing \n",
    "Next, we need to perform the following preprocessing steps: \n",
    "- Handle missing data for all csvs and impute values of zero \n",
    "- For csvs missing dates between 2001 and 2021, add missing dates with value of zero\n",
    "- Perform needed feature engineering using the data so far and save datasets as input to models downstream"
   ]
  },
  {
   "cell_type": "code",
   "execution_count": 69,
   "id": "8db7c3ff-1b8e-47e9-82c0-0ec3b2defc0b",
   "metadata": {
    "scrolled": true,
    "tags": []
   },
   "outputs": [
    {
     "data": {
      "text/html": [
       "<div>\n",
       "<style scoped>\n",
       "    .dataframe tbody tr th:only-of-type {\n",
       "        vertical-align: middle;\n",
       "    }\n",
       "\n",
       "    .dataframe tbody tr th {\n",
       "        vertical-align: top;\n",
       "    }\n",
       "\n",
       "    .dataframe thead th {\n",
       "        text-align: right;\n",
       "    }\n",
       "</style>\n",
       "<table border=\"1\" class=\"dataframe\">\n",
       "  <thead>\n",
       "    <tr style=\"text-align: right;\">\n",
       "      <th></th>\n",
       "      <th>date</th>\n",
       "      <th>Net_Gen_By_Fuel_MWh</th>\n",
       "    </tr>\n",
       "  </thead>\n",
       "  <tbody>\n",
       "    <tr>\n",
       "      <th>0</th>\n",
       "      <td>2021-12-31</td>\n",
       "      <td>140.160</td>\n",
       "    </tr>\n",
       "    <tr>\n",
       "      <th>1</th>\n",
       "      <td>2021-09-30</td>\n",
       "      <td>156.462</td>\n",
       "    </tr>\n",
       "    <tr>\n",
       "      <th>2</th>\n",
       "      <td>2021-06-30</td>\n",
       "      <td>126.982</td>\n",
       "    </tr>\n",
       "    <tr>\n",
       "      <th>3</th>\n",
       "      <td>2021-03-31</td>\n",
       "      <td>71.770</td>\n",
       "    </tr>\n",
       "    <tr>\n",
       "      <th>4</th>\n",
       "      <td>2020-12-31</td>\n",
       "      <td>71.988</td>\n",
       "    </tr>\n",
       "  </tbody>\n",
       "</table>\n",
       "</div>"
      ],
      "text/plain": [
       "         date  Net_Gen_By_Fuel_MWh\n",
       "0  2021-12-31              140.160\n",
       "1  2021-09-30              156.462\n",
       "2  2021-06-30              126.982\n",
       "3  2021-03-31               71.770\n",
       "4  2020-12-31               71.988"
      ]
     },
     "execution_count": 69,
     "metadata": {},
     "output_type": "execute_result"
    }
   ],
   "source": [
    "# Sample intermediate files for testing: \n",
    "impute_null_vals_case = '../data/02_intermediate/Net_Gen_By_Fuel_MWh/AL/Net_Gen_By_Fuel_MWh-solar_all.csv'\n",
    "missing_dates_case = '../data/02_intermediate/Net_Gen_By_Fuel_MWh/AL/Net_Gen_By_Fuel_MWh-solar_utility.csv'\n",
    "\n",
    "df_impute = pd.read_csv(impute_null_vals_case)\n",
    "df_dates = pd.read_csv(missing_dates_case)\n",
    "df_dates.head()"
   ]
  },
  {
   "cell_type": "code",
   "execution_count": 70,
   "id": "3a67ce3f-bd04-48e7-b936-cf35b30f4066",
   "metadata": {
    "scrolled": true,
    "tags": []
   },
   "outputs": [
    {
     "data": {
      "text/html": [
       "<div>\n",
       "<style scoped>\n",
       "    .dataframe tbody tr th:only-of-type {\n",
       "        vertical-align: middle;\n",
       "    }\n",
       "\n",
       "    .dataframe tbody tr th {\n",
       "        vertical-align: top;\n",
       "    }\n",
       "\n",
       "    .dataframe thead th {\n",
       "        text-align: right;\n",
       "    }\n",
       "</style>\n",
       "<table border=\"1\" class=\"dataframe\">\n",
       "  <thead>\n",
       "    <tr style=\"text-align: right;\">\n",
       "      <th></th>\n",
       "      <th>date</th>\n",
       "      <th>Net_Gen_By_Fuel_MWh</th>\n",
       "    </tr>\n",
       "  </thead>\n",
       "  <tbody>\n",
       "    <tr>\n",
       "      <th>0</th>\n",
       "      <td>2021-12-31</td>\n",
       "      <td>0.000</td>\n",
       "    </tr>\n",
       "    <tr>\n",
       "      <th>1</th>\n",
       "      <td>2021-09-30</td>\n",
       "      <td>0.000</td>\n",
       "    </tr>\n",
       "    <tr>\n",
       "      <th>2</th>\n",
       "      <td>2021-06-30</td>\n",
       "      <td>0.000</td>\n",
       "    </tr>\n",
       "    <tr>\n",
       "      <th>3</th>\n",
       "      <td>2021-03-31</td>\n",
       "      <td>0.000</td>\n",
       "    </tr>\n",
       "    <tr>\n",
       "      <th>4</th>\n",
       "      <td>2020-12-31</td>\n",
       "      <td>0.000</td>\n",
       "    </tr>\n",
       "  </tbody>\n",
       "</table>\n",
       "</div>"
      ],
      "text/plain": [
       "         date  Net_Gen_By_Fuel_MWh\n",
       "0  2021-12-31                0.000\n",
       "1  2021-09-30                0.000\n",
       "2  2021-06-30                0.000\n",
       "3  2021-03-31                0.000\n",
       "4  2020-12-31                0.000"
      ]
     },
     "execution_count": 70,
     "metadata": {},
     "output_type": "execute_result"
    }
   ],
   "source": [
    "# Null Impute \n",
    "df_impute['Net_Gen_By_Fuel_MWh'].fillna(0, inplace=True)\n",
    "df_impute.head()"
   ]
  },
  {
   "cell_type": "code",
   "execution_count": 71,
   "id": "33bcbc2a-eb07-43ba-96dc-d3c2b9cd98ee",
   "metadata": {
    "scrolled": true,
    "tags": []
   },
   "outputs": [
    {
     "name": "stdout",
     "output_type": "stream",
     "text": [
      "(22, 2)\n"
     ]
    },
    {
     "data": {
      "text/plain": [
       "(84, 2)"
      ]
     },
     "execution_count": 71,
     "metadata": {},
     "output_type": "execute_result"
    }
   ],
   "source": [
    "# Convert to pd.Series prior to imputing missing dates \n",
    "print(df_dates.shape)\n",
    "pd_series = df_dates.set_index('date')['Net_Gen_By_Fuel_MWh']\n",
    "\n",
    "start_date = \"2001-01-01\"\n",
    "end_date = \"2021-12-31\"\n",
    "dt_range = pd.date_range(start_date, end_date, freq='Q')\n",
    "pd_series.index = pd.DatetimeIndex(pd_series.index)\n",
    "\n",
    "# Impute missing quarters with value of 0\n",
    "pd_series = pd_series.reindex(dt_range, fill_value=0)\n",
    "\n",
    "# Create dataframe from pd.Series\n",
    "df_dates = pd.DataFrame({'date':pd_series.index, 'Net_Gen_By_Fuel_MWh':pd_series.values})\n",
    "df_dates.shape"
   ]
  },
  {
   "cell_type": "code",
   "execution_count": 73,
   "id": "f8248e91-371d-4d7d-ae67-73bd6fbebf3c",
   "metadata": {},
   "outputs": [
    {
     "name": "stderr",
     "output_type": "stream",
     "text": [
      "2022-02-28 20:27:41,681 - Invalid response for EIA Series ID: elec.gen.wnd-al-99.q with error message: invalid series_id. For key registration, documentation, and examples see https://www.eia.gov/developer/\n",
      "2022-02-28 20:27:41,800 - Invalid response for EIA Series ID: elec.gen.wnd-ar-99.q with error message: invalid series_id. For key registration, documentation, and examples see https://www.eia.gov/developer/\n"
     ]
    }
   ],
   "source": [
    "# Test function after adding to script \n",
    "from src.d02_intermediate.clean_raw_data import clean_all_data\n",
    "clean_all_data(eia_api_ids)"
   ]
  },
  {
   "cell_type": "markdown",
   "id": "5568392b-ff6a-4298-ae19-7b113129cda4",
   "metadata": {},
   "source": [
    "## Feature Engineering\n",
    "With all the data cleaned and imputed, we can move to the next stage of combining the cleaned raw data to create the processed data which will be fed into the ML models for training."
   ]
  },
  {
   "cell_type": "code",
   "execution_count": null,
   "id": "07bfc080-8057-4564-85fd-a29498bc3623",
   "metadata": {},
   "outputs": [],
   "source": []
  }
 ],
 "metadata": {
  "kernelspec": {
   "display_name": "Python 3 (ipykernel)",
   "language": "python",
   "name": "python3"
  },
  "language_info": {
   "codemirror_mode": {
    "name": "ipython",
    "version": 3
   },
   "file_extension": ".py",
   "mimetype": "text/x-python",
   "name": "python",
   "nbconvert_exporter": "python",
   "pygments_lexer": "ipython3",
   "version": "3.8.12"
  }
 },
 "nbformat": 4,
 "nbformat_minor": 5
}
