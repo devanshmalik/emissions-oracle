{
 "cells": [
  {
   "cell_type": "code",
   "execution_count": 1,
   "id": "d1361272-80ff-4284-9ab2-5983f6ee4bad",
   "metadata": {},
   "outputs": [],
   "source": [
    "import pandas as pd\n",
    "import numpy as np\n",
    "import eia\n",
    "import requests\n",
    "import json\n",
    "import yaml\n",
    "from prophet import Prophet\n",
    "\n",
    "# Definitions\n",
    "pd.set_option('display.float_format', lambda x: '{:.3f}'.format(x)) #Limiting floats output to 3 decimal points\n",
    "pd.set_option('display.max_columns', 100)    #Display upto 100 columns \n",
    "pd.set_option('display.max_rows', 100) \n",
    "%matplotlib inline\n",
    "\n",
    "# Suppress warnings \n",
    "import warnings\n",
    "warnings.filterwarnings('ignore')   \n",
    "\n",
    "# OPTIONAL: Load the \"autoreload\" extension so that code can change\n",
    "%load_ext autoreload\n",
    "\n",
    "# OPTIONAL: always reload modules so that as you change code in src, it gets loaded\n",
    "%autoreload 2"
   ]
  },
  {
   "cell_type": "code",
   "execution_count": 2,
   "id": "77f165b7-7ca4-4f4a-859e-0010c27f4498",
   "metadata": {},
   "outputs": [],
   "source": [
    "# To be able to pull modules from src folder \n",
    "import os\n",
    "import sys\n",
    "src_dir = os.path.join(os.getcwd(), '..', 'src')\n",
    "sys.path.append(src_dir)"
   ]
  },
  {
   "cell_type": "code",
   "execution_count": 3,
   "id": "5822f578-0842-436e-a95a-7ad7a0eb0e83",
   "metadata": {},
   "outputs": [
    {
     "name": "stderr",
     "output_type": "stream",
     "text": [
      "2022-03-03 19:26:34,649 - Finding .env file to load entries as environment variables...\n",
      "2022-03-03 19:26:34,653 - Finished loading environment variables.\n"
     ]
    },
    {
     "data": {
      "text/plain": [
       "'xPWAeqwYEwqmxA0hFnjsCUbcyxEG95ajpq4aX89p'"
      ]
     },
     "execution_count": 3,
     "metadata": {},
     "output_type": "execute_result"
    }
   ],
   "source": [
    "from d00_utils.const import *\n",
    "from d00_utils.utils import setup_env_vars, load_yml, get_filepath\n",
    "\n",
    "setup_env_vars()\n",
    "os.environ.get(\"EIA_ACCESS_KEY\")"
   ]
  },
  {
   "cell_type": "markdown",
   "id": "18dc9597-8b14-4c9d-94b3-713694cf7d82",
   "metadata": {},
   "source": [
    "## Pulling Raw Data (JSON) and Creating Intermediate CSVs\n",
    "So far, we've pulled all the raw data we're interested in and created intermediate CSVS for it - including handling of failed API requests. "
   ]
  },
  {
   "cell_type": "code",
   "execution_count": 17,
   "id": "2229184e-5822-4312-a95c-86413f4e594c",
   "metadata": {},
   "outputs": [
    {
     "name": "stdout",
     "output_type": "stream",
     "text": [
      "Net_Gen_By_Fuel_MWh {'all_fuels': 'ELEC.GEN.ALL-{}-99.Q', 'coal': 'ELEC.GEN.COW-{}-99.Q', 'natural_gas': 'ELEC.GEN.NG-{}-99.Q', 'nuclear': 'ELEC.GEN.NUC-{}-99.Q', 'hydro': 'ELEC.GEN.HYC-{}-99.Q', 'other_renewables': 'ELEC.GEN.AOR-{}-99.Q', 'wind': 'ELEC.GEN.WND-{}-99.Q', 'solar_utility': 'ELEC.GEN.SUN-{}-99.Q', 'solar_all': 'ELEC.GEN.TSN-{}-99.Q', 'other': 'ELEC.GEN.OTH-{}-99.Q'}\n",
      "\n",
      "\n",
      "Fuel_Consumption_BTU {'coal': 'ELEC.CONS_TOT_BTU.COW-{}-99.Q', 'natural_gas': 'ELEC.CONS_TOT_BTU.NG-{}-99.Q'}\n",
      "\n",
      "\n"
     ]
    }
   ],
   "source": [
    "eia_api_ids = load_yml(EIA_API_IDS_YML_FILEPATH)\n",
    "for data_type, api_ids_dict in eia_api_ids.items(): \n",
    "    print(data_type, api_ids_dict)\n",
    "    print('\\n')"
   ]
  },
  {
   "cell_type": "code",
   "execution_count": 82,
   "id": "27f85894-50a4-4a81-8bf5-344117244b26",
   "metadata": {
    "scrolled": true,
    "tags": []
   },
   "outputs": [],
   "source": [
    "# Working code so far\n",
    "from d01_data.get_raw_data import load_all_data\n",
    "load_all_data(eia_api_ids)"
   ]
  },
  {
   "cell_type": "markdown",
   "id": "f4728722-1214-41d9-85c3-ba77d5d3f458",
   "metadata": {},
   "source": [
    "## Data Preprocessing \n",
    "Next, we need to perform the following preprocessing steps: \n",
    "- Handle missing data for all csvs and impute values of zero \n",
    "- For csvs missing dates between 2001 and 2021, add missing dates with value of zero\n",
    "- Perform needed feature engineering using the data so far and save datasets as input to models downstream"
   ]
  },
  {
   "cell_type": "code",
   "execution_count": null,
   "id": "8db7c3ff-1b8e-47e9-82c0-0ec3b2defc0b",
   "metadata": {
    "scrolled": true,
    "tags": []
   },
   "outputs": [],
   "source": [
    "# Sample intermediate files for testing: \n",
    "impute_null_vals_case = '../data/01_raw/Net_Gen_By_Fuel_MWh/AL/Net_Gen_By_Fuel_MWh-solar_all.json'\n",
    "missing_dates_case = '../data/01_raw/Net_Gen_By_Fuel_MWh/AL/Net_Gen_By_Fuel_MWh-solar_utility.json'\n",
    "\n",
    "df_impute = pd.read_csv(impute_null_vals_case)\n",
    "df_dates = pd.read_csv(missing_dates_case)\n",
    "df_dates.head()"
   ]
  },
  {
   "cell_type": "code",
   "execution_count": 70,
   "id": "3a67ce3f-bd04-48e7-b936-cf35b30f4066",
   "metadata": {
    "scrolled": true,
    "tags": []
   },
   "outputs": [
    {
     "data": {
      "text/html": [
       "<div>\n",
       "<style scoped>\n",
       "    .dataframe tbody tr th:only-of-type {\n",
       "        vertical-align: middle;\n",
       "    }\n",
       "\n",
       "    .dataframe tbody tr th {\n",
       "        vertical-align: top;\n",
       "    }\n",
       "\n",
       "    .dataframe thead th {\n",
       "        text-align: right;\n",
       "    }\n",
       "</style>\n",
       "<table border=\"1\" class=\"dataframe\">\n",
       "  <thead>\n",
       "    <tr style=\"text-align: right;\">\n",
       "      <th></th>\n",
       "      <th>date</th>\n",
       "      <th>Net_Gen_By_Fuel_MWh</th>\n",
       "    </tr>\n",
       "  </thead>\n",
       "  <tbody>\n",
       "    <tr>\n",
       "      <th>0</th>\n",
       "      <td>2021-12-31</td>\n",
       "      <td>0.000</td>\n",
       "    </tr>\n",
       "    <tr>\n",
       "      <th>1</th>\n",
       "      <td>2021-09-30</td>\n",
       "      <td>0.000</td>\n",
       "    </tr>\n",
       "    <tr>\n",
       "      <th>2</th>\n",
       "      <td>2021-06-30</td>\n",
       "      <td>0.000</td>\n",
       "    </tr>\n",
       "    <tr>\n",
       "      <th>3</th>\n",
       "      <td>2021-03-31</td>\n",
       "      <td>0.000</td>\n",
       "    </tr>\n",
       "    <tr>\n",
       "      <th>4</th>\n",
       "      <td>2020-12-31</td>\n",
       "      <td>0.000</td>\n",
       "    </tr>\n",
       "  </tbody>\n",
       "</table>\n",
       "</div>"
      ],
      "text/plain": [
       "         date  Net_Gen_By_Fuel_MWh\n",
       "0  2021-12-31                0.000\n",
       "1  2021-09-30                0.000\n",
       "2  2021-06-30                0.000\n",
       "3  2021-03-31                0.000\n",
       "4  2020-12-31                0.000"
      ]
     },
     "execution_count": 70,
     "metadata": {},
     "output_type": "execute_result"
    }
   ],
   "source": [
    "# Null Impute \n",
    "df_impute['Net_Gen_By_Fuel_MWh'].fillna(0, inplace=True)\n",
    "df_impute.head()"
   ]
  },
  {
   "cell_type": "code",
   "execution_count": 71,
   "id": "33bcbc2a-eb07-43ba-96dc-d3c2b9cd98ee",
   "metadata": {
    "scrolled": true,
    "tags": []
   },
   "outputs": [
    {
     "name": "stdout",
     "output_type": "stream",
     "text": [
      "(22, 2)\n"
     ]
    },
    {
     "data": {
      "text/plain": [
       "(84, 2)"
      ]
     },
     "execution_count": 71,
     "metadata": {},
     "output_type": "execute_result"
    }
   ],
   "source": [
    "# Convert to pd.Series prior to imputing missing dates \n",
    "print(df_dates.shape)\n",
    "pd_series = df_dates.set_index('date')['Net_Gen_By_Fuel_MWh']\n",
    "\n",
    "start_date = \"2001-01-01\"\n",
    "end_date = \"2021-12-31\"\n",
    "dt_range = pd.date_range(start_date, end_date, freq='Q')\n",
    "pd_series.index = pd.DatetimeIndex(pd_series.index)\n",
    "\n",
    "# Impute missing quarters with value of 0\n",
    "pd_series = pd_series.reindex(dt_range, fill_value=0)\n",
    "\n",
    "# Create dataframe from pd.Series\n",
    "df_dates = pd.DataFrame({'date':pd_series.index, 'Net_Gen_By_Fuel_MWh':pd_series.values})\n",
    "df_dates.shape"
   ]
  },
  {
   "cell_type": "code",
   "execution_count": 89,
   "id": "f8248e91-371d-4d7d-ae67-73bd6fbebf3c",
   "metadata": {},
   "outputs": [
    {
     "name": "stderr",
     "output_type": "stream",
     "text": [
      "2022-03-02 17:40:41,597 - Invalid response for EIA Series ID: elec.gen.wnd-al-99.q with error message: invalid series_id. For key registration, documentation, and examples see https://www.eia.gov/developer/\n",
      "2022-03-02 17:40:41,716 - Invalid response for EIA Series ID: elec.gen.wnd-ar-99.q with error message: invalid series_id. For key registration, documentation, and examples see https://www.eia.gov/developer/\n"
     ]
    }
   ],
   "source": [
    "# Test function after adding to script \n",
    "from src.d02_intermediate.clean_raw_data import clean_all_data\n",
    "clean_all_data(eia_api_ids)"
   ]
  },
  {
   "cell_type": "markdown",
   "id": "5568392b-ff6a-4298-ae19-7b113129cda4",
   "metadata": {},
   "source": [
    "## Feature Engineering\n",
    "With all the data cleaned and imputed, we can move to the next stage of combining the cleaned raw data to create the processed data which will be fed into the ML models for training."
   ]
  },
  {
   "cell_type": "code",
   "execution_count": 12,
   "id": "07bfc080-8057-4564-85fd-a29498bc3623",
   "metadata": {},
   "outputs": [
    {
     "data": {
      "text/html": [
       "<div>\n",
       "<style scoped>\n",
       "    .dataframe tbody tr th:only-of-type {\n",
       "        vertical-align: middle;\n",
       "    }\n",
       "\n",
       "    .dataframe tbody tr th {\n",
       "        vertical-align: top;\n",
       "    }\n",
       "\n",
       "    .dataframe thead th {\n",
       "        text-align: right;\n",
       "    }\n",
       "</style>\n",
       "<table border=\"1\" class=\"dataframe\">\n",
       "  <thead>\n",
       "    <tr style=\"text-align: right;\">\n",
       "      <th></th>\n",
       "      <th>date</th>\n",
       "      <th>Net_Gen_By_Fuel_MWh</th>\n",
       "    </tr>\n",
       "  </thead>\n",
       "  <tbody>\n",
       "    <tr>\n",
       "      <th>0</th>\n",
       "      <td>2001-03-31</td>\n",
       "      <td>30267.126</td>\n",
       "    </tr>\n",
       "    <tr>\n",
       "      <th>1</th>\n",
       "      <td>2001-06-30</td>\n",
       "      <td>28933.315</td>\n",
       "    </tr>\n",
       "    <tr>\n",
       "      <th>2</th>\n",
       "      <td>2001-09-30</td>\n",
       "      <td>35618.737</td>\n",
       "    </tr>\n",
       "    <tr>\n",
       "      <th>3</th>\n",
       "      <td>2001-12-31</td>\n",
       "      <td>30525.935</td>\n",
       "    </tr>\n",
       "    <tr>\n",
       "      <th>4</th>\n",
       "      <td>2002-03-31</td>\n",
       "      <td>30347.665</td>\n",
       "    </tr>\n",
       "  </tbody>\n",
       "</table>\n",
       "</div>"
      ],
      "text/plain": [
       "         date  Net_Gen_By_Fuel_MWh\n",
       "0  2001-03-31            30267.126\n",
       "1  2001-06-30            28933.315\n",
       "2  2001-09-30            35618.737\n",
       "3  2001-12-31            30525.935\n",
       "4  2002-03-31            30347.665"
      ]
     },
     "execution_count": 12,
     "metadata": {},
     "output_type": "execute_result"
    }
   ],
   "source": [
    "# Sample intermediate files for testing: \n",
    "all_fuels = '../data/02_intermediate/Net_Gen_By_Fuel_MWh/AL/Net_Gen_By_Fuel_MWh-all_fuels.csv'\n",
    "coal = '../data/02_intermediate/Net_Gen_By_Fuel_MWh/AL/Net_Gen_By_Fuel_MWh-coal.csv'\n",
    "\n",
    "df_all_fuels = pd.read_csv(all_fuels)\n",
    "df_coal = pd.read_csv(coal)\n",
    "df_all_fuels.head()"
   ]
  },
  {
   "cell_type": "code",
   "execution_count": 15,
   "id": "80c0fb81-ffea-4a50-b953-51a2bf4b40bd",
   "metadata": {},
   "outputs": [
    {
     "data": {
      "text/html": [
       "<div>\n",
       "<style scoped>\n",
       "    .dataframe tbody tr th:only-of-type {\n",
       "        vertical-align: middle;\n",
       "    }\n",
       "\n",
       "    .dataframe tbody tr th {\n",
       "        vertical-align: top;\n",
       "    }\n",
       "\n",
       "    .dataframe thead th {\n",
       "        text-align: right;\n",
       "    }\n",
       "</style>\n",
       "<table border=\"1\" class=\"dataframe\">\n",
       "  <thead>\n",
       "    <tr style=\"text-align: right;\">\n",
       "      <th></th>\n",
       "      <th>date</th>\n",
       "      <th>value</th>\n",
       "    </tr>\n",
       "  </thead>\n",
       "  <tbody>\n",
       "    <tr>\n",
       "      <th>0</th>\n",
       "      <td>2001-03-31</td>\n",
       "      <td>17430.289</td>\n",
       "    </tr>\n",
       "    <tr>\n",
       "      <th>1</th>\n",
       "      <td>2001-06-30</td>\n",
       "      <td>17043.527</td>\n",
       "    </tr>\n",
       "    <tr>\n",
       "      <th>2</th>\n",
       "      <td>2001-09-30</td>\n",
       "      <td>20808.621</td>\n",
       "    </tr>\n",
       "    <tr>\n",
       "      <th>3</th>\n",
       "      <td>2001-12-31</td>\n",
       "      <td>16915.677</td>\n",
       "    </tr>\n",
       "    <tr>\n",
       "      <th>4</th>\n",
       "      <td>2002-03-31</td>\n",
       "      <td>14804.407</td>\n",
       "    </tr>\n",
       "  </tbody>\n",
       "</table>\n",
       "</div>"
      ],
      "text/plain": [
       "         date     value\n",
       "0  2001-03-31 17430.289\n",
       "1  2001-06-30 17043.527\n",
       "2  2001-09-30 20808.621\n",
       "3  2001-12-31 16915.677\n",
       "4  2002-03-31 14804.407"
      ]
     },
     "execution_count": 15,
     "metadata": {},
     "output_type": "execute_result"
    }
   ],
   "source": [
    "df_other = pd.DataFrame()\n",
    "df_other['date'] = df_coal['date']\n",
    "df_other['value'] = df_coal['Net_Gen_By_Fuel_MWh']\n",
    "df_other.head()"
   ]
  },
  {
   "cell_type": "code",
   "execution_count": 5,
   "id": "07a17c43-ec42-489d-ab3b-f78420f56e0f",
   "metadata": {
    "scrolled": true,
    "tags": []
   },
   "outputs": [
    {
     "name": "stderr",
     "output_type": "stream",
     "text": [
      "2022-03-03 19:26:44,467 - Disabling weekly seasonality. Run prophet with weekly_seasonality=True to override this.\n",
      "2022-03-03 19:26:44,468 - Disabling daily seasonality. Run prophet with daily_seasonality=True to override this.\n"
     ]
    },
    {
     "name": "stdout",
     "output_type": "stream",
     "text": [
      "\n",
      "Initial log joint probability = -92.1797\n"
     ]
    },
    {
     "data": {
      "text/plain": [
       "<prophet.forecaster.Prophet at 0x7fa62a7b7340>"
      ]
     },
     "execution_count": 5,
     "metadata": {},
     "output_type": "execute_result"
    },
    {
     "name": "stdout",
     "output_type": "stream",
     "text": [
      "Iteration  1. Log joint probability =    68.6238. Improved by 160.803.\n",
      "Iteration  2. Log joint probability =    127.623. Improved by 58.9992.\n",
      "Iteration  3. Log joint probability =    127.625. Improved by 0.00178294.\n",
      "Iteration  4. Log joint probability =    127.662. Improved by 0.0367992.\n",
      "Iteration  5. Log joint probability =    127.704. Improved by 0.0421381.\n",
      "Iteration  6. Log joint probability =    155.338. Improved by 27.6338.\n",
      "Iteration  7. Log joint probability =    155.422. Improved by 0.0843067.\n",
      "Iteration  8. Log joint probability =    155.726. Improved by 0.303883.\n",
      "Iteration  9. Log joint probability =    155.848. Improved by 0.122752.\n",
      "Iteration 10. Log joint probability =    155.965. Improved by 0.116853.\n",
      "Iteration 11. Log joint probability =    156.014. Improved by 0.0488764.\n",
      "Iteration 12. Log joint probability =     156.02. Improved by 0.00598548.\n",
      "Iteration 13. Log joint probability =    156.117. Improved by 0.0971122.\n",
      "Iteration 14. Log joint probability =    156.247. Improved by 0.129757.\n",
      "Iteration 15. Log joint probability =    156.341. Improved by 0.0942676.\n",
      "Iteration 16. Log joint probability =    156.386. Improved by 0.0442238.\n",
      "Iteration 17. Log joint probability =    157.226. Improved by 0.840682.\n",
      "Iteration 18. Log joint probability =    157.612. Improved by 0.386101.\n",
      "Iteration 19. Log joint probability =    157.972. Improved by 0.359359.\n",
      "Iteration 20. Log joint probability =    158.016. Improved by 0.0447275.\n",
      "Iteration 21. Log joint probability =    158.067. Improved by 0.0504137.\n",
      "Iteration 22. Log joint probability =    158.121. Improved by 0.0538752.\n",
      "Iteration 23. Log joint probability =    158.295. Improved by 0.174192.\n",
      "Iteration 24. Log joint probability =    158.988. Improved by 0.692927.\n",
      "Iteration 25. Log joint probability =    159.053. Improved by 0.0647175.\n",
      "Iteration 26. Log joint probability =    159.226. Improved by 0.173366.\n",
      "Iteration 27. Log joint probability =    159.885. Improved by 0.658817.\n",
      "Iteration 28. Log joint probability =    160.701. Improved by 0.816747.\n",
      "Iteration 29. Log joint probability =    161.403. Improved by 0.701428.\n",
      "Iteration 30. Log joint probability =    161.872. Improved by 0.469326.\n",
      "Iteration 31. Log joint probability =    165.791. Improved by 3.91863.\n",
      "Iteration 32. Log joint probability =    166.278. Improved by 0.487107.\n",
      "Iteration 33. Log joint probability =    166.293. Improved by 0.0151495.\n",
      "Iteration 34. Log joint probability =    167.474. Improved by 1.18116.\n",
      "Iteration 35. Log joint probability =    168.278. Improved by 0.803238.\n",
      "Iteration 36. Log joint probability =    168.378. Improved by 0.100001.\n",
      "Iteration 37. Log joint probability =    170.452. Improved by 2.07414.\n",
      "Iteration 38. Log joint probability =    170.491. Improved by 0.0393318.\n",
      "Iteration 39. Log joint probability =     171.29. Improved by 0.798856.\n",
      "Iteration 40. Log joint probability =    172.475. Improved by 1.18534.\n",
      "Iteration 41. Log joint probability =    172.855. Improved by 0.379518.\n",
      "Iteration 42. Log joint probability =    174.503. Improved by 1.64842.\n",
      "Iteration 43. Log joint probability =    174.569. Improved by 0.0653905.\n",
      "Iteration 44. Log joint probability =    174.709. Improved by 0.140118.\n",
      "Iteration 45. Log joint probability =    174.742. Improved by 0.0336783.\n",
      "Iteration 46. Log joint probability =    177.064. Improved by 2.32147.\n",
      "Iteration 47. Log joint probability =    177.075. Improved by 0.0113088.\n",
      "Iteration 48. Log joint probability =    177.119. Improved by 0.0443645.\n",
      "Iteration 49. Log joint probability =    177.213. Improved by 0.0930432.\n",
      "Iteration 50. Log joint probability =    177.308. Improved by 0.0955569.\n",
      "Iteration 51. Log joint probability =    177.316. Improved by 0.00768538.\n",
      "Iteration 52. Log joint probability =    177.356. Improved by 0.0405394.\n",
      "Iteration 53. Log joint probability =    177.375. Improved by 0.0191433.\n",
      "Iteration 54. Log joint probability =    177.383. Improved by 0.00728685.\n",
      "Iteration 55. Log joint probability =    177.397. Improved by 0.0139695.\n",
      "Iteration 56. Log joint probability =    177.399. Improved by 0.00266059.\n",
      "Iteration 57. Log joint probability =    177.404. Improved by 0.00498651.\n",
      "Iteration 58. Log joint probability =    177.405. Improved by 0.000805583.\n",
      "Iteration 59. Log joint probability =    177.407. Improved by 0.00232591.\n",
      "Iteration 60. Log joint probability =    177.412. Improved by 0.00462355.\n",
      "Iteration 61. Log joint probability =    177.415. Improved by 0.0031746.\n",
      "Iteration 62. Log joint probability =    177.417. Improved by 0.00185314.\n",
      "Iteration 63. Log joint probability =    177.418. Improved by 0.000993872.\n",
      "Iteration 64. Log joint probability =    177.419. Improved by 0.000836882.\n",
      "Iteration 65. Log joint probability =     177.42. Improved by 0.000677093.\n",
      "Iteration 66. Log joint probability =    177.421. Improved by 0.00101528.\n",
      "Iteration 67. Log joint probability =    177.421. Improved by 0.000140897.\n",
      "Iteration 68. Log joint probability =    177.421. Improved by 0.000529652.\n",
      "Iteration 69. Log joint probability =    177.422. Improved by 0.000382884.\n",
      "Iteration 70. Log joint probability =    177.422. Improved by 0.000466848.\n",
      "Iteration 71. Log joint probability =    177.422. Improved by 0.000157248.\n",
      "Iteration 72. Log joint probability =    177.422. Improved by 6.55767e-05.\n",
      "Iteration 73. Log joint probability =    177.423. Improved by 0.000328407.\n",
      "Iteration 74. Log joint probability =    177.423. Improved by 0.00023885.\n",
      "Iteration 75. Log joint probability =    177.423. Improved by 4.57341e-05.\n",
      "Iteration 76. Log joint probability =    177.423. Improved by 0.000148342.\n",
      "Iteration 77. Log joint probability =    177.423. Improved by 1.97959e-05.\n",
      "Iteration 78. Log joint probability =    177.423. Improved by 7.30517e-05.\n",
      "Iteration 79. Log joint probability =    177.423. Improved by 8.23501e-05.\n",
      "Iteration 80. Log joint probability =    177.423. Improved by 5.65503e-05.\n",
      "Iteration 81. Log joint probability =    177.423. Improved by 6.90844e-05.\n",
      "Iteration 82. Log joint probability =    177.423. Improved by 9.94998e-06.\n",
      "Iteration 83. Log joint probability =    177.423. Improved by 1.2366e-06.\n",
      "Iteration 84. Log joint probability =    177.423. Improved by 3.5338e-05.\n",
      "Iteration 85. Log joint probability =    177.424. Improved by 1.35965e-05.\n",
      "Iteration 86. Log joint probability =    177.424. Improved by 2.66097e-05.\n",
      "Iteration 87. Log joint probability =    177.424. Improved by 1.19954e-05.\n",
      "Iteration 88. Log joint probability =    177.424. Improved by 1.7081e-05.\n",
      "Iteration 89. Log joint probability =    177.424. Improved by 1.22491e-05.\n",
      "Iteration 90. Log joint probability =    177.424. Improved by 1.72364e-05.\n",
      "Iteration 91. Log joint probability =    177.424. Improved by 6.31573e-07.\n",
      "Iteration 92. Log joint probability =    177.424. Improved by 1.3189e-05.\n",
      "Iteration 93. Log joint probability =    177.424. Improved by 4.36332e-06.\n",
      "Iteration 94. Log joint probability =    177.424. Improved by 2.87663e-06.\n",
      "Iteration 95. Log joint probability =    177.424. Improved by 2.55872e-06.\n",
      "Iteration 96. Log joint probability =    177.424. Improved by 3.88975e-06.\n",
      "Iteration 97. Log joint probability =    177.424. Improved by 4.57032e-06.\n",
      "Iteration 98. Log joint probability =    177.424. Improved by 1.16398e-06.\n",
      "Iteration 99. Log joint probability =    177.424. Improved by 1.5446e-06.\n",
      "Iteration 100. Log joint probability =    177.424. Improved by 6.18843e-07.\n",
      "Iteration 101. Log joint probability =    177.424. Improved by 4.66369e-08.\n",
      "Iteration 102. Log joint probability =    177.424. Improved by 7.09149e-07.\n",
      "Iteration 103. Log joint probability =    177.424. Improved by 1.06062e-06.\n",
      "Iteration 104. Log joint probability =    177.424. Improved by 2.13613e-07.\n",
      "Iteration 105. Log joint probability =    177.424. Improved by 9.81223e-08.\n",
      "Iteration 106. Log joint probability =    177.424. Improved by 9.06949e-07.\n",
      "Iteration 107. Log joint probability =    177.424. Improved by 2.81701e-07.\n",
      "Iteration 108. Log joint probability =    177.424. Improved by 2.30228e-07.\n",
      "Iteration 109. Log joint probability =    177.424. Improved by 7.18023e-07.\n",
      "Iteration 110. Log joint probability =    177.424. Improved by 1.07758e-06.\n",
      "Iteration 111. Log joint probability =    177.424. Improved by 6.02177e-07.\n",
      "Iteration 112. Log joint probability =    177.424. Improved by 8.07245e-09.\n"
     ]
    }
   ],
   "source": [
    "df_coal.columns = ['ds', 'y']\n",
    "m = Prophet()\n",
    "m.fit(df_coal)"
   ]
  },
  {
   "cell_type": "code",
   "execution_count": 18,
   "id": "711e8149-5c46-4ecd-8155-3b40dc7bc1a9",
   "metadata": {},
   "outputs": [],
   "source": [
    "# Test function after adding to script \n",
    "from src.d03_processing.create_model_input import process_all_data\n",
    "process_all_data(eia_api_ids)"
   ]
  },
  {
   "cell_type": "markdown",
   "id": "709692c7-57ea-4612-9169-f604304815f5",
   "metadata": {},
   "source": [
    "# Appendix"
   ]
  },
  {
   "cell_type": "markdown",
   "id": "035f3f4d-b5ab-429f-ac64-78a29bfe46af",
   "metadata": {},
   "source": [
    "## Kats for Time Series Forecasting \n",
    "Testing the use of Kats (Kits to Analyze Time Series) instead of using Prophet directly as Kats provides access to 10 different time series forecasting algorithms using the same interface. \n",
    "\n",
    "**Giving up using Kats due to the package not even working for a basic test case due to a cryptic numpy error and limitations on numpy versions by Numba (needed by Kats)**"
   ]
  },
  {
   "cell_type": "code",
   "execution_count": 4,
   "id": "20264bf5-9837-476c-919a-74caa9bcd70b",
   "metadata": {},
   "outputs": [
    {
     "data": {
      "text/html": [
       "<div>\n",
       "<style scoped>\n",
       "    .dataframe tbody tr th:only-of-type {\n",
       "        vertical-align: middle;\n",
       "    }\n",
       "\n",
       "    .dataframe tbody tr th {\n",
       "        vertical-align: top;\n",
       "    }\n",
       "\n",
       "    .dataframe thead th {\n",
       "        text-align: right;\n",
       "    }\n",
       "</style>\n",
       "<table border=\"1\" class=\"dataframe\">\n",
       "  <thead>\n",
       "    <tr style=\"text-align: right;\">\n",
       "      <th></th>\n",
       "      <th>date</th>\n",
       "      <th>Net_Gen_By_Fuel_MWh</th>\n",
       "    </tr>\n",
       "  </thead>\n",
       "  <tbody>\n",
       "    <tr>\n",
       "      <th>0</th>\n",
       "      <td>2001-03-31</td>\n",
       "      <td>30267.126</td>\n",
       "    </tr>\n",
       "    <tr>\n",
       "      <th>1</th>\n",
       "      <td>2001-06-30</td>\n",
       "      <td>28933.315</td>\n",
       "    </tr>\n",
       "    <tr>\n",
       "      <th>2</th>\n",
       "      <td>2001-09-30</td>\n",
       "      <td>35618.737</td>\n",
       "    </tr>\n",
       "    <tr>\n",
       "      <th>3</th>\n",
       "      <td>2001-12-31</td>\n",
       "      <td>30525.935</td>\n",
       "    </tr>\n",
       "    <tr>\n",
       "      <th>4</th>\n",
       "      <td>2002-03-31</td>\n",
       "      <td>30347.665</td>\n",
       "    </tr>\n",
       "  </tbody>\n",
       "</table>\n",
       "</div>"
      ],
      "text/plain": [
       "         date  Net_Gen_By_Fuel_MWh\n",
       "0  2001-03-31            30267.126\n",
       "1  2001-06-30            28933.315\n",
       "2  2001-09-30            35618.737\n",
       "3  2001-12-31            30525.935\n",
       "4  2002-03-31            30347.665"
      ]
     },
     "execution_count": 4,
     "metadata": {},
     "output_type": "execute_result"
    }
   ],
   "source": [
    "# Sample intermediate files for testing: \n",
    "all_fuels = '../data/02_intermediate/Net_Gen_By_Fuel_MWh/AL/Net_Gen_By_Fuel_MWh-all_fuels.csv'\n",
    "coal = '../data/02_intermediate/Net_Gen_By_Fuel_MWh/AL/Net_Gen_By_Fuel_MWh-coal.csv'\n",
    "\n",
    "df_all_fuels = pd.read_csv(all_fuels)\n",
    "df_coal = pd.read_csv(coal)\n",
    "df_all_fuels.head()"
   ]
  },
  {
   "cell_type": "code",
   "execution_count": 5,
   "id": "b075c824-089c-4d73-9c69-919075e77d65",
   "metadata": {},
   "outputs": [
    {
     "data": {
      "text/plain": [
       "(84, 2)"
      ]
     },
     "execution_count": 5,
     "metadata": {},
     "output_type": "execute_result"
    }
   ],
   "source": [
    "# Kats requires date field to be called 'time' \n",
    "df_all_fuels.columns = ['time', 'value']\n",
    "df_coal.columns = ['time', 'value']\n",
    "df_coal.shape"
   ]
  },
  {
   "cell_type": "code",
   "execution_count": 6,
   "id": "fe680fc8-2bb4-4c09-9a24-021a65d0719e",
   "metadata": {},
   "outputs": [
    {
     "data": {
      "text/plain": [
       "kats.consts.TimeSeriesData"
      ]
     },
     "execution_count": 6,
     "metadata": {},
     "output_type": "execute_result"
    }
   ],
   "source": [
    "from kats.consts import TimeSeriesData\n",
    "df_coal_ts = TimeSeriesData(df_coal)\n",
    "type(df_coal_ts)\n",
    "# len(df_coal_ts)"
   ]
  },
  {
   "cell_type": "code",
   "execution_count": 7,
   "id": "d3ba66ba-e8ed-4b91-a03a-3fb634b3874b",
   "metadata": {},
   "outputs": [
    {
     "name": "stderr",
     "output_type": "stream",
     "text": [
      "2022-03-03 18:50:47,926 - Plotting time series\n"
     ]
    },
    {
     "data": {
      "image/png": "[encoded data removed]",
      "text/plain": [
       "<Figure size 720x432 with 1 Axes>"
      ]
     },
     "metadata": {},
     "output_type": "display_data"
    }
   ],
   "source": [
    "df_coal_ts.plot(cols=['value'])"
   ]
  },
  {
   "cell_type": "code",
   "execution_count": null,
   "id": "b1af2652-206e-4619-b978-e65b405214a0",
   "metadata": {},
   "outputs": [],
   "source": [
    "# import the param and model classes for Prophet model\n",
    "from kats.models.prophet import ProphetModel, ProphetParams\n",
    "\n",
    "# create a model param instance\n",
    "params = ProphetParams() # additive mode gives worse results\n",
    "\n",
    "# create a prophet model instance\n",
    "m = ProphetModel(df_coal_ts, params)\n",
    "\n",
    "# fit model simply by calling m.fit()\n",
    "m.fit()\n",
    "\n",
    "# make prediction for next 30 month\n",
    "# fcst = m.predict(steps=30, freq=\"Q\")"
   ]
  },
  {
   "cell_type": "code",
   "execution_count": null,
   "id": "9747a2b5-1254-483a-970b-cb273e47f256",
   "metadata": {},
   "outputs": [],
   "source": [
    "# make prediction for next 30 month\n",
    "fcst = m.predict(steps=30, freq=\"Q\")"
   ]
  }
 ],
 "metadata": {
  "kernelspec": {
   "display_name": "Python 3 (ipykernel)",
   "language": "python",
   "name": "python3"
  },
  "language_info": {
   "codemirror_mode": {
    "name": "ipython",
    "version": 3
   },
   "file_extension": ".py",
   "mimetype": "text/x-python",
   "name": "python",
   "nbconvert_exporter": "python",
   "pygments_lexer": "ipython3",
   "version": "3.8.12"
  }
 },
 "nbformat": 4,
 "nbformat_minor": 5
}
