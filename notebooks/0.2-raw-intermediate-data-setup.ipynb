{
 "cells": [
  {
   "cell_type": "code",
   "execution_count": 1,
   "id": "d1361272-80ff-4284-9ab2-5983f6ee4bad",
   "metadata": {},
   "outputs": [],
   "source": [
    "import pandas as pd\n",
    "import eia\n",
    "import requests\n",
    "import json\n",
    "import yaml\n",
    "from prophet import Prophet\n",
    "\n",
    "# Definitions\n",
    "pd.set_option('display.float_format', lambda x: '{:.3f}'.format(x)) #Limiting floats output to 3 decimal points\n",
    "pd.set_option('display.max_columns', 100)    #Display upto 100 columns \n",
    "pd.set_option('display.max_rows', 100) \n",
    "%matplotlib inline\n",
    "\n",
    "# Suppress warnings \n",
    "import warnings\n",
    "warnings.filterwarnings('ignore')   \n",
    "\n",
    "# OPTIONAL: Load the \"autoreload\" extension so that code can change\n",
    "%load_ext autoreload\n",
    "\n",
    "# OPTIONAL: always reload modules so that as you change code in src, it gets loaded\n",
    "%autoreload 2"
   ]
  },
  {
   "cell_type": "code",
   "execution_count": 2,
   "id": "77f165b7-7ca4-4f4a-859e-0010c27f4498",
   "metadata": {},
   "outputs": [],
   "source": [
    "# To be able to pull modules from src folder \n",
    "import os\n",
    "import sys\n",
    "src_dir = os.path.join(os.getcwd(), '..', 'src')\n",
    "sys.path.append(src_dir)"
   ]
  },
  {
   "cell_type": "markdown",
   "id": "ea72134d-b796-4b22-8193-f6da7d779ac1",
   "metadata": {},
   "source": [
    "## Pulling Raw Data \n",
    "So far, this pulls raw data for Total Net Generation from EIA API for all states in yaml. Eventually this will be extended to pull more types of data (such as generation by fuels, btu consumption by fuel, etc.) "
   ]
  },
  {
   "cell_type": "code",
   "execution_count": 3,
   "id": "8a388d22-c56b-4dfa-b598-73978a2d709c",
   "metadata": {},
   "outputs": [
    {
     "name": "stderr",
     "output_type": "stream",
     "text": [
      "2022-02-25 10:56:51,610 - Finding .env file to load entries as environment variables...\n",
      "2022-02-25 10:56:51,614 - Finished loading environment variables.\n",
      "2022-02-25 10:56:51,615 - Starting Raw Data Pull using EIA API...\n",
      "2022-02-25 10:56:52,440 - Finished Raw Data Pull as JSON files.\n",
      "2022-02-25 10:56:52,441 - Creating Intermediate Data...\n",
      "2022-02-25 10:56:52,896 - Finished Creating Intermediate Data CSVs.\n"
     ]
    }
   ],
   "source": [
    "from d00_utils.utils import setup_env_vars\n",
    "from d01_data.get_raw_data import load_data\n",
    "\n",
    "setup_env_vars()\n",
    "load_data()"
   ]
  },
  {
   "cell_type": "markdown",
   "id": "c31469d5-0f77-4a46-836b-165f5414f741",
   "metadata": {},
   "source": [
    "## Intermediate / Processed Data"
   ]
  },
  {
   "cell_type": "code",
   "execution_count": 4,
   "id": "87ea9e5c-eb6f-4b23-a870-fa33d977100e",
   "metadata": {},
   "outputs": [],
   "source": [
    "YML_FILE_PATH = os.path.join(os.getcwd(), '../conf/base/', 'states.yml')\n",
    "RAW_DATA_FOLDER = os.path.join(os.getcwd(), '../data/01_raw/')\n",
    "INTERMEDIATE_DATA_FOLDER = os.path.join(os.getcwd(), '../data/02_intermediate/')\n",
    "\n",
    "net_gen_ID = 'ELEC.GEN.ALL-{}-99.Q'\n",
    "file_name = 'Net_Gen_By_State/net_generation_{}.{}'\n",
    "\n",
    "def get_states_yml():\n",
    "    states_yaml = open(YML_FILE_PATH)\n",
    "    return yaml.load(states_yaml, Loader=yaml.FullLoader)"
   ]
  },
  {
   "cell_type": "code",
   "execution_count": 5,
   "id": "07f47253-5d0b-4327-a1b1-90407fd50022",
   "metadata": {},
   "outputs": [
    {
     "data": {
      "text/plain": [
       "['AL', 'AR']"
      ]
     },
     "execution_count": 5,
     "metadata": {},
     "output_type": "execute_result"
    }
   ],
   "source": [
    "states = get_states_yml()\n",
    "states"
   ]
  },
  {
   "cell_type": "code",
   "execution_count": 92,
   "id": "fc4ea708-7834-464b-b5a4-585aa0c9ccc6",
   "metadata": {},
   "outputs": [],
   "source": [
    "raw_file_path = os.path.join(RAW_DATA_FOLDER, file_name)\n",
    "intermediate_file_path = os.path.join(INTERMEDIATE_DATA_FOLDER, file_name)\n",
    "\n",
    "for state in states: \n",
    "    with open(raw_file_path.format(state, 'json'), 'r') as f:\n",
    "        json_data = json.load(f)\n",
    "        df = pd.DataFrame(json_data['series'][0]['data'])\n",
    "        df.columns=[\"date\", \"net_generation\"]\n",
    "        \n",
    "        # Convert year_quarter (2021Q3) into date ('2021-09-30) format \n",
    "        qs = df['date'].str.replace(r'(\\d+)(Q\\d)', r'\\1-\\2') \n",
    "        df['date'] = pd.PeriodIndex(qs, freq='Q').to_timestamp() \n",
    "        df['date'] = df['date'] + pd.offsets.QuarterEnd(0)\n",
    "        # df.to_csv(intermediate_file_path.format(state, 'csv'), index=False)\n",
    "        df.to_csv('test_intermediate_{}.csv'.format(state), index=False, date_format='%Y-%m-%d')"
   ]
  },
  {
   "cell_type": "markdown",
   "id": "835dfa94-8598-4cfb-90db-f41db0cd4350",
   "metadata": {},
   "source": [
    "## Processed Data\n",
    "\n",
    "Take intermediate data and perform any required preprocessing to get data ready for model training and testing "
   ]
  },
  {
   "cell_type": "code",
   "execution_count": 90,
   "id": "3b2f9b67-3e5e-4e69-adcf-b2d022046c9d",
   "metadata": {},
   "outputs": [
    {
     "data": {
      "text/html": [
       "<div>\n",
       "<style scoped>\n",
       "    .dataframe tbody tr th:only-of-type {\n",
       "        vertical-align: middle;\n",
       "    }\n",
       "\n",
       "    .dataframe tbody tr th {\n",
       "        vertical-align: top;\n",
       "    }\n",
       "\n",
       "    .dataframe thead th {\n",
       "        text-align: right;\n",
       "    }\n",
       "</style>\n",
       "<table border=\"1\" class=\"dataframe\">\n",
       "  <thead>\n",
       "    <tr style=\"text-align: right;\">\n",
       "      <th></th>\n",
       "      <th>date</th>\n",
       "      <th>net_generation</th>\n",
       "    </tr>\n",
       "  </thead>\n",
       "  <tbody>\n",
       "    <tr>\n",
       "      <th>0</th>\n",
       "      <td>2021-09-30</td>\n",
       "      <td>39835.274</td>\n",
       "    </tr>\n",
       "    <tr>\n",
       "      <th>1</th>\n",
       "      <td>2021-06-30</td>\n",
       "      <td>32450.840</td>\n",
       "    </tr>\n",
       "    <tr>\n",
       "      <th>2</th>\n",
       "      <td>2021-03-31</td>\n",
       "      <td>34144.667</td>\n",
       "    </tr>\n",
       "    <tr>\n",
       "      <th>3</th>\n",
       "      <td>2020-12-31</td>\n",
       "      <td>32301.295</td>\n",
       "    </tr>\n",
       "    <tr>\n",
       "      <th>4</th>\n",
       "      <td>2020-09-30</td>\n",
       "      <td>39516.706</td>\n",
       "    </tr>\n",
       "  </tbody>\n",
       "</table>\n",
       "</div>"
      ],
      "text/plain": [
       "        date  net_generation\n",
       "0 2021-09-30       39835.274\n",
       "1 2021-06-30       32450.840\n",
       "2 2021-03-31       34144.667\n",
       "3 2020-12-31       32301.295\n",
       "4 2020-09-30       39516.706"
      ]
     },
     "execution_count": 90,
     "metadata": {},
     "output_type": "execute_result"
    }
   ],
   "source": [
    "from pandas import to_datetime\n",
    "test_df_AL = pd.read_csv('test_intermediate_AL.csv')\n",
    "test_df_AL['date'] = to_datetime(test_df_AL['date'])\n",
    "# test_df_AL.plot('date','net_generation')\n",
    "# test_df_AL.info()\n",
    "test_df_AL.head()"
   ]
  },
  {
   "cell_type": "code",
   "execution_count": null,
   "id": "a828fd41-22f0-438f-aa14-0ff9121703b2",
   "metadata": {},
   "outputs": [],
   "source": [
    "test_df_AL.columns = ['ds', 'y']\n",
    "test_df_AL"
   ]
  },
  {
   "cell_type": "markdown",
   "id": "61f94b09-0a5d-40c5-86a7-fcae6c9cb197",
   "metadata": {},
   "source": [
    "### Test completed pipeline so far "
   ]
  },
  {
   "cell_type": "code",
   "execution_count": 93,
   "id": "4f0c24ad-62a9-445b-9097-10ba6f8715d2",
   "metadata": {},
   "outputs": [
    {
     "name": "stderr",
     "output_type": "stream",
     "text": [
      "2022-02-25 14:04:41,143 - Finding .env file to load entries as environment variables...\n",
      "2022-02-25 14:04:41,146 - Finished loading environment variables.\n",
      "2022-02-25 14:04:41,147 - Starting Raw Data Pull using EIA API...\n",
      "2022-02-25 14:04:41,887 - Finished Raw Data Pull as JSON files.\n",
      "2022-02-25 14:04:41,888 - Creating Intermediate Data...\n",
      "2022-02-25 14:04:41,910 - Finished Creating Intermediate Data CSVs.\n",
      "2022-02-25 14:04:41,911 - Creating Processed Data for model inputs...\n",
      "2022-02-25 14:04:41,927 - Finished creating processed data.\n"
     ]
    }
   ],
   "source": [
    "from d00_utils.utils import setup_env_vars\n",
    "from d01_data.get_raw_data import load_data\n",
    "from d03_processing.create_model_input import process_data\n",
    "\n",
    "setup_env_vars()\n",
    "load_data()\n",
    "process_data()"
   ]
  },
  {
   "cell_type": "markdown",
   "id": "31146869-606a-4f87-977c-837160e7b4fe",
   "metadata": {},
   "source": [
    "## Prophet Training"
   ]
  },
  {
   "cell_type": "code",
   "execution_count": 75,
   "id": "0d6d3d46-4728-4c82-831d-ba4ef47392ff",
   "metadata": {
    "scrolled": true,
    "tags": []
   },
   "outputs": [
    {
     "name": "stderr",
     "output_type": "stream",
     "text": [
      "2022-02-25 11:46:16,434 - Disabling weekly seasonality. Run prophet with weekly_seasonality=True to override this.\n",
      "2022-02-25 11:46:16,435 - Disabling daily seasonality. Run prophet with daily_seasonality=True to override this.\n"
     ]
    },
    {
     "name": "stdout",
     "output_type": "stream",
     "text": [
      "\n"
     ]
    },
    {
     "data": {
      "text/plain": [
       "<prophet.forecaster.Prophet at 0x7f924f771bb0>"
      ]
     },
     "execution_count": 75,
     "metadata": {},
     "output_type": "execute_result"
    },
    {
     "name": "stdout",
     "output_type": "stream",
     "text": [
      "Initial log joint probability = -90.7397\n",
      "Iteration  1. Log joint probability =     101.09. Improved by 191.83.\n",
      "Iteration  2. Log joint probability =    152.338. Improved by 51.2477.\n",
      "Iteration  3. Log joint probability =    202.528. Improved by 50.1907.\n",
      "Iteration  4. Log joint probability =    219.155. Improved by 16.6265.\n",
      "Iteration  5. Log joint probability =    219.197. Improved by 0.0424827.\n",
      "Iteration  6. Log joint probability =    223.349. Improved by 4.15211.\n",
      "Iteration  7. Log joint probability =    224.007. Improved by 0.657233.\n",
      "Iteration  8. Log joint probability =    226.755. Improved by 2.74808.\n",
      "Iteration  9. Log joint probability =    238.052. Improved by 11.2974.\n",
      "Iteration 10. Log joint probability =     243.12. Improved by 5.06797.\n",
      "Iteration 11. Log joint probability =    243.281. Improved by 0.161307.\n",
      "Iteration 12. Log joint probability =    245.026. Improved by 1.74467.\n",
      "Iteration 13. Log joint probability =    247.957. Improved by 2.93105.\n",
      "Iteration 14. Log joint probability =     248.17. Improved by 0.212521.\n",
      "Iteration 15. Log joint probability =    248.302. Improved by 0.132497.\n",
      "Iteration 16. Log joint probability =    248.437. Improved by 0.134761.\n",
      "Iteration 17. Log joint probability =    249.118. Improved by 0.680929.\n",
      "Iteration 18. Log joint probability =    249.206. Improved by 0.088314.\n",
      "Iteration 19. Log joint probability =    249.321. Improved by 0.115219.\n",
      "Iteration 20. Log joint probability =    249.403. Improved by 0.0811684.\n",
      "Iteration 21. Log joint probability =    249.513. Improved by 0.110473.\n",
      "Iteration 22. Log joint probability =    249.925. Improved by 0.411866.\n",
      "Iteration 23. Log joint probability =    250.604. Improved by 0.678791.\n",
      "Iteration 24. Log joint probability =    250.796. Improved by 0.192717.\n",
      "Iteration 25. Log joint probability =    251.118. Improved by 0.322003.\n",
      "Iteration 26. Log joint probability =    251.288. Improved by 0.170066.\n",
      "Iteration 27. Log joint probability =     251.62. Improved by 0.331197.\n",
      "Iteration 28. Log joint probability =    251.765. Improved by 0.145756.\n",
      "Iteration 29. Log joint probability =     252.11. Improved by 0.344097.\n",
      "Iteration 30. Log joint probability =    252.228. Improved by 0.118556.\n",
      "Iteration 31. Log joint probability =    252.579. Improved by 0.351347.\n",
      "Iteration 32. Log joint probability =    252.651. Improved by 0.0716026.\n",
      "Iteration 33. Log joint probability =    253.035. Improved by 0.383494.\n",
      "Iteration 34. Log joint probability =    253.063. Improved by 0.0279948.\n",
      "Iteration 35. Log joint probability =    253.481. Improved by 0.418016.\n",
      "Iteration 36. Log joint probability =    253.701. Improved by 0.220006.\n",
      "Iteration 37. Log joint probability =    253.701. Improved by 0.00065121.\n",
      "Iteration 38. Log joint probability =    253.895. Improved by 0.194194.\n",
      "Iteration 39. Log joint probability =    253.918. Improved by 0.0229349.\n",
      "Iteration 40. Log joint probability =    254.086. Improved by 0.167367.\n",
      "Iteration 41. Log joint probability =    254.131. Improved by 0.0453223.\n",
      "Iteration 42. Log joint probability =    254.273. Improved by 0.142236.\n",
      "Iteration 43. Log joint probability =    254.342. Improved by 0.06831.\n",
      "Iteration 44. Log joint probability =    254.458. Improved by 0.116851.\n",
      "Iteration 45. Log joint probability =     254.55. Improved by 0.0917887.\n",
      "Iteration 46. Log joint probability =    254.641. Improved by 0.0910891.\n",
      "Iteration 47. Log joint probability =    254.757. Improved by 0.115614.\n",
      "Iteration 48. Log joint probability =    254.822. Improved by 0.0649518.\n",
      "Iteration 49. Log joint probability =    254.922. Improved by 0.100301.\n",
      "Iteration 50. Log joint probability =    255.206. Improved by 0.283953.\n",
      "Iteration 51. Log joint probability =    255.292. Improved by 0.085546.\n",
      "Iteration 52. Log joint probability =    255.312. Improved by 0.0207372.\n",
      "Iteration 53. Log joint probability =    255.465. Improved by 0.152264.\n",
      "Iteration 54. Log joint probability =    255.483. Improved by 0.0184155.\n",
      "Iteration 55. Log joint probability =    255.922. Improved by 0.438751.\n",
      "Iteration 56. Log joint probability =    256.018. Improved by 0.0962032.\n",
      "Iteration 57. Log joint probability =    256.041. Improved by 0.0233409.\n",
      "Iteration 58. Log joint probability =     256.14. Improved by 0.0981565.\n",
      "Iteration 59. Log joint probability =    256.282. Improved by 0.142513.\n",
      "Iteration 60. Log joint probability =    256.397. Improved by 0.114634.\n",
      "Iteration 61. Log joint probability =    256.406. Improved by 0.00926306.\n",
      "Iteration 62. Log joint probability =    256.833. Improved by 0.426899.\n",
      "Iteration 63. Log joint probability =    256.866. Improved by 0.033603.\n",
      "Iteration 64. Log joint probability =    256.868. Improved by 0.00153405.\n",
      "Iteration 65. Log joint probability =    257.018. Improved by 0.150027.\n",
      "Iteration 66. Log joint probability =    257.027. Improved by 0.00903246.\n",
      "Iteration 67. Log joint probability =    257.061. Improved by 0.0338657.\n",
      "Iteration 68. Log joint probability =    257.099. Improved by 0.0382771.\n",
      "Iteration 69. Log joint probability =    257.108. Improved by 0.00840178.\n",
      "Iteration 70. Log joint probability =    257.122. Improved by 0.0145539.\n",
      "Iteration 71. Log joint probability =    257.122. Improved by 0.000124447.\n",
      "Iteration 72. Log joint probability =    257.124. Improved by 0.00202436.\n",
      "Iteration 73. Log joint probability =    257.131. Improved by 0.00655818.\n",
      "Iteration 74. Log joint probability =    257.134. Improved by 0.00330935.\n",
      "Iteration 75. Log joint probability =    257.138. Improved by 0.00344455.\n",
      "Iteration 76. Log joint probability =    257.139. Improved by 0.00143474.\n",
      "Iteration 77. Log joint probability =     257.14. Improved by 0.000862534.\n",
      "Iteration 78. Log joint probability =    257.141. Improved by 0.000945964.\n",
      "Iteration 79. Log joint probability =    257.146. Improved by 0.00534365.\n",
      "Iteration 80. Log joint probability =    257.148. Improved by 0.00156312.\n",
      "Iteration 81. Log joint probability =    257.148. Improved by 0.000502783.\n",
      "Iteration 82. Log joint probability =    257.149. Improved by 0.00104505.\n",
      "Iteration 83. Log joint probability =    257.149. Improved by 0.000145702.\n",
      "Iteration 84. Log joint probability =     257.15. Improved by 0.000166972.\n",
      "Iteration 85. Log joint probability =     257.15. Improved by 0.000356966.\n",
      "Iteration 86. Log joint probability =     257.15. Improved by 0.000329468.\n",
      "Iteration 87. Log joint probability =    257.151. Improved by 0.000336377.\n",
      "Iteration 88. Log joint probability =    257.151. Improved by 0.0002952.\n",
      "Iteration 89. Log joint probability =    257.151. Improved by 0.000176184.\n",
      "Iteration 90. Log joint probability =    257.151. Improved by 5.08723e-05.\n",
      "Iteration 91. Log joint probability =    257.151. Improved by 9.27552e-05.\n",
      "Iteration 92. Log joint probability =    257.151. Improved by 5.42568e-05.\n",
      "Iteration 93. Log joint probability =    257.151. Improved by 7.51499e-05.\n",
      "Iteration 94. Log joint probability =    257.151. Improved by 2.68486e-05.\n",
      "Iteration 95. Log joint probability =    257.151. Improved by 3.34962e-05.\n",
      "Iteration 96. Log joint probability =    257.151. Improved by 1.35958e-05.\n",
      "Iteration 97. Log joint probability =    257.151. Improved by 3.29421e-05.\n",
      "Iteration 98. Log joint probability =    257.151. Improved by 2.2706e-05.\n",
      "Iteration 99. Log joint probability =    257.152. Improved by 1.10437e-05.\n",
      "Iteration 100. Log joint probability =    257.152. Improved by 6.50203e-06.\n",
      "Iteration 101. Log joint probability =    257.152. Improved by 1.53246e-05.\n",
      "Iteration 102. Log joint probability =    257.152. Improved by 6.52495e-06.\n",
      "Iteration 103. Log joint probability =    257.152. Improved by 8.44599e-07.\n",
      "Iteration 104. Log joint probability =    257.152. Improved by 9.77248e-06.\n",
      "Iteration 105. Log joint probability =    257.152. Improved by 2.17015e-05.\n",
      "Iteration 106. Log joint probability =    257.152. Improved by 5.42362e-06.\n",
      "Iteration 107. Log joint probability =    257.152. Improved by 8.60366e-06.\n",
      "Iteration 108. Log joint probability =    257.152. Improved by 1.72627e-06.\n",
      "Iteration 109. Log joint probability =    257.152. Improved by 7.09696e-06.\n",
      "Iteration 110. Log joint probability =    257.152. Improved by 1.81603e-06.\n",
      "Iteration 111. Log joint probability =    257.152. Improved by 9.86921e-06.\n",
      "Iteration 112. Log joint probability =    257.152. Improved by 6.11098e-06.\n",
      "Iteration 113. Log joint probability =    257.152. Improved by 9.90593e-07.\n",
      "Iteration 114. Log joint probability =    257.152. Improved by 3.65893e-06.\n",
      "Iteration 115. Log joint probability =    257.152. Improved by 3.42045e-06.\n",
      "Iteration 116. Log joint probability =    257.152. Improved by 2.38494e-06.\n",
      "Iteration 117. Log joint probability =    257.152. Improved by 1.50003e-06.\n",
      "Iteration 118. Log joint probability =    257.152. Improved by 3.02037e-06.\n",
      "Iteration 119. Log joint probability =    257.152. Improved by 3.19568e-07.\n",
      "Iteration 120. Log joint probability =    257.152. Improved by 6.97067e-07.\n",
      "Iteration 121. Log joint probability =    257.152. Improved by 4.02421e-07.\n",
      "Iteration 122. Log joint probability =    257.152. Improved by 2.64667e-07.\n",
      "Iteration 123. Log joint probability =    257.152. Improved by 6.47323e-07.\n",
      "Iteration 124. Log joint probability =    257.152. Improved by 2.28701e-07.\n",
      "Iteration 125. Log joint probability =    257.152. Improved by 5.01087e-07.\n",
      "Iteration 126. Log joint probability =    257.152. Improved by 6.75492e-08.\n",
      "Iteration 127. Log joint probability =    257.152. Improved by 7.17232e-07.\n",
      "Iteration 128. Log joint probability =    257.152. Improved by 1.04898e-07.\n",
      "Iteration 129. Log joint probability =    257.152. Improved by 6.92614e-08.\n",
      "Iteration 130. Log joint probability =    257.152. Improved by 2.20176e-07.\n",
      "Iteration 131. Log joint probability =    257.152. Improved by 3.09378e-07.\n",
      "Iteration 132. Log joint probability =    257.152. Improved by 4.76239e-07.\n",
      "Iteration 133. Log joint probability =    257.152. Improved by 3.48407e-07.\n",
      "Iteration 134. Log joint probability =    257.152. Improved by 1.66286e-07.\n",
      "Iteration 135. Log joint probability =    257.152. Improved by 2.58303e-07.\n",
      "Iteration 136. Log joint probability =    257.152. Improved by 1.58668e-07.\n",
      "Iteration 137. Log joint probability =    257.152. Improved by 1.17322e-07.\n",
      "Iteration 138. Log joint probability =    257.152. Improved by 8.7189e-08.\n",
      "Iteration 139. Log joint probability =    257.152. Improved by 8.37824e-08.\n",
      "Iteration 140. Log joint probability =    257.152. Improved by 7.89451e-08.\n",
      "Iteration 141. Log joint probability =    257.152. Improved by 5.70387e-08.\n",
      "Iteration 142. Log joint probability =    257.152. Improved by 7.28696e-08.\n",
      "Iteration 143. Log joint probability =    257.152. Improved by 8.99246e-08.\n",
      "Iteration 144. Log joint probability =    257.152. Improved by 1.02606e-07.\n",
      "Iteration 145. Log joint probability =    257.152. Improved by 1.07596e-07.\n",
      "Iteration 146. Log joint probability =    257.152. Improved by 3.62547e-08.\n",
      "Iteration 147. Log joint probability =    257.152. Improved by 3.24557e-08.\n",
      "Iteration 148. Log joint probability =    257.152. Improved by 2.83211e-08.\n",
      "Iteration 149. Log joint probability =    257.152. Improved by 4.94006e-08.\n",
      "Iteration 150. Log joint probability =    257.152. Improved by 4.06062e-08.\n",
      "Iteration 151. Log joint probability =    257.152. Improved by 2.24943e-08.\n",
      "Iteration 152. Log joint probability =    257.152. Improved by 4.52996e-08.\n",
      "Iteration 153. Log joint probability =    257.152. Improved by 1.9306e-08.\n",
      "Iteration 154. Log joint probability =    257.152. Improved by 1.03274e-07.\n",
      "Iteration 155. Log joint probability =    257.152. Improved by 2.87724e-09.\n"
     ]
    }
   ],
   "source": [
    "df = test_df_AL.rename(columns={'date':'ds', 'net_generation':'y'})\n",
    "m = Prophet()\n",
    "m.fit(df)"
   ]
  },
  {
   "cell_type": "markdown",
   "id": "a151b8a6-4042-4406-acdb-cdbd943e2fe6",
   "metadata": {},
   "source": [
    "### Save & Load Fitted Models "
   ]
  },
  {
   "cell_type": "code",
   "execution_count": null,
   "id": "c0213d10-31ba-4cc5-96d1-f2d4740c9361",
   "metadata": {},
   "outputs": [],
   "source": [
    "import json\n",
    "from prophet.serialize import model_to_json, model_from_json\n",
    "\n",
    "with open('serialized_model.json', 'w') as fout:\n",
    "    json.dump(model_to_json(m), fout)  # Save model\n",
    "\n",
    "with open('serialized_model.json', 'r') as fin:\n",
    "    m = model_from_json(json.load(fin))  # Load model\n"
   ]
  },
  {
   "cell_type": "markdown",
   "id": "a9cdee14-6738-4d3d-b902-9b0929f6057c",
   "metadata": {},
   "source": [
    "### Test completed pipeline with Prophet Training"
   ]
  },
  {
   "cell_type": "code",
   "execution_count": 95,
   "id": "87c5a84a-7645-479d-8446-043ed5191492",
   "metadata": {},
   "outputs": [
    {
     "name": "stderr",
     "output_type": "stream",
     "text": [
      "2022-02-25 14:22:55,631 - Finding .env file to load entries as environment variables...\n",
      "2022-02-25 14:22:55,634 - Finished loading environment variables.\n",
      "2022-02-25 14:22:55,635 - Starting Raw Data Pull using EIA API...\n",
      "2022-02-25 14:22:57,522 - Finished Raw Data Pull as JSON files.\n",
      "2022-02-25 14:22:57,523 - Creating Intermediate Data...\n",
      "2022-02-25 14:22:57,544 - Finished Creating Intermediate Data CSVs.\n",
      "2022-02-25 14:22:57,545 - Creating Processed Data for model inputs...\n",
      "2022-02-25 14:22:57,561 - Finished creating processed data.\n",
      "2022-02-25 14:22:57,562 - Training and Saving Prophet Models...\n",
      "2022-02-25 14:22:57,586 - Disabling weekly seasonality. Run prophet with weekly_seasonality=True to override this.\n",
      "2022-02-25 14:22:57,587 - Disabling daily seasonality. Run prophet with daily_seasonality=True to override this.\n",
      "2022-02-25 14:22:59,403 - Disabling weekly seasonality. Run prophet with weekly_seasonality=True to override this.\n",
      "2022-02-25 14:22:59,404 - Disabling daily seasonality. Run prophet with daily_seasonality=True to override this.\n",
      "2022-02-25 14:23:00,902 - Finished training Prophet models.\n"
     ]
    }
   ],
   "source": [
    "from d00_utils.utils import setup_env_vars\n",
    "from d01_data.get_raw_data import load_data\n",
    "from d03_processing.create_model_input import process_data\n",
    "from d04_modelling.create_prophet_models import train_models\n",
    "\n",
    "setup_env_vars()\n",
    "load_data()\n",
    "process_data()\n",
    "train_models()"
   ]
  },
  {
   "cell_type": "markdown",
   "id": "23f9a63a-20bc-40b1-8cdd-c54c5466ed85",
   "metadata": {},
   "source": [
    "## Model Predictions and Outputs "
   ]
  },
  {
   "cell_type": "code",
   "execution_count": 76,
   "id": "44d4fb01-e8e2-455d-a89e-ebbc9137567d",
   "metadata": {
    "scrolled": true,
    "tags": []
   },
   "outputs": [
    {
     "data": {
      "text/html": [
       "<div>\n",
       "<style scoped>\n",
       "    .dataframe tbody tr th:only-of-type {\n",
       "        vertical-align: middle;\n",
       "    }\n",
       "\n",
       "    .dataframe tbody tr th {\n",
       "        vertical-align: top;\n",
       "    }\n",
       "\n",
       "    .dataframe thead th {\n",
       "        text-align: right;\n",
       "    }\n",
       "</style>\n",
       "<table border=\"1\" class=\"dataframe\">\n",
       "  <thead>\n",
       "    <tr style=\"text-align: right;\">\n",
       "      <th></th>\n",
       "      <th>ds</th>\n",
       "    </tr>\n",
       "  </thead>\n",
       "  <tbody>\n",
       "    <tr>\n",
       "      <th>94</th>\n",
       "      <td>2024-09-30</td>\n",
       "    </tr>\n",
       "    <tr>\n",
       "      <th>95</th>\n",
       "      <td>2024-12-31</td>\n",
       "    </tr>\n",
       "    <tr>\n",
       "      <th>96</th>\n",
       "      <td>2025-03-31</td>\n",
       "    </tr>\n",
       "    <tr>\n",
       "      <th>97</th>\n",
       "      <td>2025-06-30</td>\n",
       "    </tr>\n",
       "    <tr>\n",
       "      <th>98</th>\n",
       "      <td>2025-09-30</td>\n",
       "    </tr>\n",
       "  </tbody>\n",
       "</table>\n",
       "</div>"
      ],
      "text/plain": [
       "           ds\n",
       "94 2024-09-30\n",
       "95 2024-12-31\n",
       "96 2025-03-31\n",
       "97 2025-06-30\n",
       "98 2025-09-30"
      ]
     },
     "execution_count": 76,
     "metadata": {},
     "output_type": "execute_result"
    }
   ],
   "source": [
    "# Makes a dataframe with both historical dates and appended future dates for number of periods specified\n",
    "future = m.make_future_dataframe(periods=16, freq='Q')\n",
    "future.tail()"
   ]
  },
  {
   "cell_type": "code",
   "execution_count": 102,
   "id": "29ddcf89-1e91-4199-b23d-5de0f6b4be4c",
   "metadata": {},
   "outputs": [
    {
     "data": {
      "text/html": [
       "<div>\n",
       "<style scoped>\n",
       "    .dataframe tbody tr th:only-of-type {\n",
       "        vertical-align: middle;\n",
       "    }\n",
       "\n",
       "    .dataframe tbody tr th {\n",
       "        vertical-align: top;\n",
       "    }\n",
       "\n",
       "    .dataframe thead th {\n",
       "        text-align: right;\n",
       "    }\n",
       "</style>\n",
       "<table border=\"1\" class=\"dataframe\">\n",
       "  <thead>\n",
       "    <tr style=\"text-align: right;\">\n",
       "      <th></th>\n",
       "      <th>ds</th>\n",
       "      <th>yhat</th>\n",
       "      <th>yhat_lower</th>\n",
       "      <th>yhat_upper</th>\n",
       "    </tr>\n",
       "  </thead>\n",
       "  <tbody>\n",
       "    <tr>\n",
       "      <th>94</th>\n",
       "      <td>2024-09-30</td>\n",
       "      <td>37604.705</td>\n",
       "      <td>36265.545</td>\n",
       "      <td>38952.595</td>\n",
       "    </tr>\n",
       "    <tr>\n",
       "      <th>95</th>\n",
       "      <td>2024-12-31</td>\n",
       "      <td>31065.140</td>\n",
       "      <td>29679.571</td>\n",
       "      <td>32390.460</td>\n",
       "    </tr>\n",
       "    <tr>\n",
       "      <th>96</th>\n",
       "      <td>2025-03-31</td>\n",
       "      <td>31725.660</td>\n",
       "      <td>30412.247</td>\n",
       "      <td>33075.554</td>\n",
       "    </tr>\n",
       "    <tr>\n",
       "      <th>97</th>\n",
       "      <td>2025-06-30</td>\n",
       "      <td>31488.515</td>\n",
       "      <td>29993.626</td>\n",
       "      <td>32895.137</td>\n",
       "    </tr>\n",
       "    <tr>\n",
       "      <th>98</th>\n",
       "      <td>2025-09-30</td>\n",
       "      <td>36666.583</td>\n",
       "      <td>35188.110</td>\n",
       "      <td>38039.695</td>\n",
       "    </tr>\n",
       "  </tbody>\n",
       "</table>\n",
       "</div>"
      ],
      "text/plain": [
       "           ds      yhat  yhat_lower  yhat_upper\n",
       "94 2024-09-30 37604.705   36265.545   38952.595\n",
       "95 2024-12-31 31065.140   29679.571   32390.460\n",
       "96 2025-03-31 31725.660   30412.247   33075.554\n",
       "97 2025-06-30 31488.515   29993.626   32895.137\n",
       "98 2025-09-30 36666.583   35188.110   38039.695"
      ]
     },
     "execution_count": 102,
     "metadata": {},
     "output_type": "execute_result"
    }
   ],
   "source": [
    "forecast = m.predict(future)\n",
    "forecast[['ds', 'yhat', 'yhat_lower', 'yhat_upper']].tail()"
   ]
  },
  {
   "cell_type": "markdown",
   "id": "fcb1bb3c-4606-4457-a6ad-88f6a6df2ee6",
   "metadata": {},
   "source": [
    "### Test completed pipeline with Model Forecasting"
   ]
  },
  {
   "cell_type": "code",
   "execution_count": 103,
   "id": "2371152a-d648-4632-8a34-c78e72ded5cb",
   "metadata": {},
   "outputs": [
    {
     "name": "stderr",
     "output_type": "stream",
     "text": [
      "2022-02-25 14:54:06,858 - Finding .env file to load entries as environment variables...\n",
      "2022-02-25 14:54:06,861 - Finished loading environment variables.\n",
      "2022-02-25 14:54:06,862 - Starting Raw Data Pull using EIA API...\n",
      "2022-02-25 14:54:07,406 - Finished Raw Data Pull as JSON files.\n",
      "2022-02-25 14:54:07,407 - Creating Intermediate Data...\n",
      "2022-02-25 14:54:07,429 - Finished Creating Intermediate Data CSVs.\n",
      "2022-02-25 14:54:07,430 - Creating Processed Data for model inputs...\n",
      "2022-02-25 14:54:07,447 - Finished creating processed data.\n",
      "2022-02-25 14:54:07,448 - Training and Saving Prophet Models...\n",
      "2022-02-25 14:54:07,470 - Disabling weekly seasonality. Run prophet with weekly_seasonality=True to override this.\n",
      "2022-02-25 14:54:07,471 - Disabling daily seasonality. Run prophet with daily_seasonality=True to override this.\n",
      "2022-02-25 14:54:09,230 - Disabling weekly seasonality. Run prophet with weekly_seasonality=True to override this.\n",
      "2022-02-25 14:54:09,230 - Disabling daily seasonality. Run prophet with daily_seasonality=True to override this.\n",
      "2022-02-25 14:54:10,705 - Finished training Prophet models.\n",
      "2022-02-25 14:54:10,706 - Creating forecasts using trained Prophet models...\n",
      "2022-02-25 14:54:14,503 - Finished creating forecasts.\n"
     ]
    }
   ],
   "source": [
    "from d00_utils.utils import setup_env_vars\n",
    "from d01_data.get_raw_data import load_data\n",
    "from d03_processing.create_model_input import process_data\n",
    "from d04_modelling.create_prophet_models import train_models\n",
    "from d06_reporting.create_forecasts import create_forecasts\n",
    "\n",
    "setup_env_vars()\n",
    "load_data()\n",
    "process_data()\n",
    "train_models()\n",
    "create_forecasts()"
   ]
  },
  {
   "cell_type": "markdown",
   "id": "4d07a940-5275-4a67-a6eb-558e141acda9",
   "metadata": {},
   "source": [
    "## Forecast Plots "
   ]
  },
  {
   "cell_type": "code",
   "execution_count": 78,
   "id": "eb41f464-2115-470b-a77f-b0a545d8b890",
   "metadata": {},
   "outputs": [
    {
     "data": {
      "image/png": "[encoded data removed]",
      "text/plain": [
       "<Figure size 720x432 with 1 Axes>"
      ]
     },
     "metadata": {},
     "output_type": "display_data"
    }
   ],
   "source": [
    "# Non-interactive plots\n",
    "fig1 = m.plot(forecast)\n",
    "# fig2 = m.plot_components(forecast)"
   ]
  },
  {
   "cell_type": "code",
   "execution_count": 99,
   "id": "6bc1be27-8775-4e41-96a6-90be3f95fe3b",
   "metadata": {},
   "outputs": [
    {
     "data": {
      "application/vnd.plotly.v1+json": {
       "config": {
        "plotlyServerURL": "https://plot.ly"
       },
       "data": [
        {
         "marker": {
          "color": "black",
          "size": 4
         },
         "mode": "markers",
         "name": "Actual",
         "type": "scatter",
         "x": [
          "2001-03-31T00:00:00",
          "2001-06-30T00:00:00",
          "2001-09-30T00:00:00",
          "2001-12-31T00:00:00",
          "2002-03-31T00:00:00",
          "2002-06-30T00:00:00",
          "2002-09-30T00:00:00",
          "2002-12-31T00:00:00",
          "2003-03-31T00:00:00",
          "2003-06-30T00:00:00",
          "2003-09-30T00:00:00",
          "2003-12-31T00:00:00",
          "2004-03-31T00:00:00",
          "2004-06-30T00:00:00",
          "2004-09-30T00:00:00",
          "2004-12-31T00:00:00",
          "2005-03-31T00:00:00",
          "2005-06-30T00:00:00",
          "2005-09-30T00:00:00",
          "2005-12-31T00:00:00",
          "2006-03-31T00:00:00",
          "2006-06-30T00:00:00",
          "2006-09-30T00:00:00",
          "2006-12-31T00:00:00",
          "2007-03-31T00:00:00",
          "2007-06-30T00:00:00",
          "2007-09-30T00:00:00",
          "2007-12-31T00:00:00",
          "2008-03-31T00:00:00",
          "2008-06-30T00:00:00",
          "2008-09-30T00:00:00",
          "2008-12-31T00:00:00",
          "2009-03-31T00:00:00",
          "2009-06-30T00:00:00",
          "2009-09-30T00:00:00",
          "2009-12-31T00:00:00",
          "2010-03-31T00:00:00",
          "2010-06-30T00:00:00",
          "2010-09-30T00:00:00",
          "2010-12-31T00:00:00",
          "2011-03-31T00:00:00",
          "2011-06-30T00:00:00",
          "2011-09-30T00:00:00",
          "2011-12-31T00:00:00",
          "2012-03-31T00:00:00",
          "2012-06-30T00:00:00",
          "2012-09-30T00:00:00",
          "2012-12-31T00:00:00",
          "2013-03-31T00:00:00",
          "2013-06-30T00:00:00",
          "2013-09-30T00:00:00",
          "2013-12-31T00:00:00",
          "2014-03-31T00:00:00",
          "2014-06-30T00:00:00",
          "2014-09-30T00:00:00",
          "2014-12-31T00:00:00",
          "2015-03-31T00:00:00",
          "2015-06-30T00:00:00",
          "2015-09-30T00:00:00",
          "2015-12-31T00:00:00",
          "2016-03-31T00:00:00",
          "2016-06-30T00:00:00",
          "2016-09-30T00:00:00",
          "2016-12-31T00:00:00",
          "2017-03-31T00:00:00",
          "2017-06-30T00:00:00",
          "2017-09-30T00:00:00",
          "2017-12-31T00:00:00",
          "2018-03-31T00:00:00",
          "2018-06-30T00:00:00",
          "2018-09-30T00:00:00",
          "2018-12-31T00:00:00",
          "2019-03-31T00:00:00",
          "2019-06-30T00:00:00",
          "2019-09-30T00:00:00",
          "2019-12-31T00:00:00",
          "2020-03-31T00:00:00",
          "2020-06-30T00:00:00",
          "2020-09-30T00:00:00",
          "2020-12-31T00:00:00",
          "2021-03-31T00:00:00",
          "2021-06-30T00:00:00",
          "2021-09-30T00:00:00"
         ],
         "y": [
          30267.126,
          28933.315,
          35618.737,
          30525.935,
          30347.665,
          31488.628,
          37561.015,
          33523.367,
          32468.699,
          33215.566,
          39400.514,
          32402.442,
          31886.37077,
          32978.85098,
          38387.41668,
          34102.13241,
          33690.58306,
          32630.45681,
          38984.46278,
          32643.07838,
          31123.33999,
          34773.31918,
          40173.95894,
          34824.8232,
          32812.05709,
          35295.47745,
          42192.89532,
          33525.84096,
          36226.79557,
          35509.96434,
          40024.67568,
          34108.45961,
          35796.01211,
          33147.14539,
          38571.43007,
          35740.96806,
          38222.43574,
          37603.66326,
          41017.16699,
          35307.24608,
          38532.49548,
          36158.73515,
          44137.25322,
          37510.72597,
          37236.44716,
          36158.93556,
          43653.88579,
          35829.41918,
          37697.2266,
          35763.43269,
          40366.46023,
          36745.80434,
          37349.98121,
          36377.50413,
          39830.24185,
          35782.7199,
          37491.7568,
          36417.33576,
          42097.26754,
          36471.06661,
          35435.00712,
          33223.48031,
          40915.04692,
          32811.56388,
          31972.62853,
          35230.11919,
          38957.85795,
          33803.64445,
          34245.41943,
          37009.62463,
          40964.80666,
          32838.14315,
          34411.35703,
          34542.70477,
          39742.9901,
          33982.38095,
          32912.42473,
          32812.27556,
          39516.70645,
          32301.2949,
          34144.66677,
          32450.84037,
          39835.27391
         ]
        },
        {
         "hoverinfo": "skip",
         "line": {
          "width": 0
         },
         "mode": "lines",
         "type": "scatter",
         "x": [
          "2001-03-31T00:00:00",
          "2001-06-30T00:00:00",
          "2001-09-30T00:00:00",
          "2001-12-31T00:00:00",
          "2002-03-31T00:00:00",
          "2002-06-30T00:00:00",
          "2002-09-30T00:00:00",
          "2002-12-31T00:00:00",
          "2003-03-31T00:00:00",
          "2003-06-30T00:00:00",
          "2003-09-30T00:00:00",
          "2003-12-31T00:00:00",
          "2004-03-31T00:00:00",
          "2004-06-30T00:00:00",
          "2004-09-30T00:00:00",
          "2004-12-31T00:00:00",
          "2005-03-31T00:00:00",
          "2005-06-30T00:00:00",
          "2005-09-30T00:00:00",
          "2005-12-31T00:00:00",
          "2006-03-31T00:00:00",
          "2006-06-30T00:00:00",
          "2006-09-30T00:00:00",
          "2006-12-31T00:00:00",
          "2007-03-31T00:00:00",
          "2007-06-30T00:00:00",
          "2007-09-30T00:00:00",
          "2007-12-31T00:00:00",
          "2008-03-31T00:00:00",
          "2008-06-30T00:00:00",
          "2008-09-30T00:00:00",
          "2008-12-31T00:00:00",
          "2009-03-31T00:00:00",
          "2009-06-30T00:00:00",
          "2009-09-30T00:00:00",
          "2009-12-31T00:00:00",
          "2010-03-31T00:00:00",
          "2010-06-30T00:00:00",
          "2010-09-30T00:00:00",
          "2010-12-31T00:00:00",
          "2011-03-31T00:00:00",
          "2011-06-30T00:00:00",
          "2011-09-30T00:00:00",
          "2011-12-31T00:00:00",
          "2012-03-31T00:00:00",
          "2012-06-30T00:00:00",
          "2012-09-30T00:00:00",
          "2012-12-31T00:00:00",
          "2013-03-31T00:00:00",
          "2013-06-30T00:00:00",
          "2013-09-30T00:00:00",
          "2013-12-31T00:00:00",
          "2014-03-31T00:00:00",
          "2014-06-30T00:00:00",
          "2014-09-30T00:00:00",
          "2014-12-31T00:00:00",
          "2015-03-31T00:00:00",
          "2015-06-30T00:00:00",
          "2015-09-30T00:00:00",
          "2015-12-31T00:00:00",
          "2016-03-31T00:00:00",
          "2016-06-30T00:00:00",
          "2016-09-30T00:00:00",
          "2016-12-31T00:00:00",
          "2017-03-31T00:00:00",
          "2017-06-30T00:00:00",
          "2017-09-30T00:00:00",
          "2017-12-31T00:00:00",
          "2018-03-31T00:00:00",
          "2018-06-30T00:00:00",
          "2018-09-30T00:00:00",
          "2018-12-31T00:00:00",
          "2019-03-31T00:00:00",
          "2019-06-30T00:00:00",
          "2019-09-30T00:00:00",
          "2019-12-31T00:00:00",
          "2020-03-31T00:00:00",
          "2020-06-30T00:00:00",
          "2020-09-30T00:00:00",
          "2020-12-31T00:00:00",
          "2021-03-31T00:00:00",
          "2021-06-30T00:00:00",
          "2021-09-30T00:00:00",
          "2021-12-31T00:00:00",
          "2022-03-31T00:00:00",
          "2022-06-30T00:00:00",
          "2022-09-30T00:00:00",
          "2022-12-31T00:00:00",
          "2023-03-31T00:00:00",
          "2023-06-30T00:00:00",
          "2023-09-30T00:00:00",
          "2023-12-31T00:00:00",
          "2024-03-31T00:00:00",
          "2024-06-30T00:00:00",
          "2024-09-30T00:00:00",
          "2024-12-31T00:00:00",
          "2025-03-31T00:00:00",
          "2025-06-30T00:00:00",
          "2025-09-30T00:00:00"
         ],
         "y": [
          29232.22067225263,
          29329.163606889797,
          34727.219992887185,
          29561.032167216104,
          30017.91421475431,
          30400.600007044,
          35690.35177227038,
          30395.412321135183,
          31067.198693391965,
          31486.293699006736,
          37635.86301456339,
          31196.63215004237,
          31165.084157712135,
          30517.839703918424,
          36994.50612040988,
          30846.941136807614,
          31634.906615379372,
          31581.001709049102,
          37074.854070003676,
          31885.64548632125,
          32289.02413026168,
          32802.74615987614,
          38062.13521788111,
          32741.500976564654,
          33294.23875414174,
          33799.9451602818,
          39928.857211218856,
          33243.54018725699,
          33516.31837337655,
          32804.042560160924,
          39339.721854751115,
          33075.73808794406,
          33927.90655752034,
          33999.470341853004,
          39371.22922381116,
          34114.241249732186,
          34596.281106864095,
          35100.24085496856,
          40285.94309257042,
          35133.97134305996,
          35747.932041045504,
          36155.62675628475,
          42199.41736523649,
          35619.17684068038,
          35339.16357775489,
          34449.848176201405,
          40852.66142818123,
          34251.25098905734,
          35020.632040701756,
          34724.157472176485,
          39921.216171754764,
          34370.38723888679,
          34759.54790143637,
          34960.44989424403,
          39962.45983238576,
          34458.10838865322,
          34833.852515006656,
          35001.90077211236,
          40841.05233210727,
          34145.54293956287,
          34073.65225520628,
          33008.45072880917,
          39316.63312878225,
          32859.962782108814,
          33430.681245497966,
          33215.29345192228,
          38458.69541155671,
          32959.37083670195,
          33178.66930965951,
          33251.4901321078,
          38451.32994720294,
          32885.349764839084,
          33386.247509447305,
          33385.5750752887,
          39346.8687997947,
          32605.840052820917,
          32480.415430926707,
          31389.51109605552,
          37800.81997606544,
          31188.568356366333,
          31903.70386505581,
          31624.05855214176,
          36825.90702199294,
          31414.15617243435,
          31642.956103955552,
          31760.736892172175,
          36866.558023343336,
          31312.996929276924,
          31876.932800953036,
          31934.57865245966,
          37705.07517184897,
          31106.80306337132,
          30914.56348804537,
          29834.432544061292,
          36259.93683730188,
          29675.18054030217,
          30255.355487433568,
          30092.739604626015,
          35171.426471601415
         ]
        },
        {
         "fill": "tonexty",
         "fillcolor": "rgba(0, 114, 178, 0.2)",
         "line": {
          "color": "#0072B2",
          "width": 2
         },
         "mode": "lines",
         "name": "Predicted",
         "type": "scatter",
         "x": [
          "2001-03-31T00:00:00",
          "2001-06-30T00:00:00",
          "2001-09-30T00:00:00",
          "2001-12-31T00:00:00",
          "2002-03-31T00:00:00",
          "2002-06-30T00:00:00",
          "2002-09-30T00:00:00",
          "2002-12-31T00:00:00",
          "2003-03-31T00:00:00",
          "2003-06-30T00:00:00",
          "2003-09-30T00:00:00",
          "2003-12-31T00:00:00",
          "2004-03-31T00:00:00",
          "2004-06-30T00:00:00",
          "2004-09-30T00:00:00",
          "2004-12-31T00:00:00",
          "2005-03-31T00:00:00",
          "2005-06-30T00:00:00",
          "2005-09-30T00:00:00",
          "2005-12-31T00:00:00",
          "2006-03-31T00:00:00",
          "2006-06-30T00:00:00",
          "2006-09-30T00:00:00",
          "2006-12-31T00:00:00",
          "2007-03-31T00:00:00",
          "2007-06-30T00:00:00",
          "2007-09-30T00:00:00",
          "2007-12-31T00:00:00",
          "2008-03-31T00:00:00",
          "2008-06-30T00:00:00",
          "2008-09-30T00:00:00",
          "2008-12-31T00:00:00",
          "2009-03-31T00:00:00",
          "2009-06-30T00:00:00",
          "2009-09-30T00:00:00",
          "2009-12-31T00:00:00",
          "2010-03-31T00:00:00",
          "2010-06-30T00:00:00",
          "2010-09-30T00:00:00",
          "2010-12-31T00:00:00",
          "2011-03-31T00:00:00",
          "2011-06-30T00:00:00",
          "2011-09-30T00:00:00",
          "2011-12-31T00:00:00",
          "2012-03-31T00:00:00",
          "2012-06-30T00:00:00",
          "2012-09-30T00:00:00",
          "2012-12-31T00:00:00",
          "2013-03-31T00:00:00",
          "2013-06-30T00:00:00",
          "2013-09-30T00:00:00",
          "2013-12-31T00:00:00",
          "2014-03-31T00:00:00",
          "2014-06-30T00:00:00",
          "2014-09-30T00:00:00",
          "2014-12-31T00:00:00",
          "2015-03-31T00:00:00",
          "2015-06-30T00:00:00",
          "2015-09-30T00:00:00",
          "2015-12-31T00:00:00",
          "2016-03-31T00:00:00",
          "2016-06-30T00:00:00",
          "2016-09-30T00:00:00",
          "2016-12-31T00:00:00",
          "2017-03-31T00:00:00",
          "2017-06-30T00:00:00",
          "2017-09-30T00:00:00",
          "2017-12-31T00:00:00",
          "2018-03-31T00:00:00",
          "2018-06-30T00:00:00",
          "2018-09-30T00:00:00",
          "2018-12-31T00:00:00",
          "2019-03-31T00:00:00",
          "2019-06-30T00:00:00",
          "2019-09-30T00:00:00",
          "2019-12-31T00:00:00",
          "2020-03-31T00:00:00",
          "2020-06-30T00:00:00",
          "2020-09-30T00:00:00",
          "2020-12-31T00:00:00",
          "2021-03-31T00:00:00",
          "2021-06-30T00:00:00",
          "2021-09-30T00:00:00",
          "2021-12-31T00:00:00",
          "2022-03-31T00:00:00",
          "2022-06-30T00:00:00",
          "2022-09-30T00:00:00",
          "2022-12-31T00:00:00",
          "2023-03-31T00:00:00",
          "2023-06-30T00:00:00",
          "2023-09-30T00:00:00",
          "2023-12-31T00:00:00",
          "2024-03-31T00:00:00",
          "2024-06-30T00:00:00",
          "2024-09-30T00:00:00",
          "2024-12-31T00:00:00",
          "2025-03-31T00:00:00",
          "2025-06-30T00:00:00",
          "2025-09-30T00:00:00"
         ],
         "y": [
          30675.55214162446,
          30678.821601072195,
          36099.946925490236,
          30881.063760645324,
          31409.48633203568,
          31800.013427818827,
          37080.78131644909,
          31789.013936426076,
          32492.033916329623,
          32856.207520169555,
          39016.85246881567,
          32503.5295534764,
          32606.05102447664,
          31810.908723144305,
          38388.19420972716,
          32091.64236515473,
          32989.892678259755,
          32993.11442005371,
          38414.191502392314,
          33195.23223207554,
          33723.58035208188,
          34114.03216929812,
          39394.72143854676,
          34102.87543914832,
          34805.81805521875,
          35169.914352840824,
          41330.48114570932,
          34817.05639395406,
          34919.4771354347,
          34124.2341046471,
          40701.41949558435,
          34404.76755538192,
          35302.87076700913,
          35305.94802481679,
          40726.87903551216,
          35507.76015645997,
          36035.95213753841,
          36426.135167300825,
          41706.55520897347,
          36414.439981967465,
          37117.116656979466,
          37480.94405855884,
          43641.239000589645,
          36923.91520010493,
          36824.65318683624,
          35827.673488718785,
          42200.938271627674,
          35700.36572345637,
          36361.18293670213,
          36124.337685075814,
          41302.48143522751,
          35840.61669612984,
          36131.33990095892,
          36281.45197204344,
          41319.16291265264,
          35784.33858458492,
          36249.585463341864,
          36373.34495988458,
          42290.93388815405,
          35534.56328234338,
          35396.67888548515,
          34361.13071643579,
          40695.4031991369,
          34155.83835097917,
          34816.358551946636,
          34579.212987864244,
          39757.28136610988,
          34295.341255057625,
          34585.99072651976,
          34736.10279904009,
          39773.81374111057,
          34238.98941453126,
          34704.23629449744,
          34827.99579229168,
          40745.58472155377,
          33989.214116701194,
          33851.32972083624,
          32815.78155271885,
          39150.05403628412,
          32610.489188722466,
          33271.009390301886,
          33033.86382684121,
          38211.932205068326,
          32749.992094026813,
          33040.64156548196,
          33190.75363794666,
          38228.46458007775,
          32693.640253495076,
          33158.887133461,
          33282.64663119647,
          39200.235560533016,
          32443.864955593155,
          32305.980559807336,
          31270.43239161586,
          37604.70487526637,
          31065.1400277144,
          31725.660229262867,
          31488.51466586737,
          36666.58304403311
         ]
        },
        {
         "fill": "tonexty",
         "fillcolor": "rgba(0, 114, 178, 0.2)",
         "hoverinfo": "skip",
         "line": {
          "width": 0
         },
         "mode": "lines",
         "type": "scatter",
         "x": [
          "2001-03-31T00:00:00",
          "2001-06-30T00:00:00",
          "2001-09-30T00:00:00",
          "2001-12-31T00:00:00",
          "2002-03-31T00:00:00",
          "2002-06-30T00:00:00",
          "2002-09-30T00:00:00",
          "2002-12-31T00:00:00",
          "2003-03-31T00:00:00",
          "2003-06-30T00:00:00",
          "2003-09-30T00:00:00",
          "2003-12-31T00:00:00",
          "2004-03-31T00:00:00",
          "2004-06-30T00:00:00",
          "2004-09-30T00:00:00",
          "2004-12-31T00:00:00",
          "2005-03-31T00:00:00",
          "2005-06-30T00:00:00",
          "2005-09-30T00:00:00",
          "2005-12-31T00:00:00",
          "2006-03-31T00:00:00",
          "2006-06-30T00:00:00",
          "2006-09-30T00:00:00",
          "2006-12-31T00:00:00",
          "2007-03-31T00:00:00",
          "2007-06-30T00:00:00",
          "2007-09-30T00:00:00",
          "2007-12-31T00:00:00",
          "2008-03-31T00:00:00",
          "2008-06-30T00:00:00",
          "2008-09-30T00:00:00",
          "2008-12-31T00:00:00",
          "2009-03-31T00:00:00",
          "2009-06-30T00:00:00",
          "2009-09-30T00:00:00",
          "2009-12-31T00:00:00",
          "2010-03-31T00:00:00",
          "2010-06-30T00:00:00",
          "2010-09-30T00:00:00",
          "2010-12-31T00:00:00",
          "2011-03-31T00:00:00",
          "2011-06-30T00:00:00",
          "2011-09-30T00:00:00",
          "2011-12-31T00:00:00",
          "2012-03-31T00:00:00",
          "2012-06-30T00:00:00",
          "2012-09-30T00:00:00",
          "2012-12-31T00:00:00",
          "2013-03-31T00:00:00",
          "2013-06-30T00:00:00",
          "2013-09-30T00:00:00",
          "2013-12-31T00:00:00",
          "2014-03-31T00:00:00",
          "2014-06-30T00:00:00",
          "2014-09-30T00:00:00",
          "2014-12-31T00:00:00",
          "2015-03-31T00:00:00",
          "2015-06-30T00:00:00",
          "2015-09-30T00:00:00",
          "2015-12-31T00:00:00",
          "2016-03-31T00:00:00",
          "2016-06-30T00:00:00",
          "2016-09-30T00:00:00",
          "2016-12-31T00:00:00",
          "2017-03-31T00:00:00",
          "2017-06-30T00:00:00",
          "2017-09-30T00:00:00",
          "2017-12-31T00:00:00",
          "2018-03-31T00:00:00",
          "2018-06-30T00:00:00",
          "2018-09-30T00:00:00",
          "2018-12-31T00:00:00",
          "2019-03-31T00:00:00",
          "2019-06-30T00:00:00",
          "2019-09-30T00:00:00",
          "2019-12-31T00:00:00",
          "2020-03-31T00:00:00",
          "2020-06-30T00:00:00",
          "2020-09-30T00:00:00",
          "2020-12-31T00:00:00",
          "2021-03-31T00:00:00",
          "2021-06-30T00:00:00",
          "2021-09-30T00:00:00",
          "2021-12-31T00:00:00",
          "2022-03-31T00:00:00",
          "2022-06-30T00:00:00",
          "2022-09-30T00:00:00",
          "2022-12-31T00:00:00",
          "2023-03-31T00:00:00",
          "2023-06-30T00:00:00",
          "2023-09-30T00:00:00",
          "2023-12-31T00:00:00",
          "2024-03-31T00:00:00",
          "2024-06-30T00:00:00",
          "2024-09-30T00:00:00",
          "2024-12-31T00:00:00",
          "2025-03-31T00:00:00",
          "2025-06-30T00:00:00",
          "2025-09-30T00:00:00"
         ],
         "y": [
          31894.20850550727,
          32100.363659018723,
          37549.26048159604,
          32169.24102029895,
          32798.56274164025,
          33097.63043130285,
          38483.22925355452,
          33188.258012443985,
          33822.38497424522,
          34232.26762390152,
          40312.34201948273,
          33858.79319980212,
          34005.96090974834,
          33183.109013282796,
          39732.98375712084,
          33496.310240861625,
          34390.17022684239,
          34368.335556255675,
          39710.27199428313,
          34529.16833588523,
          35082.41467700296,
          35454.05805033657,
          40783.186511085594,
          35504.618185864,
          36189.53003094217,
          36552.8035894423,
          42676.60346638988,
          36210.36143059766,
          36219.29116851067,
          35509.16349120781,
          42028.88977062943,
          35881.094571528534,
          36662.20068383316,
          36822.76190495191,
          42103.07932581156,
          36861.72505586264,
          37432.12622219443,
          37851.63990291565,
          43044.87369297098,
          37790.016142801775,
          38533.50161367913,
          38822.06177652759,
          45085.87510588458,
          38237.50188230995,
          38224.718112723596,
          37146.106538462576,
          43612.82332854032,
          37004.45123334646,
          37765.694514021074,
          37509.64898815484,
          42638.3479373364,
          37177.44504464932,
          37518.92119653802,
          37659.3873758245,
          42640.062969474835,
          37190.768324067925,
          37679.17033091823,
          37644.269843859154,
          43542.994298304104,
          36896.01615343641,
          36739.55694908015,
          35903.20537113762,
          42001.75110862219,
          35626.414767032256,
          36248.19460465212,
          35980.316196809705,
          41149.06380538171,
          35668.53568783945,
          35959.52959532121,
          36093.385281192044,
          41206.17084780462,
          35641.07826624334,
          36064.29859609705,
          36188.94595188975,
          42161.10807986445,
          35354.4673893953,
          35292.7702723667,
          34197.26597985983,
          40467.5593781143,
          33966.50246759169,
          34576.17624866225,
          34310.62786187301,
          39622.984568142434,
          34221.81662818876,
          34537.22312753993,
          34576.020848962085,
          39564.422168866804,
          33962.51724981046,
          34557.50163981034,
          34658.774527881695,
          40568.23267889159,
          33842.078946976675,
          33691.83021830321,
          32675.404993478118,
          38974.21062700327,
          32474.865488894797,
          33066.7525908059,
          32813.29006918378,
          38131.76906476719
         ]
        }
       ],
       "layout": {
        "dragmode": "zoom",
        "height": 600,
        "showlegend": false,
        "template": {
         "data": {
          "bar": [
           {
            "error_x": {
             "color": "#2a3f5f"
            },
            "error_y": {
             "color": "#2a3f5f"
            },
            "marker": {
             "line": {
              "color": "#E5ECF6",
              "width": 0.5
             },
             "pattern": {
              "fillmode": "overlay",
              "size": 10,
              "solidity": 0.2
             }
            },
            "type": "bar"
           }
          ],
          "barpolar": [
           {
            "marker": {
             "line": {
              "color": "#E5ECF6",
              "width": 0.5
             },
             "pattern": {
              "fillmode": "overlay",
              "size": 10,
              "solidity": 0.2
             }
            },
            "type": "barpolar"
           }
          ],
          "carpet": [
           {
            "aaxis": {
             "endlinecolor": "#2a3f5f",
             "gridcolor": "white",
             "linecolor": "white",
             "minorgridcolor": "white",
             "startlinecolor": "#2a3f5f"
            },
            "baxis": {
             "endlinecolor": "#2a3f5f",
             "gridcolor": "white",
             "linecolor": "white",
             "minorgridcolor": "white",
             "startlinecolor": "#2a3f5f"
            },
            "type": "carpet"
           }
          ],
          "choropleth": [
           {
            "colorbar": {
             "outlinewidth": 0,
             "ticks": ""
            },
            "type": "choropleth"
           }
          ],
          "contour": [
           {
            "colorbar": {
             "outlinewidth": 0,
             "ticks": ""
            },
            "colorscale": [
             [
              0,
              "#0d0887"
             ],
             [
              0.1111111111111111,
              "#46039f"
             ],
             [
              0.2222222222222222,
              "#7201a8"
             ],
             [
              0.3333333333333333,
              "#9c179e"
             ],
             [
              0.4444444444444444,
              "#bd3786"
             ],
             [
              0.5555555555555556,
              "#d8576b"
             ],
             [
              0.6666666666666666,
              "#ed7953"
             ],
             [
              0.7777777777777778,
              "#fb9f3a"
             ],
             [
              0.8888888888888888,
              "#fdca26"
             ],
             [
              1,
              "#f0f921"
             ]
            ],
            "type": "contour"
           }
          ],
          "contourcarpet": [
           {
            "colorbar": {
             "outlinewidth": 0,
             "ticks": ""
            },
            "type": "contourcarpet"
           }
          ],
          "heatmap": [
           {
            "colorbar": {
             "outlinewidth": 0,
             "ticks": ""
            },
            "colorscale": [
             [
              0,
              "#0d0887"
             ],
             [
              0.1111111111111111,
              "#46039f"
             ],
             [
              0.2222222222222222,
              "#7201a8"
             ],
             [
              0.3333333333333333,
              "#9c179e"
             ],
             [
              0.4444444444444444,
              "#bd3786"
             ],
             [
              0.5555555555555556,
              "#d8576b"
             ],
             [
              0.6666666666666666,
              "#ed7953"
             ],
             [
              0.7777777777777778,
              "#fb9f3a"
             ],
             [
              0.8888888888888888,
              "#fdca26"
             ],
             [
              1,
              "#f0f921"
             ]
            ],
            "type": "heatmap"
           }
          ],
          "heatmapgl": [
           {
            "colorbar": {
             "outlinewidth": 0,
             "ticks": ""
            },
            "colorscale": [
             [
              0,
              "#0d0887"
             ],
             [
              0.1111111111111111,
              "#46039f"
             ],
             [
              0.2222222222222222,
              "#7201a8"
             ],
             [
              0.3333333333333333,
              "#9c179e"
             ],
             [
              0.4444444444444444,
              "#bd3786"
             ],
             [
              0.5555555555555556,
              "#d8576b"
             ],
             [
              0.6666666666666666,
              "#ed7953"
             ],
             [
              0.7777777777777778,
              "#fb9f3a"
             ],
             [
              0.8888888888888888,
              "#fdca26"
             ],
             [
              1,
              "#f0f921"
             ]
            ],
            "type": "heatmapgl"
           }
          ],
          "histogram": [
           {
            "marker": {
             "pattern": {
              "fillmode": "overlay",
              "size": 10,
              "solidity": 0.2
             }
            },
            "type": "histogram"
           }
          ],
          "histogram2d": [
           {
            "colorbar": {
             "outlinewidth": 0,
             "ticks": ""
            },
            "colorscale": [
             [
              0,
              "#0d0887"
             ],
             [
              0.1111111111111111,
              "#46039f"
             ],
             [
              0.2222222222222222,
              "#7201a8"
             ],
             [
              0.3333333333333333,
              "#9c179e"
             ],
             [
              0.4444444444444444,
              "#bd3786"
             ],
             [
              0.5555555555555556,
              "#d8576b"
             ],
             [
              0.6666666666666666,
              "#ed7953"
             ],
             [
              0.7777777777777778,
              "#fb9f3a"
             ],
             [
              0.8888888888888888,
              "#fdca26"
             ],
             [
              1,
              "#f0f921"
             ]
            ],
            "type": "histogram2d"
           }
          ],
          "histogram2dcontour": [
           {
            "colorbar": {
             "outlinewidth": 0,
             "ticks": ""
            },
            "colorscale": [
             [
              0,
              "#0d0887"
             ],
             [
              0.1111111111111111,
              "#46039f"
             ],
             [
              0.2222222222222222,
              "#7201a8"
             ],
             [
              0.3333333333333333,
              "#9c179e"
             ],
             [
              0.4444444444444444,
              "#bd3786"
             ],
             [
              0.5555555555555556,
              "#d8576b"
             ],
             [
              0.6666666666666666,
              "#ed7953"
             ],
             [
              0.7777777777777778,
              "#fb9f3a"
             ],
             [
              0.8888888888888888,
              "#fdca26"
             ],
             [
              1,
              "#f0f921"
             ]
            ],
            "type": "histogram2dcontour"
           }
          ],
          "mesh3d": [
           {
            "colorbar": {
             "outlinewidth": 0,
             "ticks": ""
            },
            "type": "mesh3d"
           }
          ],
          "parcoords": [
           {
            "line": {
             "colorbar": {
              "outlinewidth": 0,
              "ticks": ""
             }
            },
            "type": "parcoords"
           }
          ],
          "pie": [
           {
            "automargin": true,
            "type": "pie"
           }
          ],
          "scatter": [
           {
            "marker": {
             "colorbar": {
              "outlinewidth": 0,
              "ticks": ""
             }
            },
            "type": "scatter"
           }
          ],
          "scatter3d": [
           {
            "line": {
             "colorbar": {
              "outlinewidth": 0,
              "ticks": ""
             }
            },
            "marker": {
             "colorbar": {
              "outlinewidth": 0,
              "ticks": ""
             }
            },
            "type": "scatter3d"
           }
          ],
          "scattercarpet": [
           {
            "marker": {
             "colorbar": {
              "outlinewidth": 0,
              "ticks": ""
             }
            },
            "type": "scattercarpet"
           }
          ],
          "scattergeo": [
           {
            "marker": {
             "colorbar": {
              "outlinewidth": 0,
              "ticks": ""
             }
            },
            "type": "scattergeo"
           }
          ],
          "scattergl": [
           {
            "marker": {
             "colorbar": {
              "outlinewidth": 0,
              "ticks": ""
             }
            },
            "type": "scattergl"
           }
          ],
          "scattermapbox": [
           {
            "marker": {
             "colorbar": {
              "outlinewidth": 0,
              "ticks": ""
             }
            },
            "type": "scattermapbox"
           }
          ],
          "scatterpolar": [
           {
            "marker": {
             "colorbar": {
              "outlinewidth": 0,
              "ticks": ""
             }
            },
            "type": "scatterpolar"
           }
          ],
          "scatterpolargl": [
           {
            "marker": {
             "colorbar": {
              "outlinewidth": 0,
              "ticks": ""
             }
            },
            "type": "scatterpolargl"
           }
          ],
          "scatterternary": [
           {
            "marker": {
             "colorbar": {
              "outlinewidth": 0,
              "ticks": ""
             }
            },
            "type": "scatterternary"
           }
          ],
          "surface": [
           {
            "colorbar": {
             "outlinewidth": 0,
             "ticks": ""
            },
            "colorscale": [
             [
              0,
              "#0d0887"
             ],
             [
              0.1111111111111111,
              "#46039f"
             ],
             [
              0.2222222222222222,
              "#7201a8"
             ],
             [
              0.3333333333333333,
              "#9c179e"
             ],
             [
              0.4444444444444444,
              "#bd3786"
             ],
             [
              0.5555555555555556,
              "#d8576b"
             ],
             [
              0.6666666666666666,
              "#ed7953"
             ],
             [
              0.7777777777777778,
              "#fb9f3a"
             ],
             [
              0.8888888888888888,
              "#fdca26"
             ],
             [
              1,
              "#f0f921"
             ]
            ],
            "type": "surface"
           }
          ],
          "table": [
           {
            "cells": {
             "fill": {
              "color": "#EBF0F8"
             },
             "line": {
              "color": "white"
             }
            },
            "header": {
             "fill": {
              "color": "#C8D4E3"
             },
             "line": {
              "color": "white"
             }
            },
            "type": "table"
           }
          ]
         },
         "layout": {
          "annotationdefaults": {
           "arrowcolor": "#2a3f5f",
           "arrowhead": 0,
           "arrowwidth": 1
          },
          "autotypenumbers": "strict",
          "coloraxis": {
           "colorbar": {
            "outlinewidth": 0,
            "ticks": ""
           }
          },
          "colorscale": {
           "diverging": [
            [
             0,
             "#8e0152"
            ],
            [
             0.1,
             "#c51b7d"
            ],
            [
             0.2,
             "#de77ae"
            ],
            [
             0.3,
             "#f1b6da"
            ],
            [
             0.4,
             "#fde0ef"
            ],
            [
             0.5,
             "#f7f7f7"
            ],
            [
             0.6,
             "#e6f5d0"
            ],
            [
             0.7,
             "#b8e186"
            ],
            [
             0.8,
             "#7fbc41"
            ],
            [
             0.9,
             "#4d9221"
            ],
            [
             1,
             "#276419"
            ]
           ],
           "sequential": [
            [
             0,
             "#0d0887"
            ],
            [
             0.1111111111111111,
             "#46039f"
            ],
            [
             0.2222222222222222,
             "#7201a8"
            ],
            [
             0.3333333333333333,
             "#9c179e"
            ],
            [
             0.4444444444444444,
             "#bd3786"
            ],
            [
             0.5555555555555556,
             "#d8576b"
            ],
            [
             0.6666666666666666,
             "#ed7953"
            ],
            [
             0.7777777777777778,
             "#fb9f3a"
            ],
            [
             0.8888888888888888,
             "#fdca26"
            ],
            [
             1,
             "#f0f921"
            ]
           ],
           "sequentialminus": [
            [
             0,
             "#0d0887"
            ],
            [
             0.1111111111111111,
             "#46039f"
            ],
            [
             0.2222222222222222,
             "#7201a8"
            ],
            [
             0.3333333333333333,
             "#9c179e"
            ],
            [
             0.4444444444444444,
             "#bd3786"
            ],
            [
             0.5555555555555556,
             "#d8576b"
            ],
            [
             0.6666666666666666,
             "#ed7953"
            ],
            [
             0.7777777777777778,
             "#fb9f3a"
            ],
            [
             0.8888888888888888,
             "#fdca26"
            ],
            [
             1,
             "#f0f921"
            ]
           ]
          },
          "colorway": [
           "#636efa",
           "#EF553B",
           "#00cc96",
           "#ab63fa",
           "#FFA15A",
           "#19d3f3",
           "#FF6692",
           "#B6E880",
           "#FF97FF",
           "#FECB52"
          ],
          "font": {
           "color": "#2a3f5f"
          },
          "geo": {
           "bgcolor": "white",
           "lakecolor": "white",
           "landcolor": "#E5ECF6",
           "showlakes": true,
           "showland": true,
           "subunitcolor": "white"
          },
          "hoverlabel": {
           "align": "left"
          },
          "hovermode": "closest",
          "mapbox": {
           "style": "light"
          },
          "paper_bgcolor": "white",
          "plot_bgcolor": "#E5ECF6",
          "polar": {
           "angularaxis": {
            "gridcolor": "white",
            "linecolor": "white",
            "ticks": ""
           },
           "bgcolor": "#E5ECF6",
           "radialaxis": {
            "gridcolor": "white",
            "linecolor": "white",
            "ticks": ""
           }
          },
          "scene": {
           "xaxis": {
            "backgroundcolor": "#E5ECF6",
            "gridcolor": "white",
            "gridwidth": 2,
            "linecolor": "white",
            "showbackground": true,
            "ticks": "",
            "zerolinecolor": "white"
           },
           "yaxis": {
            "backgroundcolor": "#E5ECF6",
            "gridcolor": "white",
            "gridwidth": 2,
            "linecolor": "white",
            "showbackground": true,
            "ticks": "",
            "zerolinecolor": "white"
           },
           "zaxis": {
            "backgroundcolor": "#E5ECF6",
            "gridcolor": "white",
            "gridwidth": 2,
            "linecolor": "white",
            "showbackground": true,
            "ticks": "",
            "zerolinecolor": "white"
           }
          },
          "shapedefaults": {
           "line": {
            "color": "#2a3f5f"
           }
          },
          "ternary": {
           "aaxis": {
            "gridcolor": "white",
            "linecolor": "white",
            "ticks": ""
           },
           "baxis": {
            "gridcolor": "white",
            "linecolor": "white",
            "ticks": ""
           },
           "bgcolor": "#E5ECF6",
           "caxis": {
            "gridcolor": "white",
            "linecolor": "white",
            "ticks": ""
           }
          },
          "title": {
           "x": 0.05
          },
          "xaxis": {
           "automargin": true,
           "gridcolor": "white",
           "linecolor": "white",
           "ticks": "",
           "title": {
            "standoff": 15
           },
           "zerolinecolor": "white",
           "zerolinewidth": 2
          },
          "yaxis": {
           "automargin": true,
           "gridcolor": "white",
           "linecolor": "white",
           "ticks": "",
           "title": {
            "standoff": 15
           },
           "zerolinecolor": "white",
           "zerolinewidth": 2
          }
         }
        },
        "width": 900,
        "xaxis": {
         "autorange": false,
         "range": [
          "2000-01-08 13:12",
          "2025-09-30"
         ],
         "rangeselector": {
          "buttons": [
           {
            "count": 7,
            "label": "1w",
            "step": "day",
            "stepmode": "backward"
           },
           {
            "count": 1,
            "label": "1m",
            "step": "month",
            "stepmode": "backward"
           },
           {
            "count": 6,
            "label": "6m",
            "step": "month",
            "stepmode": "backward"
           },
           {
            "count": 1,
            "label": "1y",
            "step": "year",
            "stepmode": "backward"
           },
           {
            "step": "all"
           }
          ]
         },
         "rangeslider": {
          "autorange": true,
          "range": [
           "1999-11-05 15:05:08.5714",
           "2025-09-30"
          ],
          "visible": true,
          "yaxis": {
           "_template": null,
           "rangemode": "match"
          }
         },
         "title": {
          "text": "ds"
         },
         "type": "date"
        },
        "yaxis": {
         "autorange": true,
         "range": [
          27859.814965414695,
          45992.50985011984
         ],
         "title": {
          "text": "y"
         },
         "type": "linear"
        }
       }
      },
      "image/png": "[encoded data removed]",
      "text/html": [
       "<div>                            <div id=\"5f22f81d-164f-44f8-9deb-4fa5638b29ca\" class=\"plotly-graph-div\" style=\"height:600px; width:900px;\"></div>            <script type=\"text/javascript\">                require([\"plotly\"], function(Plotly) {                    window.PLOTLYENV=window.PLOTLYENV || {};                                    if (document.getElementById(\"5f22f81d-164f-44f8-9deb-4fa5638b29ca\")) {                    Plotly.newPlot(                        \"5f22f81d-164f-44f8-9deb-4fa5638b29ca\",                        [{\"marker\":{\"color\":\"black\",\"size\":4},\"mode\":\"markers\",\"name\":\"Actual\",\"x\":[\"2001-03-31T00:00:00\",\"2001-06-30T00:00:00\",\"2001-09-30T00:00:00\",\"2001-12-31T00:00:00\",\"2002-03-31T00:00:00\",\"2002-06-30T00:00:00\",\"2002-09-30T00:00:00\",\"2002-12-31T00:00:00\",\"2003-03-31T00:00:00\",\"2003-06-30T00:00:00\",\"2003-09-30T00:00:00\",\"2003-12-31T00:00:00\",\"2004-03-31T00:00:00\",\"2004-06-30T00:00:00\",\"2004-09-30T00:00:00\",\"2004-12-31T00:00:00\",\"2005-03-31T00:00:00\",\"2005-06-30T00:00:00\",\"2005-09-30T00:00:00\",\"2005-12-31T00:00:00\",\"2006-03-31T00:00:00\",\"2006-06-30T00:00:00\",\"2006-09-30T00:00:00\",\"2006-12-31T00:00:00\",\"2007-03-31T00:00:00\",\"2007-06-30T00:00:00\",\"2007-09-30T00:00:00\",\"2007-12-31T00:00:00\",\"2008-03-31T00:00:00\",\"2008-06-30T00:00:00\",\"2008-09-30T00:00:00\",\"2008-12-31T00:00:00\",\"2009-03-31T00:00:00\",\"2009-06-30T00:00:00\",\"2009-09-30T00:00:00\",\"2009-12-31T00:00:00\",\"2010-03-31T00:00:00\",\"2010-06-30T00:00:00\",\"2010-09-30T00:00:00\",\"2010-12-31T00:00:00\",\"2011-03-31T00:00:00\",\"2011-06-30T00:00:00\",\"2011-09-30T00:00:00\",\"2011-12-31T00:00:00\",\"2012-03-31T00:00:00\",\"2012-06-30T00:00:00\",\"2012-09-30T00:00:00\",\"2012-12-31T00:00:00\",\"2013-03-31T00:00:00\",\"2013-06-30T00:00:00\",\"2013-09-30T00:00:00\",\"2013-12-31T00:00:00\",\"2014-03-31T00:00:00\",\"2014-06-30T00:00:00\",\"2014-09-30T00:00:00\",\"2014-12-31T00:00:00\",\"2015-03-31T00:00:00\",\"2015-06-30T00:00:00\",\"2015-09-30T00:00:00\",\"2015-12-31T00:00:00\",\"2016-03-31T00:00:00\",\"2016-06-30T00:00:00\",\"2016-09-30T00:00:00\",\"2016-12-31T00:00:00\",\"2017-03-31T00:00:00\",\"2017-06-30T00:00:00\",\"2017-09-30T00:00:00\",\"2017-12-31T00:00:00\",\"2018-03-31T00:00:00\",\"2018-06-30T00:00:00\",\"2018-09-30T00:00:00\",\"2018-12-31T00:00:00\",\"2019-03-31T00:00:00\",\"2019-06-30T00:00:00\",\"2019-09-30T00:00:00\",\"2019-12-31T00:00:00\",\"2020-03-31T00:00:00\",\"2020-06-30T00:00:00\",\"2020-09-30T00:00:00\",\"2020-12-31T00:00:00\",\"2021-03-31T00:00:00\",\"2021-06-30T00:00:00\",\"2021-09-30T00:00:00\"],\"y\":[30267.126,28933.315,35618.737,30525.935,30347.665,31488.628,37561.015,33523.367,32468.699,33215.566,39400.514,32402.442,31886.37077,32978.85098,38387.41668,34102.13241,33690.58306,32630.45681,38984.46278,32643.07838,31123.33999,34773.31918,40173.95894,34824.8232,32812.05709,35295.47745,42192.89532,33525.84096,36226.79557,35509.96434,40024.67568,34108.45961,35796.01211,33147.14539,38571.43007,35740.96806,38222.43574,37603.66326,41017.16699,35307.24608,38532.49548,36158.73515,44137.25322,37510.72597,37236.44716,36158.93556,43653.88579,35829.41918,37697.2266,35763.43269,40366.46023,36745.80434,37349.98121,36377.50413,39830.24185,35782.7199,37491.7568,36417.33576,42097.26754,36471.06661,35435.00712,33223.48031,40915.04692,32811.56388,31972.62853,35230.11919,38957.85795,33803.64445,34245.41943,37009.62463,40964.80666,32838.14315,34411.35703,34542.70477,39742.9901,33982.38095,32912.42473,32812.27556,39516.70645,32301.2949,34144.66677,32450.84037,39835.27391],\"type\":\"scatter\"},{\"hoverinfo\":\"skip\",\"line\":{\"width\":0},\"mode\":\"lines\",\"x\":[\"2001-03-31T00:00:00\",\"2001-06-30T00:00:00\",\"2001-09-30T00:00:00\",\"2001-12-31T00:00:00\",\"2002-03-31T00:00:00\",\"2002-06-30T00:00:00\",\"2002-09-30T00:00:00\",\"2002-12-31T00:00:00\",\"2003-03-31T00:00:00\",\"2003-06-30T00:00:00\",\"2003-09-30T00:00:00\",\"2003-12-31T00:00:00\",\"2004-03-31T00:00:00\",\"2004-06-30T00:00:00\",\"2004-09-30T00:00:00\",\"2004-12-31T00:00:00\",\"2005-03-31T00:00:00\",\"2005-06-30T00:00:00\",\"2005-09-30T00:00:00\",\"2005-12-31T00:00:00\",\"2006-03-31T00:00:00\",\"2006-06-30T00:00:00\",\"2006-09-30T00:00:00\",\"2006-12-31T00:00:00\",\"2007-03-31T00:00:00\",\"2007-06-30T00:00:00\",\"2007-09-30T00:00:00\",\"2007-12-31T00:00:00\",\"2008-03-31T00:00:00\",\"2008-06-30T00:00:00\",\"2008-09-30T00:00:00\",\"2008-12-31T00:00:00\",\"2009-03-31T00:00:00\",\"2009-06-30T00:00:00\",\"2009-09-30T00:00:00\",\"2009-12-31T00:00:00\",\"2010-03-31T00:00:00\",\"2010-06-30T00:00:00\",\"2010-09-30T00:00:00\",\"2010-12-31T00:00:00\",\"2011-03-31T00:00:00\",\"2011-06-30T00:00:00\",\"2011-09-30T00:00:00\",\"2011-12-31T00:00:00\",\"2012-03-31T00:00:00\",\"2012-06-30T00:00:00\",\"2012-09-30T00:00:00\",\"2012-12-31T00:00:00\",\"2013-03-31T00:00:00\",\"2013-06-30T00:00:00\",\"2013-09-30T00:00:00\",\"2013-12-31T00:00:00\",\"2014-03-31T00:00:00\",\"2014-06-30T00:00:00\",\"2014-09-30T00:00:00\",\"2014-12-31T00:00:00\",\"2015-03-31T00:00:00\",\"2015-06-30T00:00:00\",\"2015-09-30T00:00:00\",\"2015-12-31T00:00:00\",\"2016-03-31T00:00:00\",\"2016-06-30T00:00:00\",\"2016-09-30T00:00:00\",\"2016-12-31T00:00:00\",\"2017-03-31T00:00:00\",\"2017-06-30T00:00:00\",\"2017-09-30T00:00:00\",\"2017-12-31T00:00:00\",\"2018-03-31T00:00:00\",\"2018-06-30T00:00:00\",\"2018-09-30T00:00:00\",\"2018-12-31T00:00:00\",\"2019-03-31T00:00:00\",\"2019-06-30T00:00:00\",\"2019-09-30T00:00:00\",\"2019-12-31T00:00:00\",\"2020-03-31T00:00:00\",\"2020-06-30T00:00:00\",\"2020-09-30T00:00:00\",\"2020-12-31T00:00:00\",\"2021-03-31T00:00:00\",\"2021-06-30T00:00:00\",\"2021-09-30T00:00:00\",\"2021-12-31T00:00:00\",\"2022-03-31T00:00:00\",\"2022-06-30T00:00:00\",\"2022-09-30T00:00:00\",\"2022-12-31T00:00:00\",\"2023-03-31T00:00:00\",\"2023-06-30T00:00:00\",\"2023-09-30T00:00:00\",\"2023-12-31T00:00:00\",\"2024-03-31T00:00:00\",\"2024-06-30T00:00:00\",\"2024-09-30T00:00:00\",\"2024-12-31T00:00:00\",\"2025-03-31T00:00:00\",\"2025-06-30T00:00:00\",\"2025-09-30T00:00:00\"],\"y\":[29232.22067225263,29329.163606889797,34727.219992887185,29561.032167216104,30017.91421475431,30400.600007044,35690.35177227038,30395.412321135183,31067.198693391965,31486.293699006736,37635.86301456339,31196.63215004237,31165.084157712135,30517.839703918424,36994.50612040988,30846.941136807614,31634.906615379372,31581.001709049102,37074.854070003676,31885.64548632125,32289.02413026168,32802.74615987614,38062.13521788111,32741.500976564654,33294.23875414174,33799.9451602818,39928.857211218856,33243.54018725699,33516.31837337655,32804.042560160924,39339.721854751115,33075.73808794406,33927.90655752034,33999.470341853004,39371.22922381116,34114.241249732186,34596.281106864095,35100.24085496856,40285.94309257042,35133.97134305996,35747.932041045504,36155.62675628475,42199.41736523649,35619.17684068038,35339.16357775489,34449.848176201405,40852.66142818123,34251.25098905734,35020.632040701756,34724.157472176485,39921.216171754764,34370.38723888679,34759.54790143637,34960.44989424403,39962.45983238576,34458.10838865322,34833.852515006656,35001.90077211236,40841.05233210727,34145.54293956287,34073.65225520628,33008.45072880917,39316.63312878225,32859.962782108814,33430.681245497966,33215.29345192228,38458.69541155671,32959.37083670195,33178.66930965951,33251.4901321078,38451.32994720294,32885.349764839084,33386.247509447305,33385.5750752887,39346.8687997947,32605.840052820917,32480.415430926707,31389.51109605552,37800.81997606544,31188.568356366333,31903.70386505581,31624.05855214176,36825.90702199294,31414.15617243435,31642.956103955552,31760.736892172175,36866.558023343336,31312.996929276924,31876.932800953036,31934.57865245966,37705.07517184897,31106.80306337132,30914.56348804537,29834.432544061292,36259.93683730188,29675.18054030217,30255.355487433568,30092.739604626015,35171.426471601415],\"type\":\"scatter\"},{\"fill\":\"tonexty\",\"fillcolor\":\"rgba(0, 114, 178, 0.2)\",\"line\":{\"color\":\"#0072B2\",\"width\":2},\"mode\":\"lines\",\"name\":\"Predicted\",\"x\":[\"2001-03-31T00:00:00\",\"2001-06-30T00:00:00\",\"2001-09-30T00:00:00\",\"2001-12-31T00:00:00\",\"2002-03-31T00:00:00\",\"2002-06-30T00:00:00\",\"2002-09-30T00:00:00\",\"2002-12-31T00:00:00\",\"2003-03-31T00:00:00\",\"2003-06-30T00:00:00\",\"2003-09-30T00:00:00\",\"2003-12-31T00:00:00\",\"2004-03-31T00:00:00\",\"2004-06-30T00:00:00\",\"2004-09-30T00:00:00\",\"2004-12-31T00:00:00\",\"2005-03-31T00:00:00\",\"2005-06-30T00:00:00\",\"2005-09-30T00:00:00\",\"2005-12-31T00:00:00\",\"2006-03-31T00:00:00\",\"2006-06-30T00:00:00\",\"2006-09-30T00:00:00\",\"2006-12-31T00:00:00\",\"2007-03-31T00:00:00\",\"2007-06-30T00:00:00\",\"2007-09-30T00:00:00\",\"2007-12-31T00:00:00\",\"2008-03-31T00:00:00\",\"2008-06-30T00:00:00\",\"2008-09-30T00:00:00\",\"2008-12-31T00:00:00\",\"2009-03-31T00:00:00\",\"2009-06-30T00:00:00\",\"2009-09-30T00:00:00\",\"2009-12-31T00:00:00\",\"2010-03-31T00:00:00\",\"2010-06-30T00:00:00\",\"2010-09-30T00:00:00\",\"2010-12-31T00:00:00\",\"2011-03-31T00:00:00\",\"2011-06-30T00:00:00\",\"2011-09-30T00:00:00\",\"2011-12-31T00:00:00\",\"2012-03-31T00:00:00\",\"2012-06-30T00:00:00\",\"2012-09-30T00:00:00\",\"2012-12-31T00:00:00\",\"2013-03-31T00:00:00\",\"2013-06-30T00:00:00\",\"2013-09-30T00:00:00\",\"2013-12-31T00:00:00\",\"2014-03-31T00:00:00\",\"2014-06-30T00:00:00\",\"2014-09-30T00:00:00\",\"2014-12-31T00:00:00\",\"2015-03-31T00:00:00\",\"2015-06-30T00:00:00\",\"2015-09-30T00:00:00\",\"2015-12-31T00:00:00\",\"2016-03-31T00:00:00\",\"2016-06-30T00:00:00\",\"2016-09-30T00:00:00\",\"2016-12-31T00:00:00\",\"2017-03-31T00:00:00\",\"2017-06-30T00:00:00\",\"2017-09-30T00:00:00\",\"2017-12-31T00:00:00\",\"2018-03-31T00:00:00\",\"2018-06-30T00:00:00\",\"2018-09-30T00:00:00\",\"2018-12-31T00:00:00\",\"2019-03-31T00:00:00\",\"2019-06-30T00:00:00\",\"2019-09-30T00:00:00\",\"2019-12-31T00:00:00\",\"2020-03-31T00:00:00\",\"2020-06-30T00:00:00\",\"2020-09-30T00:00:00\",\"2020-12-31T00:00:00\",\"2021-03-31T00:00:00\",\"2021-06-30T00:00:00\",\"2021-09-30T00:00:00\",\"2021-12-31T00:00:00\",\"2022-03-31T00:00:00\",\"2022-06-30T00:00:00\",\"2022-09-30T00:00:00\",\"2022-12-31T00:00:00\",\"2023-03-31T00:00:00\",\"2023-06-30T00:00:00\",\"2023-09-30T00:00:00\",\"2023-12-31T00:00:00\",\"2024-03-31T00:00:00\",\"2024-06-30T00:00:00\",\"2024-09-30T00:00:00\",\"2024-12-31T00:00:00\",\"2025-03-31T00:00:00\",\"2025-06-30T00:00:00\",\"2025-09-30T00:00:00\"],\"y\":[30675.55214162446,30678.821601072195,36099.946925490236,30881.063760645324,31409.48633203568,31800.013427818827,37080.78131644909,31789.013936426076,32492.033916329623,32856.207520169555,39016.85246881567,32503.5295534764,32606.05102447664,31810.908723144305,38388.19420972716,32091.64236515473,32989.892678259755,32993.11442005371,38414.191502392314,33195.23223207554,33723.58035208188,34114.03216929812,39394.72143854676,34102.87543914832,34805.81805521875,35169.914352840824,41330.48114570932,34817.05639395406,34919.4771354347,34124.2341046471,40701.41949558435,34404.76755538192,35302.87076700913,35305.94802481679,40726.87903551216,35507.76015645997,36035.95213753841,36426.135167300825,41706.55520897347,36414.439981967465,37117.116656979466,37480.94405855884,43641.239000589645,36923.91520010493,36824.65318683624,35827.673488718785,42200.938271627674,35700.36572345637,36361.18293670213,36124.337685075814,41302.48143522751,35840.61669612984,36131.33990095892,36281.45197204344,41319.16291265264,35784.33858458492,36249.585463341864,36373.34495988458,42290.93388815405,35534.56328234338,35396.67888548515,34361.13071643579,40695.4031991369,34155.83835097917,34816.358551946636,34579.212987864244,39757.28136610988,34295.341255057625,34585.99072651976,34736.10279904009,39773.81374111057,34238.98941453126,34704.23629449744,34827.99579229168,40745.58472155377,33989.214116701194,33851.32972083624,32815.78155271885,39150.05403628412,32610.489188722466,33271.009390301886,33033.86382684121,38211.932205068326,32749.992094026813,33040.64156548196,33190.75363794666,38228.46458007775,32693.640253495076,33158.887133461,33282.64663119647,39200.235560533016,32443.864955593155,32305.980559807336,31270.43239161586,37604.70487526637,31065.1400277144,31725.660229262867,31488.51466586737,36666.58304403311],\"type\":\"scatter\"},{\"fill\":\"tonexty\",\"fillcolor\":\"rgba(0, 114, 178, 0.2)\",\"hoverinfo\":\"skip\",\"line\":{\"width\":0},\"mode\":\"lines\",\"x\":[\"2001-03-31T00:00:00\",\"2001-06-30T00:00:00\",\"2001-09-30T00:00:00\",\"2001-12-31T00:00:00\",\"2002-03-31T00:00:00\",\"2002-06-30T00:00:00\",\"2002-09-30T00:00:00\",\"2002-12-31T00:00:00\",\"2003-03-31T00:00:00\",\"2003-06-30T00:00:00\",\"2003-09-30T00:00:00\",\"2003-12-31T00:00:00\",\"2004-03-31T00:00:00\",\"2004-06-30T00:00:00\",\"2004-09-30T00:00:00\",\"2004-12-31T00:00:00\",\"2005-03-31T00:00:00\",\"2005-06-30T00:00:00\",\"2005-09-30T00:00:00\",\"2005-12-31T00:00:00\",\"2006-03-31T00:00:00\",\"2006-06-30T00:00:00\",\"2006-09-30T00:00:00\",\"2006-12-31T00:00:00\",\"2007-03-31T00:00:00\",\"2007-06-30T00:00:00\",\"2007-09-30T00:00:00\",\"2007-12-31T00:00:00\",\"2008-03-31T00:00:00\",\"2008-06-30T00:00:00\",\"2008-09-30T00:00:00\",\"2008-12-31T00:00:00\",\"2009-03-31T00:00:00\",\"2009-06-30T00:00:00\",\"2009-09-30T00:00:00\",\"2009-12-31T00:00:00\",\"2010-03-31T00:00:00\",\"2010-06-30T00:00:00\",\"2010-09-30T00:00:00\",\"2010-12-31T00:00:00\",\"2011-03-31T00:00:00\",\"2011-06-30T00:00:00\",\"2011-09-30T00:00:00\",\"2011-12-31T00:00:00\",\"2012-03-31T00:00:00\",\"2012-06-30T00:00:00\",\"2012-09-30T00:00:00\",\"2012-12-31T00:00:00\",\"2013-03-31T00:00:00\",\"2013-06-30T00:00:00\",\"2013-09-30T00:00:00\",\"2013-12-31T00:00:00\",\"2014-03-31T00:00:00\",\"2014-06-30T00:00:00\",\"2014-09-30T00:00:00\",\"2014-12-31T00:00:00\",\"2015-03-31T00:00:00\",\"2015-06-30T00:00:00\",\"2015-09-30T00:00:00\",\"2015-12-31T00:00:00\",\"2016-03-31T00:00:00\",\"2016-06-30T00:00:00\",\"2016-09-30T00:00:00\",\"2016-12-31T00:00:00\",\"2017-03-31T00:00:00\",\"2017-06-30T00:00:00\",\"2017-09-30T00:00:00\",\"2017-12-31T00:00:00\",\"2018-03-31T00:00:00\",\"2018-06-30T00:00:00\",\"2018-09-30T00:00:00\",\"2018-12-31T00:00:00\",\"2019-03-31T00:00:00\",\"2019-06-30T00:00:00\",\"2019-09-30T00:00:00\",\"2019-12-31T00:00:00\",\"2020-03-31T00:00:00\",\"2020-06-30T00:00:00\",\"2020-09-30T00:00:00\",\"2020-12-31T00:00:00\",\"2021-03-31T00:00:00\",\"2021-06-30T00:00:00\",\"2021-09-30T00:00:00\",\"2021-12-31T00:00:00\",\"2022-03-31T00:00:00\",\"2022-06-30T00:00:00\",\"2022-09-30T00:00:00\",\"2022-12-31T00:00:00\",\"2023-03-31T00:00:00\",\"2023-06-30T00:00:00\",\"2023-09-30T00:00:00\",\"2023-12-31T00:00:00\",\"2024-03-31T00:00:00\",\"2024-06-30T00:00:00\",\"2024-09-30T00:00:00\",\"2024-12-31T00:00:00\",\"2025-03-31T00:00:00\",\"2025-06-30T00:00:00\",\"2025-09-30T00:00:00\"],\"y\":[31894.20850550727,32100.363659018723,37549.26048159604,32169.24102029895,32798.56274164025,33097.63043130285,38483.22925355452,33188.258012443985,33822.38497424522,34232.26762390152,40312.34201948273,33858.79319980212,34005.96090974834,33183.109013282796,39732.98375712084,33496.310240861625,34390.17022684239,34368.335556255675,39710.27199428313,34529.16833588523,35082.41467700296,35454.05805033657,40783.186511085594,35504.618185864,36189.53003094217,36552.8035894423,42676.60346638988,36210.36143059766,36219.29116851067,35509.16349120781,42028.88977062943,35881.094571528534,36662.20068383316,36822.76190495191,42103.07932581156,36861.72505586264,37432.12622219443,37851.63990291565,43044.87369297098,37790.016142801775,38533.50161367913,38822.06177652759,45085.87510588458,38237.50188230995,38224.718112723596,37146.106538462576,43612.82332854032,37004.45123334646,37765.694514021074,37509.64898815484,42638.3479373364,37177.44504464932,37518.92119653802,37659.3873758245,42640.062969474835,37190.768324067925,37679.17033091823,37644.269843859154,43542.994298304104,36896.01615343641,36739.55694908015,35903.20537113762,42001.75110862219,35626.414767032256,36248.19460465212,35980.316196809705,41149.06380538171,35668.53568783945,35959.52959532121,36093.385281192044,41206.17084780462,35641.07826624334,36064.29859609705,36188.94595188975,42161.10807986445,35354.4673893953,35292.7702723667,34197.26597985983,40467.5593781143,33966.50246759169,34576.17624866225,34310.62786187301,39622.984568142434,34221.81662818876,34537.22312753993,34576.020848962085,39564.422168866804,33962.51724981046,34557.50163981034,34658.774527881695,40568.23267889159,33842.078946976675,33691.83021830321,32675.404993478118,38974.21062700327,32474.865488894797,33066.7525908059,32813.29006918378,38131.76906476719],\"type\":\"scatter\"}],                        {\"height\":600,\"showlegend\":false,\"width\":900,\"xaxis\":{\"rangeselector\":{\"buttons\":[{\"count\":7,\"label\":\"1w\",\"step\":\"day\",\"stepmode\":\"backward\"},{\"count\":1,\"label\":\"1m\",\"step\":\"month\",\"stepmode\":\"backward\"},{\"count\":6,\"label\":\"6m\",\"step\":\"month\",\"stepmode\":\"backward\"},{\"count\":1,\"label\":\"1y\",\"step\":\"year\",\"stepmode\":\"backward\"},{\"step\":\"all\"}]},\"rangeslider\":{\"visible\":true},\"title\":{\"text\":\"ds\"},\"type\":\"date\"},\"yaxis\":{\"title\":{\"text\":\"y\"}},\"template\":{\"data\":{\"bar\":[{\"error_x\":{\"color\":\"#2a3f5f\"},\"error_y\":{\"color\":\"#2a3f5f\"},\"marker\":{\"line\":{\"color\":\"#E5ECF6\",\"width\":0.5},\"pattern\":{\"fillmode\":\"overlay\",\"size\":10,\"solidity\":0.2}},\"type\":\"bar\"}],\"barpolar\":[{\"marker\":{\"line\":{\"color\":\"#E5ECF6\",\"width\":0.5},\"pattern\":{\"fillmode\":\"overlay\",\"size\":10,\"solidity\":0.2}},\"type\":\"barpolar\"}],\"carpet\":[{\"aaxis\":{\"endlinecolor\":\"#2a3f5f\",\"gridcolor\":\"white\",\"linecolor\":\"white\",\"minorgridcolor\":\"white\",\"startlinecolor\":\"#2a3f5f\"},\"baxis\":{\"endlinecolor\":\"#2a3f5f\",\"gridcolor\":\"white\",\"linecolor\":\"white\",\"minorgridcolor\":\"white\",\"startlinecolor\":\"#2a3f5f\"},\"type\":\"carpet\"}],\"choropleth\":[{\"colorbar\":{\"outlinewidth\":0,\"ticks\":\"\"},\"type\":\"choropleth\"}],\"contour\":[{\"colorbar\":{\"outlinewidth\":0,\"ticks\":\"\"},\"colorscale\":[[0.0,\"#0d0887\"],[0.1111111111111111,\"#46039f\"],[0.2222222222222222,\"#7201a8\"],[0.3333333333333333,\"#9c179e\"],[0.4444444444444444,\"#bd3786\"],[0.5555555555555556,\"#d8576b\"],[0.6666666666666666,\"#ed7953\"],[0.7777777777777778,\"#fb9f3a\"],[0.8888888888888888,\"#fdca26\"],[1.0,\"#f0f921\"]],\"type\":\"contour\"}],\"contourcarpet\":[{\"colorbar\":{\"outlinewidth\":0,\"ticks\":\"\"},\"type\":\"contourcarpet\"}],\"heatmap\":[{\"colorbar\":{\"outlinewidth\":0,\"ticks\":\"\"},\"colorscale\":[[0.0,\"#0d0887\"],[0.1111111111111111,\"#46039f\"],[0.2222222222222222,\"#7201a8\"],[0.3333333333333333,\"#9c179e\"],[0.4444444444444444,\"#bd3786\"],[0.5555555555555556,\"#d8576b\"],[0.6666666666666666,\"#ed7953\"],[0.7777777777777778,\"#fb9f3a\"],[0.8888888888888888,\"#fdca26\"],[1.0,\"#f0f921\"]],\"type\":\"heatmap\"}],\"heatmapgl\":[{\"colorbar\":{\"outlinewidth\":0,\"ticks\":\"\"},\"colorscale\":[[0.0,\"#0d0887\"],[0.1111111111111111,\"#46039f\"],[0.2222222222222222,\"#7201a8\"],[0.3333333333333333,\"#9c179e\"],[0.4444444444444444,\"#bd3786\"],[0.5555555555555556,\"#d8576b\"],[0.6666666666666666,\"#ed7953\"],[0.7777777777777778,\"#fb9f3a\"],[0.8888888888888888,\"#fdca26\"],[1.0,\"#f0f921\"]],\"type\":\"heatmapgl\"}],\"histogram\":[{\"marker\":{\"pattern\":{\"fillmode\":\"overlay\",\"size\":10,\"solidity\":0.2}},\"type\":\"histogram\"}],\"histogram2d\":[{\"colorbar\":{\"outlinewidth\":0,\"ticks\":\"\"},\"colorscale\":[[0.0,\"#0d0887\"],[0.1111111111111111,\"#46039f\"],[0.2222222222222222,\"#7201a8\"],[0.3333333333333333,\"#9c179e\"],[0.4444444444444444,\"#bd3786\"],[0.5555555555555556,\"#d8576b\"],[0.6666666666666666,\"#ed7953\"],[0.7777777777777778,\"#fb9f3a\"],[0.8888888888888888,\"#fdca26\"],[1.0,\"#f0f921\"]],\"type\":\"histogram2d\"}],\"histogram2dcontour\":[{\"colorbar\":{\"outlinewidth\":0,\"ticks\":\"\"},\"colorscale\":[[0.0,\"#0d0887\"],[0.1111111111111111,\"#46039f\"],[0.2222222222222222,\"#7201a8\"],[0.3333333333333333,\"#9c179e\"],[0.4444444444444444,\"#bd3786\"],[0.5555555555555556,\"#d8576b\"],[0.6666666666666666,\"#ed7953\"],[0.7777777777777778,\"#fb9f3a\"],[0.8888888888888888,\"#fdca26\"],[1.0,\"#f0f921\"]],\"type\":\"histogram2dcontour\"}],\"mesh3d\":[{\"colorbar\":{\"outlinewidth\":0,\"ticks\":\"\"},\"type\":\"mesh3d\"}],\"parcoords\":[{\"line\":{\"colorbar\":{\"outlinewidth\":0,\"ticks\":\"\"}},\"type\":\"parcoords\"}],\"pie\":[{\"automargin\":true,\"type\":\"pie\"}],\"scatter\":[{\"marker\":{\"colorbar\":{\"outlinewidth\":0,\"ticks\":\"\"}},\"type\":\"scatter\"}],\"scatter3d\":[{\"line\":{\"colorbar\":{\"outlinewidth\":0,\"ticks\":\"\"}},\"marker\":{\"colorbar\":{\"outlinewidth\":0,\"ticks\":\"\"}},\"type\":\"scatter3d\"}],\"scattercarpet\":[{\"marker\":{\"colorbar\":{\"outlinewidth\":0,\"ticks\":\"\"}},\"type\":\"scattercarpet\"}],\"scattergeo\":[{\"marker\":{\"colorbar\":{\"outlinewidth\":0,\"ticks\":\"\"}},\"type\":\"scattergeo\"}],\"scattergl\":[{\"marker\":{\"colorbar\":{\"outlinewidth\":0,\"ticks\":\"\"}},\"type\":\"scattergl\"}],\"scattermapbox\":[{\"marker\":{\"colorbar\":{\"outlinewidth\":0,\"ticks\":\"\"}},\"type\":\"scattermapbox\"}],\"scatterpolar\":[{\"marker\":{\"colorbar\":{\"outlinewidth\":0,\"ticks\":\"\"}},\"type\":\"scatterpolar\"}],\"scatterpolargl\":[{\"marker\":{\"colorbar\":{\"outlinewidth\":0,\"ticks\":\"\"}},\"type\":\"scatterpolargl\"}],\"scatterternary\":[{\"marker\":{\"colorbar\":{\"outlinewidth\":0,\"ticks\":\"\"}},\"type\":\"scatterternary\"}],\"surface\":[{\"colorbar\":{\"outlinewidth\":0,\"ticks\":\"\"},\"colorscale\":[[0.0,\"#0d0887\"],[0.1111111111111111,\"#46039f\"],[0.2222222222222222,\"#7201a8\"],[0.3333333333333333,\"#9c179e\"],[0.4444444444444444,\"#bd3786\"],[0.5555555555555556,\"#d8576b\"],[0.6666666666666666,\"#ed7953\"],[0.7777777777777778,\"#fb9f3a\"],[0.8888888888888888,\"#fdca26\"],[1.0,\"#f0f921\"]],\"type\":\"surface\"}],\"table\":[{\"cells\":{\"fill\":{\"color\":\"#EBF0F8\"},\"line\":{\"color\":\"white\"}},\"header\":{\"fill\":{\"color\":\"#C8D4E3\"},\"line\":{\"color\":\"white\"}},\"type\":\"table\"}]},\"layout\":{\"annotationdefaults\":{\"arrowcolor\":\"#2a3f5f\",\"arrowhead\":0,\"arrowwidth\":1},\"autotypenumbers\":\"strict\",\"coloraxis\":{\"colorbar\":{\"outlinewidth\":0,\"ticks\":\"\"}},\"colorscale\":{\"diverging\":[[0,\"#8e0152\"],[0.1,\"#c51b7d\"],[0.2,\"#de77ae\"],[0.3,\"#f1b6da\"],[0.4,\"#fde0ef\"],[0.5,\"#f7f7f7\"],[0.6,\"#e6f5d0\"],[0.7,\"#b8e186\"],[0.8,\"#7fbc41\"],[0.9,\"#4d9221\"],[1,\"#276419\"]],\"sequential\":[[0.0,\"#0d0887\"],[0.1111111111111111,\"#46039f\"],[0.2222222222222222,\"#7201a8\"],[0.3333333333333333,\"#9c179e\"],[0.4444444444444444,\"#bd3786\"],[0.5555555555555556,\"#d8576b\"],[0.6666666666666666,\"#ed7953\"],[0.7777777777777778,\"#fb9f3a\"],[0.8888888888888888,\"#fdca26\"],[1.0,\"#f0f921\"]],\"sequentialminus\":[[0.0,\"#0d0887\"],[0.1111111111111111,\"#46039f\"],[0.2222222222222222,\"#7201a8\"],[0.3333333333333333,\"#9c179e\"],[0.4444444444444444,\"#bd3786\"],[0.5555555555555556,\"#d8576b\"],[0.6666666666666666,\"#ed7953\"],[0.7777777777777778,\"#fb9f3a\"],[0.8888888888888888,\"#fdca26\"],[1.0,\"#f0f921\"]]},\"colorway\":[\"#636efa\",\"#EF553B\",\"#00cc96\",\"#ab63fa\",\"#FFA15A\",\"#19d3f3\",\"#FF6692\",\"#B6E880\",\"#FF97FF\",\"#FECB52\"],\"font\":{\"color\":\"#2a3f5f\"},\"geo\":{\"bgcolor\":\"white\",\"lakecolor\":\"white\",\"landcolor\":\"#E5ECF6\",\"showlakes\":true,\"showland\":true,\"subunitcolor\":\"white\"},\"hoverlabel\":{\"align\":\"left\"},\"hovermode\":\"closest\",\"mapbox\":{\"style\":\"light\"},\"paper_bgcolor\":\"white\",\"plot_bgcolor\":\"#E5ECF6\",\"polar\":{\"angularaxis\":{\"gridcolor\":\"white\",\"linecolor\":\"white\",\"ticks\":\"\"},\"bgcolor\":\"#E5ECF6\",\"radialaxis\":{\"gridcolor\":\"white\",\"linecolor\":\"white\",\"ticks\":\"\"}},\"scene\":{\"xaxis\":{\"backgroundcolor\":\"#E5ECF6\",\"gridcolor\":\"white\",\"gridwidth\":2,\"linecolor\":\"white\",\"showbackground\":true,\"ticks\":\"\",\"zerolinecolor\":\"white\"},\"yaxis\":{\"backgroundcolor\":\"#E5ECF6\",\"gridcolor\":\"white\",\"gridwidth\":2,\"linecolor\":\"white\",\"showbackground\":true,\"ticks\":\"\",\"zerolinecolor\":\"white\"},\"zaxis\":{\"backgroundcolor\":\"#E5ECF6\",\"gridcolor\":\"white\",\"gridwidth\":2,\"linecolor\":\"white\",\"showbackground\":true,\"ticks\":\"\",\"zerolinecolor\":\"white\"}},\"shapedefaults\":{\"line\":{\"color\":\"#2a3f5f\"}},\"ternary\":{\"aaxis\":{\"gridcolor\":\"white\",\"linecolor\":\"white\",\"ticks\":\"\"},\"baxis\":{\"gridcolor\":\"white\",\"linecolor\":\"white\",\"ticks\":\"\"},\"bgcolor\":\"#E5ECF6\",\"caxis\":{\"gridcolor\":\"white\",\"linecolor\":\"white\",\"ticks\":\"\"}},\"title\":{\"x\":0.05},\"xaxis\":{\"automargin\":true,\"gridcolor\":\"white\",\"linecolor\":\"white\",\"ticks\":\"\",\"title\":{\"standoff\":15},\"zerolinecolor\":\"white\",\"zerolinewidth\":2},\"yaxis\":{\"automargin\":true,\"gridcolor\":\"white\",\"linecolor\":\"white\",\"ticks\":\"\",\"title\":{\"standoff\":15},\"zerolinecolor\":\"white\",\"zerolinewidth\":2}}}},                        {\"responsive\": true}                    ).then(function(){\n",
       "                            \n",
       "var gd = document.getElementById('5f22f81d-164f-44f8-9deb-4fa5638b29ca');\n",
       "var x = new MutationObserver(function (mutations, observer) {{\n",
       "        var display = window.getComputedStyle(gd).display;\n",
       "        if (!display || display === 'none') {{\n",
       "            console.log([gd, 'removed!']);\n",
       "            Plotly.purge(gd);\n",
       "            observer.disconnect();\n",
       "        }}\n",
       "}});\n",
       "\n",
       "// Listen for the removal of the full notebook cells\n",
       "var notebookContainer = gd.closest('#notebook-container');\n",
       "if (notebookContainer) {{\n",
       "    x.observe(notebookContainer, {childList: true});\n",
       "}}\n",
       "\n",
       "// Listen for the clearing of the current output cell\n",
       "var outputEl = gd.closest('.output');\n",
       "if (outputEl) {{\n",
       "    x.observe(outputEl, {childList: true});\n",
       "}}\n",
       "\n",
       "                        })                };                });            </script>        </div>"
      ]
     },
     "metadata": {},
     "output_type": "display_data"
    }
   ],
   "source": [
    "from prophet.plot import plot_plotly, plot_components_plotly\n",
    "\n",
    "# Interative Plots\n",
    "plot_plotly(m, forecast)\n",
    "# plot_components_plotly(m, forecast)"
   ]
  },
  {
   "cell_type": "code",
   "execution_count": 101,
   "id": "5b3adff6-39c3-4a23-88ef-08d813614cf5",
   "metadata": {},
   "outputs": [
    {
     "data": {
      "application/vnd.plotly.v1+json": {
       "config": {
        "plotlyServerURL": "https://plot.ly"
       },
       "data": [
        {
         "line": {
          "color": "#0072B2",
          "width": 2
         },
         "mode": "lines",
         "name": "trend",
         "type": "scatter",
         "x": [
          "2001-03-31T00:00:00",
          "2001-06-30T00:00:00",
          "2001-09-30T00:00:00",
          "2001-12-31T00:00:00",
          "2002-03-31T00:00:00",
          "2002-06-30T00:00:00",
          "2002-09-30T00:00:00",
          "2002-12-31T00:00:00",
          "2003-03-31T00:00:00",
          "2003-06-30T00:00:00",
          "2003-09-30T00:00:00",
          "2003-12-31T00:00:00",
          "2004-03-31T00:00:00",
          "2004-06-30T00:00:00",
          "2004-09-30T00:00:00",
          "2004-12-31T00:00:00",
          "2005-03-31T00:00:00",
          "2005-06-30T00:00:00",
          "2005-09-30T00:00:00",
          "2005-12-31T00:00:00",
          "2006-03-31T00:00:00",
          "2006-06-30T00:00:00",
          "2006-09-30T00:00:00",
          "2006-12-31T00:00:00",
          "2007-03-31T00:00:00",
          "2007-06-30T00:00:00",
          "2007-09-30T00:00:00",
          "2007-12-31T00:00:00",
          "2008-03-31T00:00:00",
          "2008-06-30T00:00:00",
          "2008-09-30T00:00:00",
          "2008-12-31T00:00:00",
          "2009-03-31T00:00:00",
          "2009-06-30T00:00:00",
          "2009-09-30T00:00:00",
          "2009-12-31T00:00:00",
          "2010-03-31T00:00:00",
          "2010-06-30T00:00:00",
          "2010-09-30T00:00:00",
          "2010-12-31T00:00:00",
          "2011-03-31T00:00:00",
          "2011-06-30T00:00:00",
          "2011-09-30T00:00:00",
          "2011-12-31T00:00:00",
          "2012-03-31T00:00:00",
          "2012-06-30T00:00:00",
          "2012-09-30T00:00:00",
          "2012-12-31T00:00:00",
          "2013-03-31T00:00:00",
          "2013-06-30T00:00:00",
          "2013-09-30T00:00:00",
          "2013-12-31T00:00:00",
          "2014-03-31T00:00:00",
          "2014-06-30T00:00:00",
          "2014-09-30T00:00:00",
          "2014-12-31T00:00:00",
          "2015-03-31T00:00:00",
          "2015-06-30T00:00:00",
          "2015-09-30T00:00:00",
          "2015-12-31T00:00:00",
          "2016-03-31T00:00:00",
          "2016-06-30T00:00:00",
          "2016-09-30T00:00:00",
          "2016-12-31T00:00:00",
          "2017-03-31T00:00:00",
          "2017-06-30T00:00:00",
          "2017-09-30T00:00:00",
          "2017-12-31T00:00:00",
          "2018-03-31T00:00:00",
          "2018-06-30T00:00:00",
          "2018-09-30T00:00:00",
          "2018-12-31T00:00:00",
          "2019-03-31T00:00:00",
          "2019-06-30T00:00:00",
          "2019-09-30T00:00:00",
          "2019-12-31T00:00:00",
          "2020-03-31T00:00:00",
          "2020-06-30T00:00:00",
          "2020-09-30T00:00:00",
          "2020-12-31T00:00:00",
          "2021-03-31T00:00:00",
          "2021-06-30T00:00:00",
          "2021-09-30T00:00:00",
          "2021-12-31T00:00:00",
          "2022-03-31T00:00:00",
          "2022-06-30T00:00:00",
          "2022-09-30T00:00:00",
          "2022-12-31T00:00:00",
          "2023-03-31T00:00:00",
          "2023-06-30T00:00:00",
          "2023-09-30T00:00:00",
          "2023-12-31T00:00:00",
          "2024-03-31T00:00:00",
          "2024-06-30T00:00:00",
          "2024-09-30T00:00:00",
          "2024-12-31T00:00:00",
          "2025-03-31T00:00:00",
          "2025-06-30T00:00:00",
          "2025-09-30T00:00:00"
         ],
         "xaxis": "x",
         "y": [
          95315.23287888951,
          95459.39412104187,
          95605.13955266842,
          95750.88498429497,
          95893.46203732131,
          96037.6232798257,
          96183.36871182502,
          96329.11414382434,
          96471.69119686713,
          96615.85152221147,
          96761.59602695517,
          96907.33220190856,
          97051.48428800372,
          97195.6363740989,
          97341.33786246215,
          97487.03935082542,
          97629.57341552859,
          97773.68693999473,
          97919.38412956492,
          98065.05345570872,
          98207.55605737116,
          98351.6420212743,
          98497.30883391941,
          98642.97564656453,
          98785.4753357757,
          98929.55835486701,
          99075.22470383841,
          99220.85904236803,
          99364.91039895712,
          99508.96175554619,
          99654.56314833272,
          99800.16454111921,
          99942.55150427551,
          100086.52054480022,
          100232.07166269333,
          100377.58138012396,
          100519.92784282782,
          100663.74501932357,
          100809.14260435225,
          100954.54018938093,
          101096.77393751501,
          101240.58806062835,
          101385.98255872093,
          101327.71784850572,
          101270.08645035807,
          101212.40113962254,
          101154.08192437343,
          101095.76270912432,
          101000.8636739674,
          100904.91020508653,
          100807.67406240664,
          100710.43791972676,
          100615.31560623558,
          100519.06182406748,
          100421.7503080294,
          100324.43879199133,
          100229.24274387183,
          100132.98896188434,
          100035.67744630096,
          99938.36593071755,
          99842.11214899921,
          99745.85836736452,
          99648.54685186576,
          99551.23533667142,
          99456.03928919871,
          99359.7855078652,
          99262.47399327585,
          99165.16247868653,
          99069.96643180566,
          98973.71265107056,
          98876.40113648122,
          98779.08962189188,
          98683.89357501101,
          98587.63979427592,
          98490.32827968657,
          98393.01676509724,
          98296.76298436213,
          98200.50920362704,
          98103.1976890377,
          98005.88617444836,
          97910.69012756749,
          97814.43634683237,
          97717.12483224305,
          97619.81331765372,
          97524.61727077284,
          97428.36349003774,
          97331.0519754484,
          97233.74046085907,
          97138.5444139782,
          97042.29063324309,
          96944.97911865376,
          96847.66760406444,
          96751.41382332932,
          96655.16004259422,
          96557.84852800488,
          96460.53701341555,
          96365.34096653468,
          96269.08718579957,
          96171.77567121024
         ],
         "yaxis": "y"
        },
        {
         "line": {
          "color": "rgba(0, 114, 178, 0.2)",
          "width": 0
         },
         "mode": "lines",
         "name": "trend_upper",
         "type": "scatter",
         "x": [
          "2001-03-31T00:00:00",
          "2001-06-30T00:00:00",
          "2001-09-30T00:00:00",
          "2001-12-31T00:00:00",
          "2002-03-31T00:00:00",
          "2002-06-30T00:00:00",
          "2002-09-30T00:00:00",
          "2002-12-31T00:00:00",
          "2003-03-31T00:00:00",
          "2003-06-30T00:00:00",
          "2003-09-30T00:00:00",
          "2003-12-31T00:00:00",
          "2004-03-31T00:00:00",
          "2004-06-30T00:00:00",
          "2004-09-30T00:00:00",
          "2004-12-31T00:00:00",
          "2005-03-31T00:00:00",
          "2005-06-30T00:00:00",
          "2005-09-30T00:00:00",
          "2005-12-31T00:00:00",
          "2006-03-31T00:00:00",
          "2006-06-30T00:00:00",
          "2006-09-30T00:00:00",
          "2006-12-31T00:00:00",
          "2007-03-31T00:00:00",
          "2007-06-30T00:00:00",
          "2007-09-30T00:00:00",
          "2007-12-31T00:00:00",
          "2008-03-31T00:00:00",
          "2008-06-30T00:00:00",
          "2008-09-30T00:00:00",
          "2008-12-31T00:00:00",
          "2009-03-31T00:00:00",
          "2009-06-30T00:00:00",
          "2009-09-30T00:00:00",
          "2009-12-31T00:00:00",
          "2010-03-31T00:00:00",
          "2010-06-30T00:00:00",
          "2010-09-30T00:00:00",
          "2010-12-31T00:00:00",
          "2011-03-31T00:00:00",
          "2011-06-30T00:00:00",
          "2011-09-30T00:00:00",
          "2011-12-31T00:00:00",
          "2012-03-31T00:00:00",
          "2012-06-30T00:00:00",
          "2012-09-30T00:00:00",
          "2012-12-31T00:00:00",
          "2013-03-31T00:00:00",
          "2013-06-30T00:00:00",
          "2013-09-30T00:00:00",
          "2013-12-31T00:00:00",
          "2014-03-31T00:00:00",
          "2014-06-30T00:00:00",
          "2014-09-30T00:00:00",
          "2014-12-31T00:00:00",
          "2015-03-31T00:00:00",
          "2015-06-30T00:00:00",
          "2015-09-30T00:00:00",
          "2015-12-31T00:00:00",
          "2016-03-31T00:00:00",
          "2016-06-30T00:00:00",
          "2016-09-30T00:00:00",
          "2016-12-31T00:00:00",
          "2017-03-31T00:00:00",
          "2017-06-30T00:00:00",
          "2017-09-30T00:00:00",
          "2017-12-31T00:00:00",
          "2018-03-31T00:00:00",
          "2018-06-30T00:00:00",
          "2018-09-30T00:00:00",
          "2018-12-31T00:00:00",
          "2019-03-31T00:00:00",
          "2019-06-30T00:00:00",
          "2019-09-30T00:00:00",
          "2019-12-31T00:00:00",
          "2020-03-31T00:00:00",
          "2020-06-30T00:00:00",
          "2020-09-30T00:00:00",
          "2020-12-31T00:00:00",
          "2021-03-31T00:00:00",
          "2021-06-30T00:00:00",
          "2021-09-30T00:00:00",
          "2021-12-31T00:00:00",
          "2022-03-31T00:00:00",
          "2022-06-30T00:00:00",
          "2022-09-30T00:00:00",
          "2022-12-31T00:00:00",
          "2023-03-31T00:00:00",
          "2023-06-30T00:00:00",
          "2023-09-30T00:00:00",
          "2023-12-31T00:00:00",
          "2024-03-31T00:00:00",
          "2024-06-30T00:00:00",
          "2024-09-30T00:00:00",
          "2024-12-31T00:00:00",
          "2025-03-31T00:00:00",
          "2025-06-30T00:00:00",
          "2025-09-30T00:00:00"
         ],
         "xaxis": "x",
         "y": [
          95315.23287888951,
          95459.39412104187,
          95605.13955266842,
          95750.88498429497,
          95893.46203732131,
          96037.6232798257,
          96183.36871182502,
          96329.11414382434,
          96471.69119686713,
          96615.85152221147,
          96761.59602695517,
          96907.33220190856,
          97051.48428800372,
          97195.6363740989,
          97341.33786246215,
          97487.03935082542,
          97629.57341552859,
          97773.68693999473,
          97919.38412956492,
          98065.05345570872,
          98207.55605737116,
          98351.6420212743,
          98497.30883391941,
          98642.97564656453,
          98785.4753357757,
          98929.55835486701,
          99075.22470383841,
          99220.85904236803,
          99364.91039895712,
          99508.96175554619,
          99654.56314833272,
          99800.16454111921,
          99942.55150427551,
          100086.52054480022,
          100232.07166269333,
          100377.58138012396,
          100519.92784282782,
          100663.74501932357,
          100809.14260435225,
          100954.54018938093,
          101096.77393751501,
          101240.58806062835,
          101385.98255872093,
          101327.71784850572,
          101270.08645035807,
          101212.40113962254,
          101154.08192437343,
          101095.76270912432,
          101000.8636739674,
          100904.91020508653,
          100807.67406240664,
          100710.43791972676,
          100615.31560623558,
          100519.06182406748,
          100421.7503080294,
          100324.43879199133,
          100229.24274387183,
          100132.98896188434,
          100035.67744630096,
          99938.36593071755,
          99842.11214899921,
          99745.85836736452,
          99648.54685186576,
          99551.23533667142,
          99456.03928919871,
          99359.7855078652,
          99262.47399327585,
          99165.16247868653,
          99069.96643180566,
          98973.71265107056,
          98876.40113648122,
          98779.08962189188,
          98683.89357501101,
          98587.63979427592,
          98490.32827968657,
          98393.01676509724,
          98296.76298436213,
          98200.50920362704,
          98103.1976890377,
          98005.88617444836,
          97910.69012756749,
          97814.43634683237,
          97717.12483224305,
          97620.49983689196,
          97532.64669980736,
          97447.68406726762,
          97363.51535976386,
          97282.22301640805,
          97205.87013626072,
          97130.96036518727,
          97054.22625386802,
          96978.32813391485,
          96903.65007688694,
          96836.289048428,
          96765.68811971205,
          96700.43987619039,
          96638.38647497722,
          96585.16025862392,
          96515.53311267614
         ],
         "yaxis": "y"
        },
        {
         "fill": "tonexty",
         "fillcolor": "rgba(0, 114, 178, 0.2)",
         "line": {
          "color": "rgba(0, 114, 178, 0.2)",
          "width": 0
         },
         "mode": "lines",
         "name": "trend_lower",
         "type": "scatter",
         "x": [
          "2001-03-31T00:00:00",
          "2001-06-30T00:00:00",
          "2001-09-30T00:00:00",
          "2001-12-31T00:00:00",
          "2002-03-31T00:00:00",
          "2002-06-30T00:00:00",
          "2002-09-30T00:00:00",
          "2002-12-31T00:00:00",
          "2003-03-31T00:00:00",
          "2003-06-30T00:00:00",
          "2003-09-30T00:00:00",
          "2003-12-31T00:00:00",
          "2004-03-31T00:00:00",
          "2004-06-30T00:00:00",
          "2004-09-30T00:00:00",
          "2004-12-31T00:00:00",
          "2005-03-31T00:00:00",
          "2005-06-30T00:00:00",
          "2005-09-30T00:00:00",
          "2005-12-31T00:00:00",
          "2006-03-31T00:00:00",
          "2006-06-30T00:00:00",
          "2006-09-30T00:00:00",
          "2006-12-31T00:00:00",
          "2007-03-31T00:00:00",
          "2007-06-30T00:00:00",
          "2007-09-30T00:00:00",
          "2007-12-31T00:00:00",
          "2008-03-31T00:00:00",
          "2008-06-30T00:00:00",
          "2008-09-30T00:00:00",
          "2008-12-31T00:00:00",
          "2009-03-31T00:00:00",
          "2009-06-30T00:00:00",
          "2009-09-30T00:00:00",
          "2009-12-31T00:00:00",
          "2010-03-31T00:00:00",
          "2010-06-30T00:00:00",
          "2010-09-30T00:00:00",
          "2010-12-31T00:00:00",
          "2011-03-31T00:00:00",
          "2011-06-30T00:00:00",
          "2011-09-30T00:00:00",
          "2011-12-31T00:00:00",
          "2012-03-31T00:00:00",
          "2012-06-30T00:00:00",
          "2012-09-30T00:00:00",
          "2012-12-31T00:00:00",
          "2013-03-31T00:00:00",
          "2013-06-30T00:00:00",
          "2013-09-30T00:00:00",
          "2013-12-31T00:00:00",
          "2014-03-31T00:00:00",
          "2014-06-30T00:00:00",
          "2014-09-30T00:00:00",
          "2014-12-31T00:00:00",
          "2015-03-31T00:00:00",
          "2015-06-30T00:00:00",
          "2015-09-30T00:00:00",
          "2015-12-31T00:00:00",
          "2016-03-31T00:00:00",
          "2016-06-30T00:00:00",
          "2016-09-30T00:00:00",
          "2016-12-31T00:00:00",
          "2017-03-31T00:00:00",
          "2017-06-30T00:00:00",
          "2017-09-30T00:00:00",
          "2017-12-31T00:00:00",
          "2018-03-31T00:00:00",
          "2018-06-30T00:00:00",
          "2018-09-30T00:00:00",
          "2018-12-31T00:00:00",
          "2019-03-31T00:00:00",
          "2019-06-30T00:00:00",
          "2019-09-30T00:00:00",
          "2019-12-31T00:00:00",
          "2020-03-31T00:00:00",
          "2020-06-30T00:00:00",
          "2020-09-30T00:00:00",
          "2020-12-31T00:00:00",
          "2021-03-31T00:00:00",
          "2021-06-30T00:00:00",
          "2021-09-30T00:00:00",
          "2021-12-31T00:00:00",
          "2022-03-31T00:00:00",
          "2022-06-30T00:00:00",
          "2022-09-30T00:00:00",
          "2022-12-31T00:00:00",
          "2023-03-31T00:00:00",
          "2023-06-30T00:00:00",
          "2023-09-30T00:00:00",
          "2023-12-31T00:00:00",
          "2024-03-31T00:00:00",
          "2024-06-30T00:00:00",
          "2024-09-30T00:00:00",
          "2024-12-31T00:00:00",
          "2025-03-31T00:00:00",
          "2025-06-30T00:00:00",
          "2025-09-30T00:00:00"
         ],
         "xaxis": "x",
         "y": [
          95315.23287888951,
          95459.39412104187,
          95605.13955266842,
          95750.88498429497,
          95893.46203732131,
          96037.6232798257,
          96183.36871182502,
          96329.11414382434,
          96471.69119686713,
          96615.85152221147,
          96761.59602695517,
          96907.33220190856,
          97051.48428800372,
          97195.6363740989,
          97341.33786246215,
          97487.03935082542,
          97629.57341552859,
          97773.68693999473,
          97919.38412956492,
          98065.05345570872,
          98207.55605737116,
          98351.6420212743,
          98497.30883391941,
          98642.97564656453,
          98785.4753357757,
          98929.55835486701,
          99075.22470383841,
          99220.85904236803,
          99364.91039895712,
          99508.96175554619,
          99654.56314833272,
          99800.16454111921,
          99942.55150427551,
          100086.52054480022,
          100232.07166269333,
          100377.58138012396,
          100519.92784282782,
          100663.74501932357,
          100809.14260435225,
          100954.54018938093,
          101096.77393751501,
          101240.58806062835,
          101385.98255872093,
          101327.71784850572,
          101270.08645035807,
          101212.40113962254,
          101154.08192437343,
          101095.76270912432,
          101000.8636739674,
          100904.91020508653,
          100807.67406240664,
          100710.43791972676,
          100615.31560623558,
          100519.06182406748,
          100421.7503080294,
          100324.43879199133,
          100229.24274387183,
          100132.98896188434,
          100035.67744630096,
          99938.36593071755,
          99842.11214899921,
          99745.85836736452,
          99648.54685186576,
          99551.23533667142,
          99456.03928919871,
          99359.7855078652,
          99262.47399327585,
          99165.16247868653,
          99069.96643180566,
          98973.71265107056,
          98876.40113648122,
          98779.08962189188,
          98683.89357501101,
          98587.63979427592,
          98490.32827968657,
          98393.01676509724,
          98296.76298436213,
          98200.50920362704,
          98103.1976890377,
          98005.88617444836,
          97910.69012756749,
          97814.43634683237,
          97717.12483224305,
          97618.50180717368,
          97515.46041281015,
          97406.80363544662,
          97294.90381402695,
          97181.48537162562,
          97066.11453291863,
          96950.00684815935,
          96831.68221382091,
          96709.8317677659,
          96589.00598245156,
          96466.6161583394,
          96341.34476508536,
          96221.25924478986,
          96100.01036118904,
          95977.25572596525,
          95844.16660351018
         ],
         "yaxis": "y"
        },
        {
         "line": {
          "color": "#0072B2",
          "width": 2
         },
         "mode": "lines",
         "name": "yearly",
         "type": "scatter",
         "x": [
          "2017-01-01T00:00:00",
          "2017-01-02T00:00:59.178082",
          "2017-01-03T00:01:58.356164",
          "2017-01-04T00:02:57.534246",
          "2017-01-05T00:03:56.712328",
          "2017-01-06T00:04:55.890411",
          "2017-01-07T00:05:55.068493",
          "2017-01-08T00:06:54.246575",
          "2017-01-09T00:07:53.424657",
          "2017-01-10T00:08:52.602739",
          "2017-01-11T00:09:51.780822",
          "2017-01-12T00:10:50.958904",
          "2017-01-13T00:11:50.136986",
          "2017-01-14T00:12:49.315068",
          "2017-01-15T00:13:48.493150",
          "2017-01-16T00:14:47.671232",
          "2017-01-17T00:15:46.849315",
          "2017-01-18T00:16:46.027397",
          "2017-01-19T00:17:45.205479",
          "2017-01-20T00:18:44.383561",
          "2017-01-21T00:19:43.561643",
          "2017-01-22T00:20:42.739726",
          "2017-01-23T00:21:41.917808",
          "2017-01-24T00:22:41.095890",
          "2017-01-25T00:23:40.273972",
          "2017-01-26T00:24:39.452054",
          "2017-01-27T00:25:38.630137",
          "2017-01-28T00:26:37.808219",
          "2017-01-29T00:27:36.986301",
          "2017-01-30T00:28:36.164383",
          "2017-01-31T00:29:35.342465",
          "2017-02-01T00:30:34.520547",
          "2017-02-02T00:31:33.698630",
          "2017-02-03T00:32:32.876712",
          "2017-02-04T00:33:32.054794",
          "2017-02-05T00:34:31.232876",
          "2017-02-06T00:35:30.410958",
          "2017-02-07T00:36:29.589041",
          "2017-02-08T00:37:28.767123",
          "2017-02-09T00:38:27.945205",
          "2017-02-10T00:39:27.123287",
          "2017-02-11T00:40:26.301369",
          "2017-02-12T00:41:25.479452",
          "2017-02-13T00:42:24.657534",
          "2017-02-14T00:43:23.835616",
          "2017-02-15T00:44:23.013698",
          "2017-02-16T00:45:22.191780",
          "2017-02-17T00:46:21.369862",
          "2017-02-18T00:47:20.547945",
          "2017-02-19T00:48:19.726027",
          "2017-02-20T00:49:18.904109",
          "2017-02-21T00:50:18.082191",
          "2017-02-22T00:51:17.260273",
          "2017-02-23T00:52:16.438356",
          "2017-02-24T00:53:15.616438",
          "2017-02-25T00:54:14.794520",
          "2017-02-26T00:55:13.972602",
          "2017-02-27T00:56:13.150684",
          "2017-02-28T00:57:12.328767",
          "2017-03-01T00:58:11.506849",
          "2017-03-02T00:59:10.684931",
          "2017-03-03T01:00:09.863013",
          "2017-03-04T01:01:09.041095",
          "2017-03-05T01:02:08.219177",
          "2017-03-06T01:03:07.397260",
          "2017-03-07T01:04:06.575342",
          "2017-03-08T01:05:05.753424",
          "2017-03-09T01:06:04.931506",
          "2017-03-10T01:07:04.109588",
          "2017-03-11T01:08:03.287671",
          "2017-03-12T01:09:02.465753",
          "2017-03-13T01:10:01.643835",
          "2017-03-14T01:11:00.821917",
          "2017-03-15T01:12:00",
          "2017-03-16T01:12:59.178082",
          "2017-03-17T01:13:58.356164",
          "2017-03-18T01:14:57.534246",
          "2017-03-19T01:15:56.712328",
          "2017-03-20T01:16:55.890411",
          "2017-03-21T01:17:55.068493",
          "2017-03-22T01:18:54.246575",
          "2017-03-23T01:19:53.424657",
          "2017-03-24T01:20:52.602739",
          "2017-03-25T01:21:51.780822",
          "2017-03-26T01:22:50.958904",
          "2017-03-27T01:23:50.136986",
          "2017-03-28T01:24:49.315068",
          "2017-03-29T01:25:48.493150",
          "2017-03-30T01:26:47.671232",
          "2017-03-31T01:27:46.849315",
          "2017-04-01T01:28:46.027397",
          "2017-04-02T01:29:45.205479",
          "2017-04-03T01:30:44.383561",
          "2017-04-04T01:31:43.561643",
          "2017-04-05T01:32:42.739726",
          "2017-04-06T01:33:41.917808",
          "2017-04-07T01:34:41.095890",
          "2017-04-08T01:35:40.273972",
          "2017-04-09T01:36:39.452054",
          "2017-04-10T01:37:38.630137",
          "2017-04-11T01:38:37.808219",
          "2017-04-12T01:39:36.986301",
          "2017-04-13T01:40:36.164383",
          "2017-04-14T01:41:35.342465",
          "2017-04-15T01:42:34.520547",
          "2017-04-16T01:43:33.698630",
          "2017-04-17T01:44:32.876712",
          "2017-04-18T01:45:32.054794",
          "2017-04-19T01:46:31.232876",
          "2017-04-20T01:47:30.410958",
          "2017-04-21T01:48:29.589041",
          "2017-04-22T01:49:28.767123",
          "2017-04-23T01:50:27.945205",
          "2017-04-24T01:51:27.123287",
          "2017-04-25T01:52:26.301369",
          "2017-04-26T01:53:25.479452",
          "2017-04-27T01:54:24.657534",
          "2017-04-28T01:55:23.835616",
          "2017-04-29T01:56:23.013698",
          "2017-04-30T01:57:22.191780",
          "2017-05-01T01:58:21.369862",
          "2017-05-02T01:59:20.547945",
          "2017-05-03T02:00:19.726027",
          "2017-05-04T02:01:18.904109",
          "2017-05-05T02:02:18.082191",
          "2017-05-06T02:03:17.260273",
          "2017-05-07T02:04:16.438356",
          "2017-05-08T02:05:15.616438",
          "2017-05-09T02:06:14.794520",
          "2017-05-10T02:07:13.972602",
          "2017-05-11T02:08:13.150684",
          "2017-05-12T02:09:12.328767",
          "2017-05-13T02:10:11.506849",
          "2017-05-14T02:11:10.684931",
          "2017-05-15T02:12:09.863013",
          "2017-05-16T02:13:09.041095",
          "2017-05-17T02:14:08.219177",
          "2017-05-18T02:15:07.397260",
          "2017-05-19T02:16:06.575342",
          "2017-05-20T02:17:05.753424",
          "2017-05-21T02:18:04.931506",
          "2017-05-22T02:19:04.109588",
          "2017-05-23T02:20:03.287671",
          "2017-05-24T02:21:02.465753",
          "2017-05-25T02:22:01.643835",
          "2017-05-26T02:23:00.821917",
          "2017-05-27T02:24:00",
          "2017-05-28T02:24:59.178082",
          "2017-05-29T02:25:58.356164",
          "2017-05-30T02:26:57.534246",
          "2017-05-31T02:27:56.712328",
          "2017-06-01T02:28:55.890411",
          "2017-06-02T02:29:55.068493",
          "2017-06-03T02:30:54.246575",
          "2017-06-04T02:31:53.424657",
          "2017-06-05T02:32:52.602739",
          "2017-06-06T02:33:51.780822",
          "2017-06-07T02:34:50.958904",
          "2017-06-08T02:35:50.136986",
          "2017-06-09T02:36:49.315068",
          "2017-06-10T02:37:48.493150",
          "2017-06-11T02:38:47.671232",
          "2017-06-12T02:39:46.849315",
          "2017-06-13T02:40:46.027397",
          "2017-06-14T02:41:45.205479",
          "2017-06-15T02:42:44.383561",
          "2017-06-16T02:43:43.561643",
          "2017-06-17T02:44:42.739726",
          "2017-06-18T02:45:41.917808",
          "2017-06-19T02:46:41.095890",
          "2017-06-20T02:47:40.273972",
          "2017-06-21T02:48:39.452054",
          "2017-06-22T02:49:38.630137",
          "2017-06-23T02:50:37.808219",
          "2017-06-24T02:51:36.986301",
          "2017-06-25T02:52:36.164383",
          "2017-06-26T02:53:35.342465",
          "2017-06-27T02:54:34.520547",
          "2017-06-28T02:55:33.698630",
          "2017-06-29T02:56:32.876712",
          "2017-06-30T02:57:32.054794",
          "2017-07-01T02:58:31.232876",
          "2017-07-02T02:59:30.410958",
          "2017-07-03T03:00:29.589041",
          "2017-07-04T03:01:28.767123",
          "2017-07-05T03:02:27.945205",
          "2017-07-06T03:03:27.123287",
          "2017-07-07T03:04:26.301369",
          "2017-07-08T03:05:25.479452",
          "2017-07-09T03:06:24.657534",
          "2017-07-10T03:07:23.835616",
          "2017-07-11T03:08:23.013698",
          "2017-07-12T03:09:22.191780",
          "2017-07-13T03:10:21.369862",
          "2017-07-14T03:11:20.547945",
          "2017-07-15T03:12:19.726027",
          "2017-07-16T03:13:18.904109",
          "2017-07-17T03:14:18.082191",
          "2017-07-18T03:15:17.260273",
          "2017-07-19T03:16:16.438356",
          "2017-07-20T03:17:15.616438",
          "2017-07-21T03:18:14.794520",
          "2017-07-22T03:19:13.972602",
          "2017-07-23T03:20:13.150684",
          "2017-07-24T03:21:12.328767",
          "2017-07-25T03:22:11.506849",
          "2017-07-26T03:23:10.684931",
          "2017-07-27T03:24:09.863013",
          "2017-07-28T03:25:09.041095",
          "2017-07-29T03:26:08.219177",
          "2017-07-30T03:27:07.397260",
          "2017-07-31T03:28:06.575342",
          "2017-08-01T03:29:05.753424",
          "2017-08-02T03:30:04.931506",
          "2017-08-03T03:31:04.109588",
          "2017-08-04T03:32:03.287671",
          "2017-08-05T03:33:02.465753",
          "2017-08-06T03:34:01.643835",
          "2017-08-07T03:35:00.821917",
          "2017-08-08T03:36:00",
          "2017-08-09T03:36:59.178082",
          "2017-08-10T03:37:58.356164",
          "2017-08-11T03:38:57.534246",
          "2017-08-12T03:39:56.712328",
          "2017-08-13T03:40:55.890411",
          "2017-08-14T03:41:55.068493",
          "2017-08-15T03:42:54.246575",
          "2017-08-16T03:43:53.424657",
          "2017-08-17T03:44:52.602739",
          "2017-08-18T03:45:51.780822",
          "2017-08-19T03:46:50.958904",
          "2017-08-20T03:47:50.136986",
          "2017-08-21T03:48:49.315068",
          "2017-08-22T03:49:48.493150",
          "2017-08-23T03:50:47.671232",
          "2017-08-24T03:51:46.849315",
          "2017-08-25T03:52:46.027397",
          "2017-08-26T03:53:45.205479",
          "2017-08-27T03:54:44.383561",
          "2017-08-28T03:55:43.561643",
          "2017-08-29T03:56:42.739726",
          "2017-08-30T03:57:41.917808",
          "2017-08-31T03:58:41.095890",
          "2017-09-01T03:59:40.273972",
          "2017-09-02T04:00:39.452054",
          "2017-09-03T04:01:38.630137",
          "2017-09-04T04:02:37.808219",
          "2017-09-05T04:03:36.986301",
          "2017-09-06T04:04:36.164383",
          "2017-09-07T04:05:35.342465",
          "2017-09-08T04:06:34.520547",
          "2017-09-09T04:07:33.698630",
          "2017-09-10T04:08:32.876712",
          "2017-09-11T04:09:32.054794",
          "2017-09-12T04:10:31.232876",
          "2017-09-13T04:11:30.410958",
          "2017-09-14T04:12:29.589041",
          "2017-09-15T04:13:28.767123",
          "2017-09-16T04:14:27.945205",
          "2017-09-17T04:15:27.123287",
          "2017-09-18T04:16:26.301369",
          "2017-09-19T04:17:25.479452",
          "2017-09-20T04:18:24.657534",
          "2017-09-21T04:19:23.835616",
          "2017-09-22T04:20:23.013698",
          "2017-09-23T04:21:22.191780",
          "2017-09-24T04:22:21.369862",
          "2017-09-25T04:23:20.547945",
          "2017-09-26T04:24:19.726027",
          "2017-09-27T04:25:18.904109",
          "2017-09-28T04:26:18.082191",
          "2017-09-29T04:27:17.260273",
          "2017-09-30T04:28:16.438356",
          "2017-10-01T04:29:15.616438",
          "2017-10-02T04:30:14.794520",
          "2017-10-03T04:31:13.972602",
          "2017-10-04T04:32:13.150684",
          "2017-10-05T04:33:12.328767",
          "2017-10-06T04:34:11.506849",
          "2017-10-07T04:35:10.684931",
          "2017-10-08T04:36:09.863013",
          "2017-10-09T04:37:09.041095",
          "2017-10-10T04:38:08.219177",
          "2017-10-11T04:39:07.397260",
          "2017-10-12T04:40:06.575342",
          "2017-10-13T04:41:05.753424",
          "2017-10-14T04:42:04.931506",
          "2017-10-15T04:43:04.109588",
          "2017-10-16T04:44:03.287671",
          "2017-10-17T04:45:02.465753",
          "2017-10-18T04:46:01.643835",
          "2017-10-19T04:47:00.821917",
          "2017-10-20T04:48:00",
          "2017-10-21T04:48:59.178082",
          "2017-10-22T04:49:58.356164",
          "2017-10-23T04:50:57.534246",
          "2017-10-24T04:51:56.712328",
          "2017-10-25T04:52:55.890411",
          "2017-10-26T04:53:55.068493",
          "2017-10-27T04:54:54.246575",
          "2017-10-28T04:55:53.424657",
          "2017-10-29T04:56:52.602739",
          "2017-10-30T04:57:51.780822",
          "2017-10-31T04:58:50.958904",
          "2017-11-01T04:59:50.136986",
          "2017-11-02T05:00:49.315068",
          "2017-11-03T05:01:48.493150",
          "2017-11-04T05:02:47.671232",
          "2017-11-05T05:03:46.849315",
          "2017-11-06T05:04:46.027397",
          "2017-11-07T05:05:45.205479",
          "2017-11-08T05:06:44.383561",
          "2017-11-09T05:07:43.561643",
          "2017-11-10T05:08:42.739726",
          "2017-11-11T05:09:41.917808",
          "2017-11-12T05:10:41.095890",
          "2017-11-13T05:11:40.273972",
          "2017-11-14T05:12:39.452054",
          "2017-11-15T05:13:38.630137",
          "2017-11-16T05:14:37.808219",
          "2017-11-17T05:15:36.986301",
          "2017-11-18T05:16:36.164383",
          "2017-11-19T05:17:35.342465",
          "2017-11-20T05:18:34.520547",
          "2017-11-21T05:19:33.698630",
          "2017-11-22T05:20:32.876712",
          "2017-11-23T05:21:32.054794",
          "2017-11-24T05:22:31.232876",
          "2017-11-25T05:23:30.410958",
          "2017-11-26T05:24:29.589041",
          "2017-11-27T05:25:28.767123",
          "2017-11-28T05:26:27.945205",
          "2017-11-29T05:27:27.123287",
          "2017-11-30T05:28:26.301369",
          "2017-12-01T05:29:25.479452",
          "2017-12-02T05:30:24.657534",
          "2017-12-03T05:31:23.835616",
          "2017-12-04T05:32:23.013698",
          "2017-12-05T05:33:22.191780",
          "2017-12-06T05:34:21.369862",
          "2017-12-07T05:35:20.547945",
          "2017-12-08T05:36:19.726027",
          "2017-12-09T05:37:18.904109",
          "2017-12-10T05:38:18.082191",
          "2017-12-11T05:39:17.260273",
          "2017-12-12T05:40:16.438356",
          "2017-12-13T05:41:15.616438",
          "2017-12-14T05:42:14.794520",
          "2017-12-15T05:43:13.972602",
          "2017-12-16T05:44:13.150684",
          "2017-12-17T05:45:12.328767",
          "2017-12-18T05:46:11.506849",
          "2017-12-19T05:47:10.684931",
          "2017-12-20T05:48:09.863013",
          "2017-12-21T05:49:09.041095",
          "2017-12-22T05:50:08.219177",
          "2017-12-23T05:51:07.397260",
          "2017-12-24T05:52:06.575342",
          "2017-12-25T05:53:05.753424",
          "2017-12-26T05:54:04.931506",
          "2017-12-27T05:55:04.109588",
          "2017-12-28T05:56:03.287671",
          "2017-12-29T05:57:02.465753",
          "2017-12-30T05:58:01.643835",
          "2017-12-31T05:59:00.821917"
         ],
         "xaxis": "x2",
         "y": [
          -69486.73839996905,
          -76776.99843005904,
          -87169.58803776903,
          -100439.27370348181,
          -116238.63880141571,
          -134110.54885395474,
          -153504.46714180103,
          -173796.05371950282,
          -194309.37690602563,
          -214340.9843245871,
          -233185.02294236224,
          -250158.56600331044,
          -264626.3001306879,
          -276023.74817862996,
          -283878.25187748554,
          -287827.01128694956,
          -287631.57321204594,
          -283188.27499120496,
          -274534.27982626675,
          -261848.9809902317,
          -245450.70041042296,
          -225788.75763587884,
          -203431.13337505856,
          -179048.09301427822,
          -153392.26542612768,
          -127275.78689626545,
          -101545.21560790928,
          -77054.99583996487,
          -54640.30058513932,
          -35090.10511908282,
          -19121.341400627927,
          -7354.954120326053,
          -294.6246092026783,
          1691.1496963334512,
          -1616.9674488086307,
          -10279.58623219338,
          -24193.774176447347,
          -43093.179470865885,
          -66553.13534151013,
          -94000.63418724625,
          -124728.91064214855,
          -157916.23058968244,
          -192648.35273584936,
          -227944.014695813,
          -262782.70015017607,
          -296133.87041665654,
          -326986.795073192,
          -354380.09352883423,
          -377430.10347715206,
          -395357.2228706825,
          -407509.42860593734,
          -413382.2558090692,
          -412634.6241316445,
          -405100.0187300352,
          -390792.67003058206,
          -369908.52388500527,
          -342820.9479200276,
          -310071.27613928,
          -272354.4474977736,
          -230500.14060609002,
          -185449.94155247413,
          -138231.2010189778,
          -89928.33677217088,
          -41652.41529782598,
          5490.100616094026,
          50428.524717548906,
          92158.12717495236,
          129768.43547897683,
          162468.82400941223,
          189610.63833882712,
          210705.2012179596,
          225437.16755129592,
          233672.83194161087,
          235463.14055019637,
          231041.3146909483,
          220815.15213553834,
          205354.22885562532,
          185372.37422887512,
          161705.93211483787,
          135288.4445498473,
          107122.50042122562,
          78249.57523368942,
          49718.74749435582,
          22555.210561216365,
          -2270.494966535728,
          -23871.62425566497,
          -41471.89024005462,
          -54428.86108073646,
          -62253.40546373518,
          -64624.61423910407,
          -61399.75978574123,
          -52619.00019842236,
          -38504.6896159428,
          -19455.314189633704,
          3965.7693446496446,
          31046.46342981487,
          60946.45646037899,
          92721.5470064885,
          125351.05547699535,
          157767.52376707003,
          188887.83761566307,
          217644.86607252248,
          243018.69880888626,
          264066.5753311416,
          279950.6400106735,
          289962.72201298975,
          293545.4276774262,
          290308.9420188174,
          280043.0625002001,
          262724.12828695646,
          238516.65765647942,
          207769.66066842136,
          171007.74900935736,
          128917.3155554048,
          82328.19819131773,
          32191.37165301898,
          -20446.676198561145,
          -74472.13440337982,
          -128733.80561079348,
          -182073.92395155955,
          -233358.9683519138,
          -281509.59157548205,
          -325528.8171032,
          -364527.71263865934,
          -397747.8286119948,
          -424579.79015401646,
          -444577.5484644649,
          -457467.92872224,
          -463155.25267340697,
          -461720.9605010546,
          -453418.30412696063,
          -438662.32826438156,
          -418015.492032702,
          -392169.40872184804,
          -361923.29064496903,
          -328159.77676460275,
          -291818.89031956455,
          -253870.9200218778,
          -215289.04033892404,
          -177022.4833886874,
          -139971.04737020034,
          -104961.67521141063,
          -72727.76399834128,
          -43891.77316714423,
          -18951.590355217155,
          1729.0082862697066,
          17925.597735215797,
          29553.974374745874,
          36666.724561164796,
          39445.692623365045,
          38190.67523650373,
          33304.783360461115,
          25277.012139652714,
          14662.640233863782,
          2062.1406225190867,
          -11900.676891093137,
          -26600.556476491995,
          -41431.99440860722,
          -55829.05099979454,
          -69283.13749059303,
          -81358.21416355603,
          -91702.92901619611,
          -100059.33427601597,
          -106267.93737480241,
          -110268.96982576842,
          -112099.88764605117,
          -111889.24630933665,
          -109847.21749028623,
          -106253.13001617047,
          -101440.5197028428,
          -95780.25876088827,
          -89662.40233673192,
          -83477.4352740934,
          -77597.6247470477,
          -72359.18317258613,
          -68045.92070333593,
          -64875.018253591494,
          -62985.48189861072,
          -62429.74972573144,
          -63168.81557433728,
          -65071.11395463627,
          -67915.2805674472,
          -71396.76742220733,
          -75138.15493484774,
          -78702.87003793013,
          -81611.89364254517,
          -83362.92696139793,
          -83451.38809657164,
          -81392.5313482481,
          -76743.92473286466,
          -69127.48844626099,
          -58250.28987246363,
          -43923.3099388269,
          -26077.440961359964,
          -4776.04664777427,
          19776.49114691953,
          47230.69953818285,
          77092.74382512856,
          108730.14081556485,
          141382.48260356896,
          174177.0366597273,
          206148.92774049242,
          236265.4518466967,
          263453.9272076868,
          286632.35670066153,
          304742.0645654856,
          316781.3815481458,
          321839.389895469,
          319128.7053793035,
          308016.26938538294,
          288051.15082367364,
          258988.4150491546,
          220808.2040496927,
          173729.2868850764,
          118216.4789177748,
          54981.489139468904,
          -15023.067428434566,
          -90616.56559189396,
          -170410.0510060148,
          -252832.38575047138,
          -336162.34490631265,
          -418565.96795986436,
          -498138.30196634657,
          -572948.527404784,
          -641087.3370961206,
          -700715.347362411,
          -750111.2619217634,
          -787718.4850800696,
          -812188.8928869001,
          -822422.5193402773,
          -817601.9987096392,
          -797220.7227952045,
          -761103.8207210173,
          -709421.2449637941,
          -642692.4462560907,
          -561782.3365722275,
          -467888.4678242668,
          -362519.58799341327,
          -247465.96979294208,
          -124762.13312477502,
          3357.204781753057,
          134506.92461942678,
          266205.85080115794,
          395934.31511102687,
          521193.5018693825,
          639565.0719959938,
          748769.5368025512,
          846721.8664762651,
          931582.873256596,
          1001805.0040084124,
          1056171.309129862,
          1093826.5212394677,
          1114299.373611809,
          1117515.509841314,
          1103800.5768504993,
          1073873.34680454,
          1028828.9729501691,
          970112.742906822,
          899484.9435136083,
          818977.6871702163,
          730844.7642432573,
          637505.7736771961,
          541485.9392235316,
          445353.1373859199,
          351653.7419202282,
          262848.9262200006,
          181253.05809252898,
          108975.77126519315,
          47869.20573484348,
          -518.222868960287,
          -34980.332937875646,
          -54682.97356168691,
          -59184.342718203996,
          -48445.308348823455,
          -22829.47440501944,
          16906.99851603661,
          69635.54114836619,
          133884.75568807675,
          207878.6464616167,
          289582.4953819449,
          376755.17937791056,
          467006.5622004817,
          557858.4648460157,
          646807.6307370675,
          731389.0559018592,
          809238.0519322741,
          878149.4502879033,
          936132.4393739705,
          981459.6483327656,
          1012709.2501554835,
          1028799.0471668323,
          1029011.7188119228,
          1013010.6490297634,
          980846.0018102787,
          932950.9719280091,
          870128.3963067275,
          793528.1630213005,
          704616.0927911564,
          605135.1856832084,
          497060.31779976457,
          382547.6340310289,
          263880.0093272029,
          143410.03928408097,
          23502.06904717889,
          -93525.22332104939,
          -205454.20660259074,
          -310220.2302238736,
          -405958.8134824943,
          -491046.93584384,
          -564137.4476699708,
          -624185.8188367726,
          -670468.659457522,
          -702593.6761774676,
          -720500.9627881863,
          -724455.7586312352,
          -715033.0359771207,
          -693094.4920250621,
          -659758.7165975812,
          -616365.477819545,
          -564435.2106222041,
          -505624.90319089754,
          -441681.6518597637,
          -374395.1937947751,
          -305550.7285292372,
          -236883.30451091984,
          -170034.9767799759,
          -106515.83922518077,
          -47669.90296188293,
          5353.364605378143,
          51621.2026666365,
          90432.97650880844,
          121328.60949504594,
          144089.9877838869,
          158735.4997646687,
          165508.06540984806,
          164857.19006812287,
          157415.73762983532,
          143972.25514402988,
          125439.7912319258,
          102822.23120687038,
          77179.22080619779,
          49590.76690791501,
          21122.58757032523,
          -7206.763812712568,
          -34456.05262296574,
          -59787.951829778234,
          -82491.34935069802,
          -101998.80444462005,
          -117898.7447793681,
          -129942.1664820838,
          -138043.77433927645,
          -142277.6730719703,
          -142867.88800780813,
          -140174.14953065477,
          -134673.5158351111,
          -126938.52867001104,
          -117612.69355247087,
          -107384.14668074637,
          -96958.41364694345,
          -87031.17907198702,
          -78261.97135050083,
          -71249.62361445678,
          -66510.30243121511,
          -64458.802076375294,
          -65393.68763273407
         ],
         "yaxis": "y2"
        }
       ],
       "layout": {
        "height": 400,
        "showlegend": false,
        "template": {
         "data": {
          "bar": [
           {
            "error_x": {
             "color": "#2a3f5f"
            },
            "error_y": {
             "color": "#2a3f5f"
            },
            "marker": {
             "line": {
              "color": "#E5ECF6",
              "width": 0.5
             },
             "pattern": {
              "fillmode": "overlay",
              "size": 10,
              "solidity": 0.2
             }
            },
            "type": "bar"
           }
          ],
          "barpolar": [
           {
            "marker": {
             "line": {
              "color": "#E5ECF6",
              "width": 0.5
             },
             "pattern": {
              "fillmode": "overlay",
              "size": 10,
              "solidity": 0.2
             }
            },
            "type": "barpolar"
           }
          ],
          "carpet": [
           {
            "aaxis": {
             "endlinecolor": "#2a3f5f",
             "gridcolor": "white",
             "linecolor": "white",
             "minorgridcolor": "white",
             "startlinecolor": "#2a3f5f"
            },
            "baxis": {
             "endlinecolor": "#2a3f5f",
             "gridcolor": "white",
             "linecolor": "white",
             "minorgridcolor": "white",
             "startlinecolor": "#2a3f5f"
            },
            "type": "carpet"
           }
          ],
          "choropleth": [
           {
            "colorbar": {
             "outlinewidth": 0,
             "ticks": ""
            },
            "type": "choropleth"
           }
          ],
          "contour": [
           {
            "colorbar": {
             "outlinewidth": 0,
             "ticks": ""
            },
            "colorscale": [
             [
              0,
              "#0d0887"
             ],
             [
              0.1111111111111111,
              "#46039f"
             ],
             [
              0.2222222222222222,
              "#7201a8"
             ],
             [
              0.3333333333333333,
              "#9c179e"
             ],
             [
              0.4444444444444444,
              "#bd3786"
             ],
             [
              0.5555555555555556,
              "#d8576b"
             ],
             [
              0.6666666666666666,
              "#ed7953"
             ],
             [
              0.7777777777777778,
              "#fb9f3a"
             ],
             [
              0.8888888888888888,
              "#fdca26"
             ],
             [
              1,
              "#f0f921"
             ]
            ],
            "type": "contour"
           }
          ],
          "contourcarpet": [
           {
            "colorbar": {
             "outlinewidth": 0,
             "ticks": ""
            },
            "type": "contourcarpet"
           }
          ],
          "heatmap": [
           {
            "colorbar": {
             "outlinewidth": 0,
             "ticks": ""
            },
            "colorscale": [
             [
              0,
              "#0d0887"
             ],
             [
              0.1111111111111111,
              "#46039f"
             ],
             [
              0.2222222222222222,
              "#7201a8"
             ],
             [
              0.3333333333333333,
              "#9c179e"
             ],
             [
              0.4444444444444444,
              "#bd3786"
             ],
             [
              0.5555555555555556,
              "#d8576b"
             ],
             [
              0.6666666666666666,
              "#ed7953"
             ],
             [
              0.7777777777777778,
              "#fb9f3a"
             ],
             [
              0.8888888888888888,
              "#fdca26"
             ],
             [
              1,
              "#f0f921"
             ]
            ],
            "type": "heatmap"
           }
          ],
          "heatmapgl": [
           {
            "colorbar": {
             "outlinewidth": 0,
             "ticks": ""
            },
            "colorscale": [
             [
              0,
              "#0d0887"
             ],
             [
              0.1111111111111111,
              "#46039f"
             ],
             [
              0.2222222222222222,
              "#7201a8"
             ],
             [
              0.3333333333333333,
              "#9c179e"
             ],
             [
              0.4444444444444444,
              "#bd3786"
             ],
             [
              0.5555555555555556,
              "#d8576b"
             ],
             [
              0.6666666666666666,
              "#ed7953"
             ],
             [
              0.7777777777777778,
              "#fb9f3a"
             ],
             [
              0.8888888888888888,
              "#fdca26"
             ],
             [
              1,
              "#f0f921"
             ]
            ],
            "type": "heatmapgl"
           }
          ],
          "histogram": [
           {
            "marker": {
             "pattern": {
              "fillmode": "overlay",
              "size": 10,
              "solidity": 0.2
             }
            },
            "type": "histogram"
           }
          ],
          "histogram2d": [
           {
            "colorbar": {
             "outlinewidth": 0,
             "ticks": ""
            },
            "colorscale": [
             [
              0,
              "#0d0887"
             ],
             [
              0.1111111111111111,
              "#46039f"
             ],
             [
              0.2222222222222222,
              "#7201a8"
             ],
             [
              0.3333333333333333,
              "#9c179e"
             ],
             [
              0.4444444444444444,
              "#bd3786"
             ],
             [
              0.5555555555555556,
              "#d8576b"
             ],
             [
              0.6666666666666666,
              "#ed7953"
             ],
             [
              0.7777777777777778,
              "#fb9f3a"
             ],
             [
              0.8888888888888888,
              "#fdca26"
             ],
             [
              1,
              "#f0f921"
             ]
            ],
            "type": "histogram2d"
           }
          ],
          "histogram2dcontour": [
           {
            "colorbar": {
             "outlinewidth": 0,
             "ticks": ""
            },
            "colorscale": [
             [
              0,
              "#0d0887"
             ],
             [
              0.1111111111111111,
              "#46039f"
             ],
             [
              0.2222222222222222,
              "#7201a8"
             ],
             [
              0.3333333333333333,
              "#9c179e"
             ],
             [
              0.4444444444444444,
              "#bd3786"
             ],
             [
              0.5555555555555556,
              "#d8576b"
             ],
             [
              0.6666666666666666,
              "#ed7953"
             ],
             [
              0.7777777777777778,
              "#fb9f3a"
             ],
             [
              0.8888888888888888,
              "#fdca26"
             ],
             [
              1,
              "#f0f921"
             ]
            ],
            "type": "histogram2dcontour"
           }
          ],
          "mesh3d": [
           {
            "colorbar": {
             "outlinewidth": 0,
             "ticks": ""
            },
            "type": "mesh3d"
           }
          ],
          "parcoords": [
           {
            "line": {
             "colorbar": {
              "outlinewidth": 0,
              "ticks": ""
             }
            },
            "type": "parcoords"
           }
          ],
          "pie": [
           {
            "automargin": true,
            "type": "pie"
           }
          ],
          "scatter": [
           {
            "marker": {
             "colorbar": {
              "outlinewidth": 0,
              "ticks": ""
             }
            },
            "type": "scatter"
           }
          ],
          "scatter3d": [
           {
            "line": {
             "colorbar": {
              "outlinewidth": 0,
              "ticks": ""
             }
            },
            "marker": {
             "colorbar": {
              "outlinewidth": 0,
              "ticks": ""
             }
            },
            "type": "scatter3d"
           }
          ],
          "scattercarpet": [
           {
            "marker": {
             "colorbar": {
              "outlinewidth": 0,
              "ticks": ""
             }
            },
            "type": "scattercarpet"
           }
          ],
          "scattergeo": [
           {
            "marker": {
             "colorbar": {
              "outlinewidth": 0,
              "ticks": ""
             }
            },
            "type": "scattergeo"
           }
          ],
          "scattergl": [
           {
            "marker": {
             "colorbar": {
              "outlinewidth": 0,
              "ticks": ""
             }
            },
            "type": "scattergl"
           }
          ],
          "scattermapbox": [
           {
            "marker": {
             "colorbar": {
              "outlinewidth": 0,
              "ticks": ""
             }
            },
            "type": "scattermapbox"
           }
          ],
          "scatterpolar": [
           {
            "marker": {
             "colorbar": {
              "outlinewidth": 0,
              "ticks": ""
             }
            },
            "type": "scatterpolar"
           }
          ],
          "scatterpolargl": [
           {
            "marker": {
             "colorbar": {
              "outlinewidth": 0,
              "ticks": ""
             }
            },
            "type": "scatterpolargl"
           }
          ],
          "scatterternary": [
           {
            "marker": {
             "colorbar": {
              "outlinewidth": 0,
              "ticks": ""
             }
            },
            "type": "scatterternary"
           }
          ],
          "surface": [
           {
            "colorbar": {
             "outlinewidth": 0,
             "ticks": ""
            },
            "colorscale": [
             [
              0,
              "#0d0887"
             ],
             [
              0.1111111111111111,
              "#46039f"
             ],
             [
              0.2222222222222222,
              "#7201a8"
             ],
             [
              0.3333333333333333,
              "#9c179e"
             ],
             [
              0.4444444444444444,
              "#bd3786"
             ],
             [
              0.5555555555555556,
              "#d8576b"
             ],
             [
              0.6666666666666666,
              "#ed7953"
             ],
             [
              0.7777777777777778,
              "#fb9f3a"
             ],
             [
              0.8888888888888888,
              "#fdca26"
             ],
             [
              1,
              "#f0f921"
             ]
            ],
            "type": "surface"
           }
          ],
          "table": [
           {
            "cells": {
             "fill": {
              "color": "#EBF0F8"
             },
             "line": {
              "color": "white"
             }
            },
            "header": {
             "fill": {
              "color": "#C8D4E3"
             },
             "line": {
              "color": "white"
             }
            },
            "type": "table"
           }
          ]
         },
         "layout": {
          "annotationdefaults": {
           "arrowcolor": "#2a3f5f",
           "arrowhead": 0,
           "arrowwidth": 1
          },
          "autotypenumbers": "strict",
          "coloraxis": {
           "colorbar": {
            "outlinewidth": 0,
            "ticks": ""
           }
          },
          "colorscale": {
           "diverging": [
            [
             0,
             "#8e0152"
            ],
            [
             0.1,
             "#c51b7d"
            ],
            [
             0.2,
             "#de77ae"
            ],
            [
             0.3,
             "#f1b6da"
            ],
            [
             0.4,
             "#fde0ef"
            ],
            [
             0.5,
             "#f7f7f7"
            ],
            [
             0.6,
             "#e6f5d0"
            ],
            [
             0.7,
             "#b8e186"
            ],
            [
             0.8,
             "#7fbc41"
            ],
            [
             0.9,
             "#4d9221"
            ],
            [
             1,
             "#276419"
            ]
           ],
           "sequential": [
            [
             0,
             "#0d0887"
            ],
            [
             0.1111111111111111,
             "#46039f"
            ],
            [
             0.2222222222222222,
             "#7201a8"
            ],
            [
             0.3333333333333333,
             "#9c179e"
            ],
            [
             0.4444444444444444,
             "#bd3786"
            ],
            [
             0.5555555555555556,
             "#d8576b"
            ],
            [
             0.6666666666666666,
             "#ed7953"
            ],
            [
             0.7777777777777778,
             "#fb9f3a"
            ],
            [
             0.8888888888888888,
             "#fdca26"
            ],
            [
             1,
             "#f0f921"
            ]
           ],
           "sequentialminus": [
            [
             0,
             "#0d0887"
            ],
            [
             0.1111111111111111,
             "#46039f"
            ],
            [
             0.2222222222222222,
             "#7201a8"
            ],
            [
             0.3333333333333333,
             "#9c179e"
            ],
            [
             0.4444444444444444,
             "#bd3786"
            ],
            [
             0.5555555555555556,
             "#d8576b"
            ],
            [
             0.6666666666666666,
             "#ed7953"
            ],
            [
             0.7777777777777778,
             "#fb9f3a"
            ],
            [
             0.8888888888888888,
             "#fdca26"
            ],
            [
             1,
             "#f0f921"
            ]
           ]
          },
          "colorway": [
           "#636efa",
           "#EF553B",
           "#00cc96",
           "#ab63fa",
           "#FFA15A",
           "#19d3f3",
           "#FF6692",
           "#B6E880",
           "#FF97FF",
           "#FECB52"
          ],
          "font": {
           "color": "#2a3f5f"
          },
          "geo": {
           "bgcolor": "white",
           "lakecolor": "white",
           "landcolor": "#E5ECF6",
           "showlakes": true,
           "showland": true,
           "subunitcolor": "white"
          },
          "hoverlabel": {
           "align": "left"
          },
          "hovermode": "closest",
          "mapbox": {
           "style": "light"
          },
          "paper_bgcolor": "white",
          "plot_bgcolor": "#E5ECF6",
          "polar": {
           "angularaxis": {
            "gridcolor": "white",
            "linecolor": "white",
            "ticks": ""
           },
           "bgcolor": "#E5ECF6",
           "radialaxis": {
            "gridcolor": "white",
            "linecolor": "white",
            "ticks": ""
           }
          },
          "scene": {
           "xaxis": {
            "backgroundcolor": "#E5ECF6",
            "gridcolor": "white",
            "gridwidth": 2,
            "linecolor": "white",
            "showbackground": true,
            "ticks": "",
            "zerolinecolor": "white"
           },
           "yaxis": {
            "backgroundcolor": "#E5ECF6",
            "gridcolor": "white",
            "gridwidth": 2,
            "linecolor": "white",
            "showbackground": true,
            "ticks": "",
            "zerolinecolor": "white"
           },
           "zaxis": {
            "backgroundcolor": "#E5ECF6",
            "gridcolor": "white",
            "gridwidth": 2,
            "linecolor": "white",
            "showbackground": true,
            "ticks": "",
            "zerolinecolor": "white"
           }
          },
          "shapedefaults": {
           "line": {
            "color": "#2a3f5f"
           }
          },
          "ternary": {
           "aaxis": {
            "gridcolor": "white",
            "linecolor": "white",
            "ticks": ""
           },
           "baxis": {
            "gridcolor": "white",
            "linecolor": "white",
            "ticks": ""
           },
           "bgcolor": "#E5ECF6",
           "caxis": {
            "gridcolor": "white",
            "linecolor": "white",
            "ticks": ""
           }
          },
          "title": {
           "x": 0.05
          },
          "xaxis": {
           "automargin": true,
           "gridcolor": "white",
           "linecolor": "white",
           "ticks": "",
           "title": {
            "standoff": 15
           },
           "zerolinecolor": "white",
           "zerolinewidth": 2
          },
          "yaxis": {
           "automargin": true,
           "gridcolor": "white",
           "linecolor": "white",
           "ticks": "",
           "title": {
            "standoff": 15
           },
           "zerolinecolor": "white",
           "zerolinewidth": 2
          }
         }
        },
        "width": 900,
        "xaxis": {
         "anchor": "y",
         "autorange": true,
         "domain": [
          0,
          1
         ],
         "range": [
          "2001-03-31",
          "2025-09-30"
         ],
         "type": "date"
        },
        "xaxis2": {
         "anchor": "y2",
         "autorange": true,
         "domain": [
          0,
          1
         ],
         "range": [
          "2017-01-01",
          "2017-12-31 05:59:00.8219"
         ],
         "tickformat": "%B %e",
         "type": "date"
        },
        "yaxis": {
         "anchor": "x",
         "autorange": true,
         "domain": [
          0.575,
          1
         ],
         "range": [
          94977.96900778776,
          101723.24642982268
         ],
         "rangemode": "normal",
         "title": {
          "text": "trend"
         },
         "type": "linear",
         "zerolinecolor": "#AAA"
        },
        "yaxis2": {
         "anchor": "x2",
         "autorange": true,
         "domain": [
          0,
          0.425
         ],
         "range": [
          -930196.8542948101,
          1225289.8447958468
         ],
         "title": {
          "text": "yearly"
         },
         "type": "linear",
         "zerolinecolor": "#AAA"
        }
       }
      },
      "image/png": "[encoded data removed]",
      "text/html": [
       "<div>                            <div id=\"c49a591e-d153-495a-b890-dccdc4b73acc\" class=\"plotly-graph-div\" style=\"height:400px; width:900px;\"></div>            <script type=\"text/javascript\">                require([\"plotly\"], function(Plotly) {                    window.PLOTLYENV=window.PLOTLYENV || {};                                    if (document.getElementById(\"c49a591e-d153-495a-b890-dccdc4b73acc\")) {                    Plotly.newPlot(                        \"c49a591e-d153-495a-b890-dccdc4b73acc\",                        [{\"line\":{\"color\":\"#0072B2\",\"width\":2},\"mode\":\"lines\",\"name\":\"trend\",\"x\":[\"2001-03-31T00:00:00\",\"2001-06-30T00:00:00\",\"2001-09-30T00:00:00\",\"2001-12-31T00:00:00\",\"2002-03-31T00:00:00\",\"2002-06-30T00:00:00\",\"2002-09-30T00:00:00\",\"2002-12-31T00:00:00\",\"2003-03-31T00:00:00\",\"2003-06-30T00:00:00\",\"2003-09-30T00:00:00\",\"2003-12-31T00:00:00\",\"2004-03-31T00:00:00\",\"2004-06-30T00:00:00\",\"2004-09-30T00:00:00\",\"2004-12-31T00:00:00\",\"2005-03-31T00:00:00\",\"2005-06-30T00:00:00\",\"2005-09-30T00:00:00\",\"2005-12-31T00:00:00\",\"2006-03-31T00:00:00\",\"2006-06-30T00:00:00\",\"2006-09-30T00:00:00\",\"2006-12-31T00:00:00\",\"2007-03-31T00:00:00\",\"2007-06-30T00:00:00\",\"2007-09-30T00:00:00\",\"2007-12-31T00:00:00\",\"2008-03-31T00:00:00\",\"2008-06-30T00:00:00\",\"2008-09-30T00:00:00\",\"2008-12-31T00:00:00\",\"2009-03-31T00:00:00\",\"2009-06-30T00:00:00\",\"2009-09-30T00:00:00\",\"2009-12-31T00:00:00\",\"2010-03-31T00:00:00\",\"2010-06-30T00:00:00\",\"2010-09-30T00:00:00\",\"2010-12-31T00:00:00\",\"2011-03-31T00:00:00\",\"2011-06-30T00:00:00\",\"2011-09-30T00:00:00\",\"2011-12-31T00:00:00\",\"2012-03-31T00:00:00\",\"2012-06-30T00:00:00\",\"2012-09-30T00:00:00\",\"2012-12-31T00:00:00\",\"2013-03-31T00:00:00\",\"2013-06-30T00:00:00\",\"2013-09-30T00:00:00\",\"2013-12-31T00:00:00\",\"2014-03-31T00:00:00\",\"2014-06-30T00:00:00\",\"2014-09-30T00:00:00\",\"2014-12-31T00:00:00\",\"2015-03-31T00:00:00\",\"2015-06-30T00:00:00\",\"2015-09-30T00:00:00\",\"2015-12-31T00:00:00\",\"2016-03-31T00:00:00\",\"2016-06-30T00:00:00\",\"2016-09-30T00:00:00\",\"2016-12-31T00:00:00\",\"2017-03-31T00:00:00\",\"2017-06-30T00:00:00\",\"2017-09-30T00:00:00\",\"2017-12-31T00:00:00\",\"2018-03-31T00:00:00\",\"2018-06-30T00:00:00\",\"2018-09-30T00:00:00\",\"2018-12-31T00:00:00\",\"2019-03-31T00:00:00\",\"2019-06-30T00:00:00\",\"2019-09-30T00:00:00\",\"2019-12-31T00:00:00\",\"2020-03-31T00:00:00\",\"2020-06-30T00:00:00\",\"2020-09-30T00:00:00\",\"2020-12-31T00:00:00\",\"2021-03-31T00:00:00\",\"2021-06-30T00:00:00\",\"2021-09-30T00:00:00\",\"2021-12-31T00:00:00\",\"2022-03-31T00:00:00\",\"2022-06-30T00:00:00\",\"2022-09-30T00:00:00\",\"2022-12-31T00:00:00\",\"2023-03-31T00:00:00\",\"2023-06-30T00:00:00\",\"2023-09-30T00:00:00\",\"2023-12-31T00:00:00\",\"2024-03-31T00:00:00\",\"2024-06-30T00:00:00\",\"2024-09-30T00:00:00\",\"2024-12-31T00:00:00\",\"2025-03-31T00:00:00\",\"2025-06-30T00:00:00\",\"2025-09-30T00:00:00\"],\"y\":[95315.23287888951,95459.39412104187,95605.13955266842,95750.88498429497,95893.46203732131,96037.6232798257,96183.36871182502,96329.11414382434,96471.69119686713,96615.85152221147,96761.59602695517,96907.33220190856,97051.48428800372,97195.6363740989,97341.33786246215,97487.03935082542,97629.57341552859,97773.68693999473,97919.38412956492,98065.05345570872,98207.55605737116,98351.6420212743,98497.30883391941,98642.97564656453,98785.4753357757,98929.55835486701,99075.22470383841,99220.85904236803,99364.91039895712,99508.96175554619,99654.56314833272,99800.16454111921,99942.55150427551,100086.52054480022,100232.07166269333,100377.58138012396,100519.92784282782,100663.74501932357,100809.14260435225,100954.54018938093,101096.77393751501,101240.58806062835,101385.98255872093,101327.71784850572,101270.08645035807,101212.40113962254,101154.08192437343,101095.76270912432,101000.8636739674,100904.91020508653,100807.67406240664,100710.43791972676,100615.31560623558,100519.06182406748,100421.7503080294,100324.43879199133,100229.24274387183,100132.98896188434,100035.67744630096,99938.36593071755,99842.11214899921,99745.85836736452,99648.54685186576,99551.23533667142,99456.03928919871,99359.7855078652,99262.47399327585,99165.16247868653,99069.96643180566,98973.71265107056,98876.40113648122,98779.08962189188,98683.89357501101,98587.63979427592,98490.32827968657,98393.01676509724,98296.76298436213,98200.50920362704,98103.1976890377,98005.88617444836,97910.69012756749,97814.43634683237,97717.12483224305,97619.81331765372,97524.61727077284,97428.36349003774,97331.0519754484,97233.74046085907,97138.5444139782,97042.29063324309,96944.97911865376,96847.66760406444,96751.41382332932,96655.16004259422,96557.84852800488,96460.53701341555,96365.34096653468,96269.08718579957,96171.77567121024],\"type\":\"scatter\",\"xaxis\":\"x\",\"yaxis\":\"y\"},{\"line\":{\"color\":\"rgba(0, 114, 178, 0.2)\",\"width\":0},\"mode\":\"lines\",\"name\":\"trend_upper\",\"x\":[\"2001-03-31T00:00:00\",\"2001-06-30T00:00:00\",\"2001-09-30T00:00:00\",\"2001-12-31T00:00:00\",\"2002-03-31T00:00:00\",\"2002-06-30T00:00:00\",\"2002-09-30T00:00:00\",\"2002-12-31T00:00:00\",\"2003-03-31T00:00:00\",\"2003-06-30T00:00:00\",\"2003-09-30T00:00:00\",\"2003-12-31T00:00:00\",\"2004-03-31T00:00:00\",\"2004-06-30T00:00:00\",\"2004-09-30T00:00:00\",\"2004-12-31T00:00:00\",\"2005-03-31T00:00:00\",\"2005-06-30T00:00:00\",\"2005-09-30T00:00:00\",\"2005-12-31T00:00:00\",\"2006-03-31T00:00:00\",\"2006-06-30T00:00:00\",\"2006-09-30T00:00:00\",\"2006-12-31T00:00:00\",\"2007-03-31T00:00:00\",\"2007-06-30T00:00:00\",\"2007-09-30T00:00:00\",\"2007-12-31T00:00:00\",\"2008-03-31T00:00:00\",\"2008-06-30T00:00:00\",\"2008-09-30T00:00:00\",\"2008-12-31T00:00:00\",\"2009-03-31T00:00:00\",\"2009-06-30T00:00:00\",\"2009-09-30T00:00:00\",\"2009-12-31T00:00:00\",\"2010-03-31T00:00:00\",\"2010-06-30T00:00:00\",\"2010-09-30T00:00:00\",\"2010-12-31T00:00:00\",\"2011-03-31T00:00:00\",\"2011-06-30T00:00:00\",\"2011-09-30T00:00:00\",\"2011-12-31T00:00:00\",\"2012-03-31T00:00:00\",\"2012-06-30T00:00:00\",\"2012-09-30T00:00:00\",\"2012-12-31T00:00:00\",\"2013-03-31T00:00:00\",\"2013-06-30T00:00:00\",\"2013-09-30T00:00:00\",\"2013-12-31T00:00:00\",\"2014-03-31T00:00:00\",\"2014-06-30T00:00:00\",\"2014-09-30T00:00:00\",\"2014-12-31T00:00:00\",\"2015-03-31T00:00:00\",\"2015-06-30T00:00:00\",\"2015-09-30T00:00:00\",\"2015-12-31T00:00:00\",\"2016-03-31T00:00:00\",\"2016-06-30T00:00:00\",\"2016-09-30T00:00:00\",\"2016-12-31T00:00:00\",\"2017-03-31T00:00:00\",\"2017-06-30T00:00:00\",\"2017-09-30T00:00:00\",\"2017-12-31T00:00:00\",\"2018-03-31T00:00:00\",\"2018-06-30T00:00:00\",\"2018-09-30T00:00:00\",\"2018-12-31T00:00:00\",\"2019-03-31T00:00:00\",\"2019-06-30T00:00:00\",\"2019-09-30T00:00:00\",\"2019-12-31T00:00:00\",\"2020-03-31T00:00:00\",\"2020-06-30T00:00:00\",\"2020-09-30T00:00:00\",\"2020-12-31T00:00:00\",\"2021-03-31T00:00:00\",\"2021-06-30T00:00:00\",\"2021-09-30T00:00:00\",\"2021-12-31T00:00:00\",\"2022-03-31T00:00:00\",\"2022-06-30T00:00:00\",\"2022-09-30T00:00:00\",\"2022-12-31T00:00:00\",\"2023-03-31T00:00:00\",\"2023-06-30T00:00:00\",\"2023-09-30T00:00:00\",\"2023-12-31T00:00:00\",\"2024-03-31T00:00:00\",\"2024-06-30T00:00:00\",\"2024-09-30T00:00:00\",\"2024-12-31T00:00:00\",\"2025-03-31T00:00:00\",\"2025-06-30T00:00:00\",\"2025-09-30T00:00:00\"],\"y\":[95315.23287888951,95459.39412104187,95605.13955266842,95750.88498429497,95893.46203732131,96037.6232798257,96183.36871182502,96329.11414382434,96471.69119686713,96615.85152221147,96761.59602695517,96907.33220190856,97051.48428800372,97195.6363740989,97341.33786246215,97487.03935082542,97629.57341552859,97773.68693999473,97919.38412956492,98065.05345570872,98207.55605737116,98351.6420212743,98497.30883391941,98642.97564656453,98785.4753357757,98929.55835486701,99075.22470383841,99220.85904236803,99364.91039895712,99508.96175554619,99654.56314833272,99800.16454111921,99942.55150427551,100086.52054480022,100232.07166269333,100377.58138012396,100519.92784282782,100663.74501932357,100809.14260435225,100954.54018938093,101096.77393751501,101240.58806062835,101385.98255872093,101327.71784850572,101270.08645035807,101212.40113962254,101154.08192437343,101095.76270912432,101000.8636739674,100904.91020508653,100807.67406240664,100710.43791972676,100615.31560623558,100519.06182406748,100421.7503080294,100324.43879199133,100229.24274387183,100132.98896188434,100035.67744630096,99938.36593071755,99842.11214899921,99745.85836736452,99648.54685186576,99551.23533667142,99456.03928919871,99359.7855078652,99262.47399327585,99165.16247868653,99069.96643180566,98973.71265107056,98876.40113648122,98779.08962189188,98683.89357501101,98587.63979427592,98490.32827968657,98393.01676509724,98296.76298436213,98200.50920362704,98103.1976890377,98005.88617444836,97910.69012756749,97814.43634683237,97717.12483224305,97620.49983689196,97532.64669980736,97447.68406726762,97363.51535976386,97282.22301640805,97205.87013626072,97130.96036518727,97054.22625386802,96978.32813391485,96903.65007688694,96836.289048428,96765.68811971205,96700.43987619039,96638.38647497722,96585.16025862392,96515.53311267614],\"type\":\"scatter\",\"xaxis\":\"x\",\"yaxis\":\"y\"},{\"fill\":\"tonexty\",\"fillcolor\":\"rgba(0, 114, 178, 0.2)\",\"line\":{\"color\":\"rgba(0, 114, 178, 0.2)\",\"width\":0},\"mode\":\"lines\",\"name\":\"trend_lower\",\"x\":[\"2001-03-31T00:00:00\",\"2001-06-30T00:00:00\",\"2001-09-30T00:00:00\",\"2001-12-31T00:00:00\",\"2002-03-31T00:00:00\",\"2002-06-30T00:00:00\",\"2002-09-30T00:00:00\",\"2002-12-31T00:00:00\",\"2003-03-31T00:00:00\",\"2003-06-30T00:00:00\",\"2003-09-30T00:00:00\",\"2003-12-31T00:00:00\",\"2004-03-31T00:00:00\",\"2004-06-30T00:00:00\",\"2004-09-30T00:00:00\",\"2004-12-31T00:00:00\",\"2005-03-31T00:00:00\",\"2005-06-30T00:00:00\",\"2005-09-30T00:00:00\",\"2005-12-31T00:00:00\",\"2006-03-31T00:00:00\",\"2006-06-30T00:00:00\",\"2006-09-30T00:00:00\",\"2006-12-31T00:00:00\",\"2007-03-31T00:00:00\",\"2007-06-30T00:00:00\",\"2007-09-30T00:00:00\",\"2007-12-31T00:00:00\",\"2008-03-31T00:00:00\",\"2008-06-30T00:00:00\",\"2008-09-30T00:00:00\",\"2008-12-31T00:00:00\",\"2009-03-31T00:00:00\",\"2009-06-30T00:00:00\",\"2009-09-30T00:00:00\",\"2009-12-31T00:00:00\",\"2010-03-31T00:00:00\",\"2010-06-30T00:00:00\",\"2010-09-30T00:00:00\",\"2010-12-31T00:00:00\",\"2011-03-31T00:00:00\",\"2011-06-30T00:00:00\",\"2011-09-30T00:00:00\",\"2011-12-31T00:00:00\",\"2012-03-31T00:00:00\",\"2012-06-30T00:00:00\",\"2012-09-30T00:00:00\",\"2012-12-31T00:00:00\",\"2013-03-31T00:00:00\",\"2013-06-30T00:00:00\",\"2013-09-30T00:00:00\",\"2013-12-31T00:00:00\",\"2014-03-31T00:00:00\",\"2014-06-30T00:00:00\",\"2014-09-30T00:00:00\",\"2014-12-31T00:00:00\",\"2015-03-31T00:00:00\",\"2015-06-30T00:00:00\",\"2015-09-30T00:00:00\",\"2015-12-31T00:00:00\",\"2016-03-31T00:00:00\",\"2016-06-30T00:00:00\",\"2016-09-30T00:00:00\",\"2016-12-31T00:00:00\",\"2017-03-31T00:00:00\",\"2017-06-30T00:00:00\",\"2017-09-30T00:00:00\",\"2017-12-31T00:00:00\",\"2018-03-31T00:00:00\",\"2018-06-30T00:00:00\",\"2018-09-30T00:00:00\",\"2018-12-31T00:00:00\",\"2019-03-31T00:00:00\",\"2019-06-30T00:00:00\",\"2019-09-30T00:00:00\",\"2019-12-31T00:00:00\",\"2020-03-31T00:00:00\",\"2020-06-30T00:00:00\",\"2020-09-30T00:00:00\",\"2020-12-31T00:00:00\",\"2021-03-31T00:00:00\",\"2021-06-30T00:00:00\",\"2021-09-30T00:00:00\",\"2021-12-31T00:00:00\",\"2022-03-31T00:00:00\",\"2022-06-30T00:00:00\",\"2022-09-30T00:00:00\",\"2022-12-31T00:00:00\",\"2023-03-31T00:00:00\",\"2023-06-30T00:00:00\",\"2023-09-30T00:00:00\",\"2023-12-31T00:00:00\",\"2024-03-31T00:00:00\",\"2024-06-30T00:00:00\",\"2024-09-30T00:00:00\",\"2024-12-31T00:00:00\",\"2025-03-31T00:00:00\",\"2025-06-30T00:00:00\",\"2025-09-30T00:00:00\"],\"y\":[95315.23287888951,95459.39412104187,95605.13955266842,95750.88498429497,95893.46203732131,96037.6232798257,96183.36871182502,96329.11414382434,96471.69119686713,96615.85152221147,96761.59602695517,96907.33220190856,97051.48428800372,97195.6363740989,97341.33786246215,97487.03935082542,97629.57341552859,97773.68693999473,97919.38412956492,98065.05345570872,98207.55605737116,98351.6420212743,98497.30883391941,98642.97564656453,98785.4753357757,98929.55835486701,99075.22470383841,99220.85904236803,99364.91039895712,99508.96175554619,99654.56314833272,99800.16454111921,99942.55150427551,100086.52054480022,100232.07166269333,100377.58138012396,100519.92784282782,100663.74501932357,100809.14260435225,100954.54018938093,101096.77393751501,101240.58806062835,101385.98255872093,101327.71784850572,101270.08645035807,101212.40113962254,101154.08192437343,101095.76270912432,101000.8636739674,100904.91020508653,100807.67406240664,100710.43791972676,100615.31560623558,100519.06182406748,100421.7503080294,100324.43879199133,100229.24274387183,100132.98896188434,100035.67744630096,99938.36593071755,99842.11214899921,99745.85836736452,99648.54685186576,99551.23533667142,99456.03928919871,99359.7855078652,99262.47399327585,99165.16247868653,99069.96643180566,98973.71265107056,98876.40113648122,98779.08962189188,98683.89357501101,98587.63979427592,98490.32827968657,98393.01676509724,98296.76298436213,98200.50920362704,98103.1976890377,98005.88617444836,97910.69012756749,97814.43634683237,97717.12483224305,97618.50180717368,97515.46041281015,97406.80363544662,97294.90381402695,97181.48537162562,97066.11453291863,96950.00684815935,96831.68221382091,96709.8317677659,96589.00598245156,96466.6161583394,96341.34476508536,96221.25924478986,96100.01036118904,95977.25572596525,95844.16660351018],\"type\":\"scatter\",\"xaxis\":\"x\",\"yaxis\":\"y\"},{\"line\":{\"color\":\"#0072B2\",\"width\":2},\"mode\":\"lines\",\"name\":\"yearly\",\"x\":[\"2017-01-01T00:00:00\",\"2017-01-02T00:00:59.178082\",\"2017-01-03T00:01:58.356164\",\"2017-01-04T00:02:57.534246\",\"2017-01-05T00:03:56.712328\",\"2017-01-06T00:04:55.890411\",\"2017-01-07T00:05:55.068493\",\"2017-01-08T00:06:54.246575\",\"2017-01-09T00:07:53.424657\",\"2017-01-10T00:08:52.602739\",\"2017-01-11T00:09:51.780822\",\"2017-01-12T00:10:50.958904\",\"2017-01-13T00:11:50.136986\",\"2017-01-14T00:12:49.315068\",\"2017-01-15T00:13:48.493150\",\"2017-01-16T00:14:47.671232\",\"2017-01-17T00:15:46.849315\",\"2017-01-18T00:16:46.027397\",\"2017-01-19T00:17:45.205479\",\"2017-01-20T00:18:44.383561\",\"2017-01-21T00:19:43.561643\",\"2017-01-22T00:20:42.739726\",\"2017-01-23T00:21:41.917808\",\"2017-01-24T00:22:41.095890\",\"2017-01-25T00:23:40.273972\",\"2017-01-26T00:24:39.452054\",\"2017-01-27T00:25:38.630137\",\"2017-01-28T00:26:37.808219\",\"2017-01-29T00:27:36.986301\",\"2017-01-30T00:28:36.164383\",\"2017-01-31T00:29:35.342465\",\"2017-02-01T00:30:34.520547\",\"2017-02-02T00:31:33.698630\",\"2017-02-03T00:32:32.876712\",\"2017-02-04T00:33:32.054794\",\"2017-02-05T00:34:31.232876\",\"2017-02-06T00:35:30.410958\",\"2017-02-07T00:36:29.589041\",\"2017-02-08T00:37:28.767123\",\"2017-02-09T00:38:27.945205\",\"2017-02-10T00:39:27.123287\",\"2017-02-11T00:40:26.301369\",\"2017-02-12T00:41:25.479452\",\"2017-02-13T00:42:24.657534\",\"2017-02-14T00:43:23.835616\",\"2017-02-15T00:44:23.013698\",\"2017-02-16T00:45:22.191780\",\"2017-02-17T00:46:21.369862\",\"2017-02-18T00:47:20.547945\",\"2017-02-19T00:48:19.726027\",\"2017-02-20T00:49:18.904109\",\"2017-02-21T00:50:18.082191\",\"2017-02-22T00:51:17.260273\",\"2017-02-23T00:52:16.438356\",\"2017-02-24T00:53:15.616438\",\"2017-02-25T00:54:14.794520\",\"2017-02-26T00:55:13.972602\",\"2017-02-27T00:56:13.150684\",\"2017-02-28T00:57:12.328767\",\"2017-03-01T00:58:11.506849\",\"2017-03-02T00:59:10.684931\",\"2017-03-03T01:00:09.863013\",\"2017-03-04T01:01:09.041095\",\"2017-03-05T01:02:08.219177\",\"2017-03-06T01:03:07.397260\",\"2017-03-07T01:04:06.575342\",\"2017-03-08T01:05:05.753424\",\"2017-03-09T01:06:04.931506\",\"2017-03-10T01:07:04.109588\",\"2017-03-11T01:08:03.287671\",\"2017-03-12T01:09:02.465753\",\"2017-03-13T01:10:01.643835\",\"2017-03-14T01:11:00.821917\",\"2017-03-15T01:12:00\",\"2017-03-16T01:12:59.178082\",\"2017-03-17T01:13:58.356164\",\"2017-03-18T01:14:57.534246\",\"2017-03-19T01:15:56.712328\",\"2017-03-20T01:16:55.890411\",\"2017-03-21T01:17:55.068493\",\"2017-03-22T01:18:54.246575\",\"2017-03-23T01:19:53.424657\",\"2017-03-24T01:20:52.602739\",\"2017-03-25T01:21:51.780822\",\"2017-03-26T01:22:50.958904\",\"2017-03-27T01:23:50.136986\",\"2017-03-28T01:24:49.315068\",\"2017-03-29T01:25:48.493150\",\"2017-03-30T01:26:47.671232\",\"2017-03-31T01:27:46.849315\",\"2017-04-01T01:28:46.027397\",\"2017-04-02T01:29:45.205479\",\"2017-04-03T01:30:44.383561\",\"2017-04-04T01:31:43.561643\",\"2017-04-05T01:32:42.739726\",\"2017-04-06T01:33:41.917808\",\"2017-04-07T01:34:41.095890\",\"2017-04-08T01:35:40.273972\",\"2017-04-09T01:36:39.452054\",\"2017-04-10T01:37:38.630137\",\"2017-04-11T01:38:37.808219\",\"2017-04-12T01:39:36.986301\",\"2017-04-13T01:40:36.164383\",\"2017-04-14T01:41:35.342465\",\"2017-04-15T01:42:34.520547\",\"2017-04-16T01:43:33.698630\",\"2017-04-17T01:44:32.876712\",\"2017-04-18T01:45:32.054794\",\"2017-04-19T01:46:31.232876\",\"2017-04-20T01:47:30.410958\",\"2017-04-21T01:48:29.589041\",\"2017-04-22T01:49:28.767123\",\"2017-04-23T01:50:27.945205\",\"2017-04-24T01:51:27.123287\",\"2017-04-25T01:52:26.301369\",\"2017-04-26T01:53:25.479452\",\"2017-04-27T01:54:24.657534\",\"2017-04-28T01:55:23.835616\",\"2017-04-29T01:56:23.013698\",\"2017-04-30T01:57:22.191780\",\"2017-05-01T01:58:21.369862\",\"2017-05-02T01:59:20.547945\",\"2017-05-03T02:00:19.726027\",\"2017-05-04T02:01:18.904109\",\"2017-05-05T02:02:18.082191\",\"2017-05-06T02:03:17.260273\",\"2017-05-07T02:04:16.438356\",\"2017-05-08T02:05:15.616438\",\"2017-05-09T02:06:14.794520\",\"2017-05-10T02:07:13.972602\",\"2017-05-11T02:08:13.150684\",\"2017-05-12T02:09:12.328767\",\"2017-05-13T02:10:11.506849\",\"2017-05-14T02:11:10.684931\",\"2017-05-15T02:12:09.863013\",\"2017-05-16T02:13:09.041095\",\"2017-05-17T02:14:08.219177\",\"2017-05-18T02:15:07.397260\",\"2017-05-19T02:16:06.575342\",\"2017-05-20T02:17:05.753424\",\"2017-05-21T02:18:04.931506\",\"2017-05-22T02:19:04.109588\",\"2017-05-23T02:20:03.287671\",\"2017-05-24T02:21:02.465753\",\"2017-05-25T02:22:01.643835\",\"2017-05-26T02:23:00.821917\",\"2017-05-27T02:24:00\",\"2017-05-28T02:24:59.178082\",\"2017-05-29T02:25:58.356164\",\"2017-05-30T02:26:57.534246\",\"2017-05-31T02:27:56.712328\",\"2017-06-01T02:28:55.890411\",\"2017-06-02T02:29:55.068493\",\"2017-06-03T02:30:54.246575\",\"2017-06-04T02:31:53.424657\",\"2017-06-05T02:32:52.602739\",\"2017-06-06T02:33:51.780822\",\"2017-06-07T02:34:50.958904\",\"2017-06-08T02:35:50.136986\",\"2017-06-09T02:36:49.315068\",\"2017-06-10T02:37:48.493150\",\"2017-06-11T02:38:47.671232\",\"2017-06-12T02:39:46.849315\",\"2017-06-13T02:40:46.027397\",\"2017-06-14T02:41:45.205479\",\"2017-06-15T02:42:44.383561\",\"2017-06-16T02:43:43.561643\",\"2017-06-17T02:44:42.739726\",\"2017-06-18T02:45:41.917808\",\"2017-06-19T02:46:41.095890\",\"2017-06-20T02:47:40.273972\",\"2017-06-21T02:48:39.452054\",\"2017-06-22T02:49:38.630137\",\"2017-06-23T02:50:37.808219\",\"2017-06-24T02:51:36.986301\",\"2017-06-25T02:52:36.164383\",\"2017-06-26T02:53:35.342465\",\"2017-06-27T02:54:34.520547\",\"2017-06-28T02:55:33.698630\",\"2017-06-29T02:56:32.876712\",\"2017-06-30T02:57:32.054794\",\"2017-07-01T02:58:31.232876\",\"2017-07-02T02:59:30.410958\",\"2017-07-03T03:00:29.589041\",\"2017-07-04T03:01:28.767123\",\"2017-07-05T03:02:27.945205\",\"2017-07-06T03:03:27.123287\",\"2017-07-07T03:04:26.301369\",\"2017-07-08T03:05:25.479452\",\"2017-07-09T03:06:24.657534\",\"2017-07-10T03:07:23.835616\",\"2017-07-11T03:08:23.013698\",\"2017-07-12T03:09:22.191780\",\"2017-07-13T03:10:21.369862\",\"2017-07-14T03:11:20.547945\",\"2017-07-15T03:12:19.726027\",\"2017-07-16T03:13:18.904109\",\"2017-07-17T03:14:18.082191\",\"2017-07-18T03:15:17.260273\",\"2017-07-19T03:16:16.438356\",\"2017-07-20T03:17:15.616438\",\"2017-07-21T03:18:14.794520\",\"2017-07-22T03:19:13.972602\",\"2017-07-23T03:20:13.150684\",\"2017-07-24T03:21:12.328767\",\"2017-07-25T03:22:11.506849\",\"2017-07-26T03:23:10.684931\",\"2017-07-27T03:24:09.863013\",\"2017-07-28T03:25:09.041095\",\"2017-07-29T03:26:08.219177\",\"2017-07-30T03:27:07.397260\",\"2017-07-31T03:28:06.575342\",\"2017-08-01T03:29:05.753424\",\"2017-08-02T03:30:04.931506\",\"2017-08-03T03:31:04.109588\",\"2017-08-04T03:32:03.287671\",\"2017-08-05T03:33:02.465753\",\"2017-08-06T03:34:01.643835\",\"2017-08-07T03:35:00.821917\",\"2017-08-08T03:36:00\",\"2017-08-09T03:36:59.178082\",\"2017-08-10T03:37:58.356164\",\"2017-08-11T03:38:57.534246\",\"2017-08-12T03:39:56.712328\",\"2017-08-13T03:40:55.890411\",\"2017-08-14T03:41:55.068493\",\"2017-08-15T03:42:54.246575\",\"2017-08-16T03:43:53.424657\",\"2017-08-17T03:44:52.602739\",\"2017-08-18T03:45:51.780822\",\"2017-08-19T03:46:50.958904\",\"2017-08-20T03:47:50.136986\",\"2017-08-21T03:48:49.315068\",\"2017-08-22T03:49:48.493150\",\"2017-08-23T03:50:47.671232\",\"2017-08-24T03:51:46.849315\",\"2017-08-25T03:52:46.027397\",\"2017-08-26T03:53:45.205479\",\"2017-08-27T03:54:44.383561\",\"2017-08-28T03:55:43.561643\",\"2017-08-29T03:56:42.739726\",\"2017-08-30T03:57:41.917808\",\"2017-08-31T03:58:41.095890\",\"2017-09-01T03:59:40.273972\",\"2017-09-02T04:00:39.452054\",\"2017-09-03T04:01:38.630137\",\"2017-09-04T04:02:37.808219\",\"2017-09-05T04:03:36.986301\",\"2017-09-06T04:04:36.164383\",\"2017-09-07T04:05:35.342465\",\"2017-09-08T04:06:34.520547\",\"2017-09-09T04:07:33.698630\",\"2017-09-10T04:08:32.876712\",\"2017-09-11T04:09:32.054794\",\"2017-09-12T04:10:31.232876\",\"2017-09-13T04:11:30.410958\",\"2017-09-14T04:12:29.589041\",\"2017-09-15T04:13:28.767123\",\"2017-09-16T04:14:27.945205\",\"2017-09-17T04:15:27.123287\",\"2017-09-18T04:16:26.301369\",\"2017-09-19T04:17:25.479452\",\"2017-09-20T04:18:24.657534\",\"2017-09-21T04:19:23.835616\",\"2017-09-22T04:20:23.013698\",\"2017-09-23T04:21:22.191780\",\"2017-09-24T04:22:21.369862\",\"2017-09-25T04:23:20.547945\",\"2017-09-26T04:24:19.726027\",\"2017-09-27T04:25:18.904109\",\"2017-09-28T04:26:18.082191\",\"2017-09-29T04:27:17.260273\",\"2017-09-30T04:28:16.438356\",\"2017-10-01T04:29:15.616438\",\"2017-10-02T04:30:14.794520\",\"2017-10-03T04:31:13.972602\",\"2017-10-04T04:32:13.150684\",\"2017-10-05T04:33:12.328767\",\"2017-10-06T04:34:11.506849\",\"2017-10-07T04:35:10.684931\",\"2017-10-08T04:36:09.863013\",\"2017-10-09T04:37:09.041095\",\"2017-10-10T04:38:08.219177\",\"2017-10-11T04:39:07.397260\",\"2017-10-12T04:40:06.575342\",\"2017-10-13T04:41:05.753424\",\"2017-10-14T04:42:04.931506\",\"2017-10-15T04:43:04.109588\",\"2017-10-16T04:44:03.287671\",\"2017-10-17T04:45:02.465753\",\"2017-10-18T04:46:01.643835\",\"2017-10-19T04:47:00.821917\",\"2017-10-20T04:48:00\",\"2017-10-21T04:48:59.178082\",\"2017-10-22T04:49:58.356164\",\"2017-10-23T04:50:57.534246\",\"2017-10-24T04:51:56.712328\",\"2017-10-25T04:52:55.890411\",\"2017-10-26T04:53:55.068493\",\"2017-10-27T04:54:54.246575\",\"2017-10-28T04:55:53.424657\",\"2017-10-29T04:56:52.602739\",\"2017-10-30T04:57:51.780822\",\"2017-10-31T04:58:50.958904\",\"2017-11-01T04:59:50.136986\",\"2017-11-02T05:00:49.315068\",\"2017-11-03T05:01:48.493150\",\"2017-11-04T05:02:47.671232\",\"2017-11-05T05:03:46.849315\",\"2017-11-06T05:04:46.027397\",\"2017-11-07T05:05:45.205479\",\"2017-11-08T05:06:44.383561\",\"2017-11-09T05:07:43.561643\",\"2017-11-10T05:08:42.739726\",\"2017-11-11T05:09:41.917808\",\"2017-11-12T05:10:41.095890\",\"2017-11-13T05:11:40.273972\",\"2017-11-14T05:12:39.452054\",\"2017-11-15T05:13:38.630137\",\"2017-11-16T05:14:37.808219\",\"2017-11-17T05:15:36.986301\",\"2017-11-18T05:16:36.164383\",\"2017-11-19T05:17:35.342465\",\"2017-11-20T05:18:34.520547\",\"2017-11-21T05:19:33.698630\",\"2017-11-22T05:20:32.876712\",\"2017-11-23T05:21:32.054794\",\"2017-11-24T05:22:31.232876\",\"2017-11-25T05:23:30.410958\",\"2017-11-26T05:24:29.589041\",\"2017-11-27T05:25:28.767123\",\"2017-11-28T05:26:27.945205\",\"2017-11-29T05:27:27.123287\",\"2017-11-30T05:28:26.301369\",\"2017-12-01T05:29:25.479452\",\"2017-12-02T05:30:24.657534\",\"2017-12-03T05:31:23.835616\",\"2017-12-04T05:32:23.013698\",\"2017-12-05T05:33:22.191780\",\"2017-12-06T05:34:21.369862\",\"2017-12-07T05:35:20.547945\",\"2017-12-08T05:36:19.726027\",\"2017-12-09T05:37:18.904109\",\"2017-12-10T05:38:18.082191\",\"2017-12-11T05:39:17.260273\",\"2017-12-12T05:40:16.438356\",\"2017-12-13T05:41:15.616438\",\"2017-12-14T05:42:14.794520\",\"2017-12-15T05:43:13.972602\",\"2017-12-16T05:44:13.150684\",\"2017-12-17T05:45:12.328767\",\"2017-12-18T05:46:11.506849\",\"2017-12-19T05:47:10.684931\",\"2017-12-20T05:48:09.863013\",\"2017-12-21T05:49:09.041095\",\"2017-12-22T05:50:08.219177\",\"2017-12-23T05:51:07.397260\",\"2017-12-24T05:52:06.575342\",\"2017-12-25T05:53:05.753424\",\"2017-12-26T05:54:04.931506\",\"2017-12-27T05:55:04.109588\",\"2017-12-28T05:56:03.287671\",\"2017-12-29T05:57:02.465753\",\"2017-12-30T05:58:01.643835\",\"2017-12-31T05:59:00.821917\"],\"y\":[-69486.73839996905,-76776.99843005904,-87169.58803776903,-100439.27370348181,-116238.63880141571,-134110.54885395474,-153504.46714180103,-173796.05371950282,-194309.37690602563,-214340.9843245871,-233185.02294236224,-250158.56600331044,-264626.3001306879,-276023.74817862996,-283878.25187748554,-287827.01128694956,-287631.57321204594,-283188.27499120496,-274534.27982626675,-261848.9809902317,-245450.70041042296,-225788.75763587884,-203431.13337505856,-179048.09301427822,-153392.26542612768,-127275.78689626545,-101545.21560790928,-77054.99583996487,-54640.30058513932,-35090.10511908282,-19121.341400627927,-7354.954120326053,-294.6246092026783,1691.1496963334512,-1616.9674488086307,-10279.58623219338,-24193.774176447347,-43093.179470865885,-66553.13534151013,-94000.63418724625,-124728.91064214855,-157916.23058968244,-192648.35273584936,-227944.014695813,-262782.70015017607,-296133.87041665654,-326986.795073192,-354380.09352883423,-377430.10347715206,-395357.2228706825,-407509.42860593734,-413382.2558090692,-412634.6241316445,-405100.0187300352,-390792.67003058206,-369908.52388500527,-342820.9479200276,-310071.27613928,-272354.4474977736,-230500.14060609002,-185449.94155247413,-138231.2010189778,-89928.33677217088,-41652.41529782598,5490.100616094026,50428.524717548906,92158.12717495236,129768.43547897683,162468.82400941223,189610.63833882712,210705.2012179596,225437.16755129592,233672.83194161087,235463.14055019637,231041.3146909483,220815.15213553834,205354.22885562532,185372.37422887512,161705.93211483787,135288.4445498473,107122.50042122562,78249.57523368942,49718.74749435582,22555.210561216365,-2270.494966535728,-23871.62425566497,-41471.89024005462,-54428.86108073646,-62253.40546373518,-64624.61423910407,-61399.75978574123,-52619.00019842236,-38504.6896159428,-19455.314189633704,3965.7693446496446,31046.46342981487,60946.45646037899,92721.5470064885,125351.05547699535,157767.52376707003,188887.83761566307,217644.86607252248,243018.69880888626,264066.5753311416,279950.6400106735,289962.72201298975,293545.4276774262,290308.9420188174,280043.0625002001,262724.12828695646,238516.65765647942,207769.66066842136,171007.74900935736,128917.3155554048,82328.19819131773,32191.37165301898,-20446.676198561145,-74472.13440337982,-128733.80561079348,-182073.92395155955,-233358.9683519138,-281509.59157548205,-325528.8171032,-364527.71263865934,-397747.8286119948,-424579.79015401646,-444577.5484644649,-457467.92872224,-463155.25267340697,-461720.9605010546,-453418.30412696063,-438662.32826438156,-418015.492032702,-392169.40872184804,-361923.29064496903,-328159.77676460275,-291818.89031956455,-253870.9200218778,-215289.04033892404,-177022.4833886874,-139971.04737020034,-104961.67521141063,-72727.76399834128,-43891.77316714423,-18951.590355217155,1729.0082862697066,17925.597735215797,29553.974374745874,36666.724561164796,39445.692623365045,38190.67523650373,33304.783360461115,25277.012139652714,14662.640233863782,2062.1406225190867,-11900.676891093137,-26600.556476491995,-41431.99440860722,-55829.05099979454,-69283.13749059303,-81358.21416355603,-91702.92901619611,-100059.33427601597,-106267.93737480241,-110268.96982576842,-112099.88764605117,-111889.24630933665,-109847.21749028623,-106253.13001617047,-101440.5197028428,-95780.25876088827,-89662.40233673192,-83477.4352740934,-77597.6247470477,-72359.18317258613,-68045.92070333593,-64875.018253591494,-62985.48189861072,-62429.74972573144,-63168.81557433728,-65071.11395463627,-67915.2805674472,-71396.76742220733,-75138.15493484774,-78702.87003793013,-81611.89364254517,-83362.92696139793,-83451.38809657164,-81392.5313482481,-76743.92473286466,-69127.48844626099,-58250.28987246363,-43923.3099388269,-26077.440961359964,-4776.04664777427,19776.49114691953,47230.69953818285,77092.74382512856,108730.14081556485,141382.48260356896,174177.0366597273,206148.92774049242,236265.4518466967,263453.9272076868,286632.35670066153,304742.0645654856,316781.3815481458,321839.389895469,319128.7053793035,308016.26938538294,288051.15082367364,258988.4150491546,220808.2040496927,173729.2868850764,118216.4789177748,54981.489139468904,-15023.067428434566,-90616.56559189396,-170410.0510060148,-252832.38575047138,-336162.34490631265,-418565.96795986436,-498138.30196634657,-572948.527404784,-641087.3370961206,-700715.347362411,-750111.2619217634,-787718.4850800696,-812188.8928869001,-822422.5193402773,-817601.9987096392,-797220.7227952045,-761103.8207210173,-709421.2449637941,-642692.4462560907,-561782.3365722275,-467888.4678242668,-362519.58799341327,-247465.96979294208,-124762.13312477502,3357.204781753057,134506.92461942678,266205.85080115794,395934.31511102687,521193.5018693825,639565.0719959938,748769.5368025512,846721.8664762651,931582.873256596,1001805.0040084124,1056171.309129862,1093826.5212394677,1114299.373611809,1117515.509841314,1103800.5768504993,1073873.34680454,1028828.9729501691,970112.742906822,899484.9435136083,818977.6871702163,730844.7642432573,637505.7736771961,541485.9392235316,445353.1373859199,351653.7419202282,262848.9262200006,181253.05809252898,108975.77126519315,47869.20573484348,-518.222868960287,-34980.332937875646,-54682.97356168691,-59184.342718203996,-48445.308348823455,-22829.47440501944,16906.99851603661,69635.54114836619,133884.75568807675,207878.6464616167,289582.4953819449,376755.17937791056,467006.5622004817,557858.4648460157,646807.6307370675,731389.0559018592,809238.0519322741,878149.4502879033,936132.4393739705,981459.6483327656,1012709.2501554835,1028799.0471668323,1029011.7188119228,1013010.6490297634,980846.0018102787,932950.9719280091,870128.3963067275,793528.1630213005,704616.0927911564,605135.1856832084,497060.31779976457,382547.6340310289,263880.0093272029,143410.03928408097,23502.06904717889,-93525.22332104939,-205454.20660259074,-310220.2302238736,-405958.8134824943,-491046.93584384,-564137.4476699708,-624185.8188367726,-670468.659457522,-702593.6761774676,-720500.9627881863,-724455.7586312352,-715033.0359771207,-693094.4920250621,-659758.7165975812,-616365.477819545,-564435.2106222041,-505624.90319089754,-441681.6518597637,-374395.1937947751,-305550.7285292372,-236883.30451091984,-170034.9767799759,-106515.83922518077,-47669.90296188293,5353.364605378143,51621.2026666365,90432.97650880844,121328.60949504594,144089.9877838869,158735.4997646687,165508.06540984806,164857.19006812287,157415.73762983532,143972.25514402988,125439.7912319258,102822.23120687038,77179.22080619779,49590.76690791501,21122.58757032523,-7206.763812712568,-34456.05262296574,-59787.951829778234,-82491.34935069802,-101998.80444462005,-117898.7447793681,-129942.1664820838,-138043.77433927645,-142277.6730719703,-142867.88800780813,-140174.14953065477,-134673.5158351111,-126938.52867001104,-117612.69355247087,-107384.14668074637,-96958.41364694345,-87031.17907198702,-78261.97135050083,-71249.62361445678,-66510.30243121511,-64458.802076375294,-65393.68763273407],\"type\":\"scatter\",\"xaxis\":\"x2\",\"yaxis\":\"y2\"}],                        {\"template\":{\"data\":{\"bar\":[{\"error_x\":{\"color\":\"#2a3f5f\"},\"error_y\":{\"color\":\"#2a3f5f\"},\"marker\":{\"line\":{\"color\":\"#E5ECF6\",\"width\":0.5},\"pattern\":{\"fillmode\":\"overlay\",\"size\":10,\"solidity\":0.2}},\"type\":\"bar\"}],\"barpolar\":[{\"marker\":{\"line\":{\"color\":\"#E5ECF6\",\"width\":0.5},\"pattern\":{\"fillmode\":\"overlay\",\"size\":10,\"solidity\":0.2}},\"type\":\"barpolar\"}],\"carpet\":[{\"aaxis\":{\"endlinecolor\":\"#2a3f5f\",\"gridcolor\":\"white\",\"linecolor\":\"white\",\"minorgridcolor\":\"white\",\"startlinecolor\":\"#2a3f5f\"},\"baxis\":{\"endlinecolor\":\"#2a3f5f\",\"gridcolor\":\"white\",\"linecolor\":\"white\",\"minorgridcolor\":\"white\",\"startlinecolor\":\"#2a3f5f\"},\"type\":\"carpet\"}],\"choropleth\":[{\"colorbar\":{\"outlinewidth\":0,\"ticks\":\"\"},\"type\":\"choropleth\"}],\"contour\":[{\"colorbar\":{\"outlinewidth\":0,\"ticks\":\"\"},\"colorscale\":[[0.0,\"#0d0887\"],[0.1111111111111111,\"#46039f\"],[0.2222222222222222,\"#7201a8\"],[0.3333333333333333,\"#9c179e\"],[0.4444444444444444,\"#bd3786\"],[0.5555555555555556,\"#d8576b\"],[0.6666666666666666,\"#ed7953\"],[0.7777777777777778,\"#fb9f3a\"],[0.8888888888888888,\"#fdca26\"],[1.0,\"#f0f921\"]],\"type\":\"contour\"}],\"contourcarpet\":[{\"colorbar\":{\"outlinewidth\":0,\"ticks\":\"\"},\"type\":\"contourcarpet\"}],\"heatmap\":[{\"colorbar\":{\"outlinewidth\":0,\"ticks\":\"\"},\"colorscale\":[[0.0,\"#0d0887\"],[0.1111111111111111,\"#46039f\"],[0.2222222222222222,\"#7201a8\"],[0.3333333333333333,\"#9c179e\"],[0.4444444444444444,\"#bd3786\"],[0.5555555555555556,\"#d8576b\"],[0.6666666666666666,\"#ed7953\"],[0.7777777777777778,\"#fb9f3a\"],[0.8888888888888888,\"#fdca26\"],[1.0,\"#f0f921\"]],\"type\":\"heatmap\"}],\"heatmapgl\":[{\"colorbar\":{\"outlinewidth\":0,\"ticks\":\"\"},\"colorscale\":[[0.0,\"#0d0887\"],[0.1111111111111111,\"#46039f\"],[0.2222222222222222,\"#7201a8\"],[0.3333333333333333,\"#9c179e\"],[0.4444444444444444,\"#bd3786\"],[0.5555555555555556,\"#d8576b\"],[0.6666666666666666,\"#ed7953\"],[0.7777777777777778,\"#fb9f3a\"],[0.8888888888888888,\"#fdca26\"],[1.0,\"#f0f921\"]],\"type\":\"heatmapgl\"}],\"histogram\":[{\"marker\":{\"pattern\":{\"fillmode\":\"overlay\",\"size\":10,\"solidity\":0.2}},\"type\":\"histogram\"}],\"histogram2d\":[{\"colorbar\":{\"outlinewidth\":0,\"ticks\":\"\"},\"colorscale\":[[0.0,\"#0d0887\"],[0.1111111111111111,\"#46039f\"],[0.2222222222222222,\"#7201a8\"],[0.3333333333333333,\"#9c179e\"],[0.4444444444444444,\"#bd3786\"],[0.5555555555555556,\"#d8576b\"],[0.6666666666666666,\"#ed7953\"],[0.7777777777777778,\"#fb9f3a\"],[0.8888888888888888,\"#fdca26\"],[1.0,\"#f0f921\"]],\"type\":\"histogram2d\"}],\"histogram2dcontour\":[{\"colorbar\":{\"outlinewidth\":0,\"ticks\":\"\"},\"colorscale\":[[0.0,\"#0d0887\"],[0.1111111111111111,\"#46039f\"],[0.2222222222222222,\"#7201a8\"],[0.3333333333333333,\"#9c179e\"],[0.4444444444444444,\"#bd3786\"],[0.5555555555555556,\"#d8576b\"],[0.6666666666666666,\"#ed7953\"],[0.7777777777777778,\"#fb9f3a\"],[0.8888888888888888,\"#fdca26\"],[1.0,\"#f0f921\"]],\"type\":\"histogram2dcontour\"}],\"mesh3d\":[{\"colorbar\":{\"outlinewidth\":0,\"ticks\":\"\"},\"type\":\"mesh3d\"}],\"parcoords\":[{\"line\":{\"colorbar\":{\"outlinewidth\":0,\"ticks\":\"\"}},\"type\":\"parcoords\"}],\"pie\":[{\"automargin\":true,\"type\":\"pie\"}],\"scatter\":[{\"marker\":{\"colorbar\":{\"outlinewidth\":0,\"ticks\":\"\"}},\"type\":\"scatter\"}],\"scatter3d\":[{\"line\":{\"colorbar\":{\"outlinewidth\":0,\"ticks\":\"\"}},\"marker\":{\"colorbar\":{\"outlinewidth\":0,\"ticks\":\"\"}},\"type\":\"scatter3d\"}],\"scattercarpet\":[{\"marker\":{\"colorbar\":{\"outlinewidth\":0,\"ticks\":\"\"}},\"type\":\"scattercarpet\"}],\"scattergeo\":[{\"marker\":{\"colorbar\":{\"outlinewidth\":0,\"ticks\":\"\"}},\"type\":\"scattergeo\"}],\"scattergl\":[{\"marker\":{\"colorbar\":{\"outlinewidth\":0,\"ticks\":\"\"}},\"type\":\"scattergl\"}],\"scattermapbox\":[{\"marker\":{\"colorbar\":{\"outlinewidth\":0,\"ticks\":\"\"}},\"type\":\"scattermapbox\"}],\"scatterpolar\":[{\"marker\":{\"colorbar\":{\"outlinewidth\":0,\"ticks\":\"\"}},\"type\":\"scatterpolar\"}],\"scatterpolargl\":[{\"marker\":{\"colorbar\":{\"outlinewidth\":0,\"ticks\":\"\"}},\"type\":\"scatterpolargl\"}],\"scatterternary\":[{\"marker\":{\"colorbar\":{\"outlinewidth\":0,\"ticks\":\"\"}},\"type\":\"scatterternary\"}],\"surface\":[{\"colorbar\":{\"outlinewidth\":0,\"ticks\":\"\"},\"colorscale\":[[0.0,\"#0d0887\"],[0.1111111111111111,\"#46039f\"],[0.2222222222222222,\"#7201a8\"],[0.3333333333333333,\"#9c179e\"],[0.4444444444444444,\"#bd3786\"],[0.5555555555555556,\"#d8576b\"],[0.6666666666666666,\"#ed7953\"],[0.7777777777777778,\"#fb9f3a\"],[0.8888888888888888,\"#fdca26\"],[1.0,\"#f0f921\"]],\"type\":\"surface\"}],\"table\":[{\"cells\":{\"fill\":{\"color\":\"#EBF0F8\"},\"line\":{\"color\":\"white\"}},\"header\":{\"fill\":{\"color\":\"#C8D4E3\"},\"line\":{\"color\":\"white\"}},\"type\":\"table\"}]},\"layout\":{\"annotationdefaults\":{\"arrowcolor\":\"#2a3f5f\",\"arrowhead\":0,\"arrowwidth\":1},\"autotypenumbers\":\"strict\",\"coloraxis\":{\"colorbar\":{\"outlinewidth\":0,\"ticks\":\"\"}},\"colorscale\":{\"diverging\":[[0,\"#8e0152\"],[0.1,\"#c51b7d\"],[0.2,\"#de77ae\"],[0.3,\"#f1b6da\"],[0.4,\"#fde0ef\"],[0.5,\"#f7f7f7\"],[0.6,\"#e6f5d0\"],[0.7,\"#b8e186\"],[0.8,\"#7fbc41\"],[0.9,\"#4d9221\"],[1,\"#276419\"]],\"sequential\":[[0.0,\"#0d0887\"],[0.1111111111111111,\"#46039f\"],[0.2222222222222222,\"#7201a8\"],[0.3333333333333333,\"#9c179e\"],[0.4444444444444444,\"#bd3786\"],[0.5555555555555556,\"#d8576b\"],[0.6666666666666666,\"#ed7953\"],[0.7777777777777778,\"#fb9f3a\"],[0.8888888888888888,\"#fdca26\"],[1.0,\"#f0f921\"]],\"sequentialminus\":[[0.0,\"#0d0887\"],[0.1111111111111111,\"#46039f\"],[0.2222222222222222,\"#7201a8\"],[0.3333333333333333,\"#9c179e\"],[0.4444444444444444,\"#bd3786\"],[0.5555555555555556,\"#d8576b\"],[0.6666666666666666,\"#ed7953\"],[0.7777777777777778,\"#fb9f3a\"],[0.8888888888888888,\"#fdca26\"],[1.0,\"#f0f921\"]]},\"colorway\":[\"#636efa\",\"#EF553B\",\"#00cc96\",\"#ab63fa\",\"#FFA15A\",\"#19d3f3\",\"#FF6692\",\"#B6E880\",\"#FF97FF\",\"#FECB52\"],\"font\":{\"color\":\"#2a3f5f\"},\"geo\":{\"bgcolor\":\"white\",\"lakecolor\":\"white\",\"landcolor\":\"#E5ECF6\",\"showlakes\":true,\"showland\":true,\"subunitcolor\":\"white\"},\"hoverlabel\":{\"align\":\"left\"},\"hovermode\":\"closest\",\"mapbox\":{\"style\":\"light\"},\"paper_bgcolor\":\"white\",\"plot_bgcolor\":\"#E5ECF6\",\"polar\":{\"angularaxis\":{\"gridcolor\":\"white\",\"linecolor\":\"white\",\"ticks\":\"\"},\"bgcolor\":\"#E5ECF6\",\"radialaxis\":{\"gridcolor\":\"white\",\"linecolor\":\"white\",\"ticks\":\"\"}},\"scene\":{\"xaxis\":{\"backgroundcolor\":\"#E5ECF6\",\"gridcolor\":\"white\",\"gridwidth\":2,\"linecolor\":\"white\",\"showbackground\":true,\"ticks\":\"\",\"zerolinecolor\":\"white\"},\"yaxis\":{\"backgroundcolor\":\"#E5ECF6\",\"gridcolor\":\"white\",\"gridwidth\":2,\"linecolor\":\"white\",\"showbackground\":true,\"ticks\":\"\",\"zerolinecolor\":\"white\"},\"zaxis\":{\"backgroundcolor\":\"#E5ECF6\",\"gridcolor\":\"white\",\"gridwidth\":2,\"linecolor\":\"white\",\"showbackground\":true,\"ticks\":\"\",\"zerolinecolor\":\"white\"}},\"shapedefaults\":{\"line\":{\"color\":\"#2a3f5f\"}},\"ternary\":{\"aaxis\":{\"gridcolor\":\"white\",\"linecolor\":\"white\",\"ticks\":\"\"},\"baxis\":{\"gridcolor\":\"white\",\"linecolor\":\"white\",\"ticks\":\"\"},\"bgcolor\":\"#E5ECF6\",\"caxis\":{\"gridcolor\":\"white\",\"linecolor\":\"white\",\"ticks\":\"\"}},\"title\":{\"x\":0.05},\"xaxis\":{\"automargin\":true,\"gridcolor\":\"white\",\"linecolor\":\"white\",\"ticks\":\"\",\"title\":{\"standoff\":15},\"zerolinecolor\":\"white\",\"zerolinewidth\":2},\"yaxis\":{\"automargin\":true,\"gridcolor\":\"white\",\"linecolor\":\"white\",\"ticks\":\"\",\"title\":{\"standoff\":15},\"zerolinecolor\":\"white\",\"zerolinewidth\":2}}},\"xaxis\":{\"anchor\":\"y\",\"domain\":[0.0,1.0],\"range\":[\"2000-01-08T13:12:00\",\"2026-12-21T10:48:00\"],\"type\":\"date\"},\"yaxis\":{\"anchor\":\"x\",\"domain\":[0.575,1.0],\"title\":{\"text\":\"trend\"},\"rangemode\":\"normal\",\"zerolinecolor\":\"#AAA\"},\"xaxis2\":{\"anchor\":\"y2\",\"domain\":[0.0,1.0],\"range\":[\"2016-12-13T18:54:02.958904115\",\"2018-01-18T11:04:57.863013581\"],\"tickformat\":\"%B %e\",\"type\":\"date\"},\"yaxis2\":{\"anchor\":\"x2\",\"domain\":[0.0,0.425],\"title\":{\"text\":\"yearly\"},\"zerolinecolor\":\"#AAA\"},\"height\":400,\"showlegend\":false,\"width\":900},                        {\"responsive\": true}                    ).then(function(){\n",
       "                            \n",
       "var gd = document.getElementById('c49a591e-d153-495a-b890-dccdc4b73acc');\n",
       "var x = new MutationObserver(function (mutations, observer) {{\n",
       "        var display = window.getComputedStyle(gd).display;\n",
       "        if (!display || display === 'none') {{\n",
       "            console.log([gd, 'removed!']);\n",
       "            Plotly.purge(gd);\n",
       "            observer.disconnect();\n",
       "        }}\n",
       "}});\n",
       "\n",
       "// Listen for the removal of the full notebook cells\n",
       "var notebookContainer = gd.closest('#notebook-container');\n",
       "if (notebookContainer) {{\n",
       "    x.observe(notebookContainer, {childList: true});\n",
       "}}\n",
       "\n",
       "// Listen for the clearing of the current output cell\n",
       "var outputEl = gd.closest('.output');\n",
       "if (outputEl) {{\n",
       "    x.observe(outputEl, {childList: true});\n",
       "}}\n",
       "\n",
       "                        })                };                });            </script>        </div>"
      ]
     },
     "metadata": {},
     "output_type": "display_data"
    }
   ],
   "source": [
    "plot_components_plotly(m, forecast)"
   ]
  },
  {
   "cell_type": "markdown",
   "id": "d71097e2-868b-402f-9297-e0533825a966",
   "metadata": {},
   "source": [
    "# Appendix "
   ]
  },
  {
   "cell_type": "markdown",
   "id": "e2237783-872b-4401-858c-27d1599a4a8f",
   "metadata": {},
   "source": [
    "## Model Evaluation with Validation Set"
   ]
  },
  {
   "cell_type": "code",
   "execution_count": 81,
   "id": "50802f7f-757b-4785-823a-5130a22ae921",
   "metadata": {
    "scrolled": true,
    "tags": []
   },
   "outputs": [
    {
     "name": "stderr",
     "output_type": "stream",
     "text": [
      "2022-02-25 11:47:21,336 - Disabling weekly seasonality. Run prophet with weekly_seasonality=True to override this.\n",
      "2022-02-25 11:47:21,337 - Disabling daily seasonality. Run prophet with daily_seasonality=True to override this.\n"
     ]
    },
    {
     "name": "stdout",
     "output_type": "stream",
     "text": [
      "           ds         y\n",
      "12 2018-09-30 40964.807\n",
      "13 2018-06-30 37009.625\n",
      "14 2018-03-31 34245.419\n",
      "15 2017-12-31 33803.644\n",
      "16 2017-09-30 38957.858\n"
     ]
    },
    {
     "data": {
      "text/plain": [
       "<prophet.forecaster.Prophet at 0x7f92529a74f0>"
      ]
     },
     "execution_count": 81,
     "metadata": {},
     "output_type": "execute_result"
    },
    {
     "name": "stdout",
     "output_type": "stream",
     "text": [
      "\n",
      "Initial log joint probability = -79.6255\n",
      "Iteration  1. Log joint probability =    79.5885. Improved by 159.214.\n",
      "Iteration  2. Log joint probability =    129.894. Improved by 50.305.\n",
      "Iteration  3. Log joint probability =     160.85. Improved by 30.9568.\n",
      "Iteration  4. Log joint probability =    188.253. Improved by 27.4032.\n",
      "Iteration  5. Log joint probability =    199.602. Improved by 11.3486.\n",
      "Iteration  6. Log joint probability =    199.672. Improved by 0.0704776.\n",
      "Iteration  7. Log joint probability =    199.753. Improved by 0.0805985.\n",
      "Iteration  8. Log joint probability =    199.905. Improved by 0.152393.\n",
      "Iteration  9. Log joint probability =    200.096. Improved by 0.190036.\n",
      "Iteration 10. Log joint probability =     200.27. Improved by 0.174804.\n",
      "Iteration 11. Log joint probability =     200.37. Improved by 0.099416.\n",
      "Iteration 12. Log joint probability =    200.378. Improved by 0.00809057.\n",
      "Iteration 13. Log joint probability =    200.907. Improved by 0.529447.\n",
      "Iteration 14. Log joint probability =    201.329. Improved by 0.421596.\n",
      "Iteration 15. Log joint probability =    201.557. Improved by 0.228071.\n",
      "Iteration 16. Log joint probability =    201.891. Improved by 0.333776.\n",
      "Iteration 17. Log joint probability =    202.002. Improved by 0.111233.\n",
      "Iteration 18. Log joint probability =    202.252. Improved by 0.249829.\n",
      "Iteration 19. Log joint probability =    202.658. Improved by 0.406435.\n",
      "Iteration 20. Log joint probability =    202.952. Improved by 0.293345.\n",
      "Iteration 21. Log joint probability =    211.628. Improved by 8.67666.\n",
      "Iteration 22. Log joint probability =    212.972. Improved by 1.34402.\n",
      "Iteration 23. Log joint probability =    213.897. Improved by 0.924874.\n",
      "Iteration 24. Log joint probability =    215.409. Improved by 1.5123.\n",
      "Iteration 25. Log joint probability =    215.693. Improved by 0.283843.\n",
      "Iteration 26. Log joint probability =    216.237. Improved by 0.543998.\n",
      "Iteration 27. Log joint probability =    216.625. Improved by 0.388063.\n",
      "Iteration 28. Log joint probability =    216.894. Improved by 0.268714.\n",
      "Iteration 29. Log joint probability =    217.042. Improved by 0.147697.\n",
      "Iteration 30. Log joint probability =    217.114. Improved by 0.0718095.\n",
      "Iteration 31. Log joint probability =    217.167. Improved by 0.0533141.\n",
      "Iteration 32. Log joint probability =    217.602. Improved by 0.434775.\n",
      "Iteration 33. Log joint probability =    217.868. Improved by 0.266631.\n",
      "Iteration 34. Log joint probability =    218.049. Improved by 0.180305.\n",
      "Iteration 35. Log joint probability =    218.099. Improved by 0.0507665.\n",
      "Iteration 36. Log joint probability =    218.112. Improved by 0.0131156.\n",
      "Iteration 37. Log joint probability =    218.115. Improved by 0.00295189.\n",
      "Iteration 38. Log joint probability =     218.12. Improved by 0.00473669.\n",
      "Iteration 39. Log joint probability =    218.122. Improved by 0.00221803.\n",
      "Iteration 40. Log joint probability =    218.123. Improved by 0.000709636.\n",
      "Iteration 41. Log joint probability =    218.126. Improved by 0.00260964.\n",
      "Iteration 42. Log joint probability =     218.13. Improved by 0.00411062.\n",
      "Iteration 43. Log joint probability =    218.131. Improved by 0.000729489.\n",
      "Iteration 44. Log joint probability =    218.136. Improved by 0.0050201.\n",
      "Iteration 45. Log joint probability =    218.137. Improved by 0.00167206.\n",
      "Iteration 46. Log joint probability =    218.138. Improved by 0.000735651.\n",
      "Iteration 47. Log joint probability =    218.138. Improved by 0.000136507.\n",
      "Iteration 48. Log joint probability =     218.14. Improved by 0.00220013.\n",
      "Iteration 49. Log joint probability =    218.141. Improved by 0.000688414.\n",
      "Iteration 50. Log joint probability =    218.142. Improved by 0.0010629.\n",
      "Iteration 51. Log joint probability =    218.142. Improved by 0.000407993.\n",
      "Iteration 52. Log joint probability =    218.143. Improved by 0.000225701.\n",
      "Iteration 53. Log joint probability =    218.143. Improved by 0.000299657.\n",
      "Iteration 54. Log joint probability =    218.143. Improved by 7.08754e-05.\n",
      "Iteration 55. Log joint probability =    218.144. Improved by 0.000488738.\n",
      "Iteration 56. Log joint probability =    218.144. Improved by 6.01203e-05.\n",
      "Iteration 57. Log joint probability =    218.144. Improved by 5.69991e-05.\n",
      "Iteration 58. Log joint probability =    218.144. Improved by 0.000475219.\n",
      "Iteration 59. Log joint probability =    218.144. Improved by 1.84262e-05.\n",
      "Iteration 60. Log joint probability =    218.144. Improved by 1.13385e-06.\n",
      "Iteration 61. Log joint probability =    218.144. Improved by 8.62082e-05.\n",
      "Iteration 62. Log joint probability =    218.144. Improved by 6.55754e-06.\n",
      "Iteration 63. Log joint probability =    218.145. Improved by 0.000569102.\n",
      "Iteration 64. Log joint probability =    218.145. Improved by 1.81697e-05.\n",
      "Iteration 65. Log joint probability =    218.145. Improved by 6.93933e-05.\n",
      "Iteration 66. Log joint probability =    218.145. Improved by 7.82774e-05.\n",
      "Iteration 67. Log joint probability =    218.145. Improved by 5.03327e-05.\n",
      "Iteration 68. Log joint probability =    218.145. Improved by 1.86178e-05.\n",
      "Iteration 69. Log joint probability =    218.145. Improved by 4.19101e-05.\n",
      "Iteration 70. Log joint probability =    218.145. Improved by 0.000121929.\n",
      "Iteration 71. Log joint probability =    218.145. Improved by 3.62836e-05.\n",
      "Iteration 72. Log joint probability =    218.145. Improved by 2.45527e-05.\n",
      "Iteration 73. Log joint probability =    218.145. Improved by 1.2781e-05.\n",
      "Iteration 74. Log joint probability =    218.145. Improved by 1.18358e-06.\n",
      "Iteration 75. Log joint probability =    218.145. Improved by 4.24203e-06.\n",
      "Iteration 76. Log joint probability =    218.145. Improved by 1.80151e-06.\n",
      "Iteration 77. Log joint probability =    218.145. Improved by 1.24766e-05.\n",
      "Iteration 78. Log joint probability =    218.145. Improved by 8.81954e-06.\n",
      "Iteration 79. Log joint probability =    218.145. Improved by 1.45675e-06.\n",
      "Iteration 80. Log joint probability =    218.145. Improved by 1.81518e-06.\n",
      "Iteration 81. Log joint probability =    218.145. Improved by 1.94938e-06.\n",
      "Iteration 82. Log joint probability =    218.14"
     ]
    }
   ],
   "source": [
    "# Remove last 12 quarters of measurements and use as validation set \n",
    "train = df.drop(df.index[:12])\n",
    "print(train.head())\n",
    "\n",
    "m2 = Prophet()\n",
    "m2.fit(train)"
   ]
  },
  {
   "cell_type": "code",
   "execution_count": 84,
   "id": "5276463d-a351-4026-b37d-b7aacb420780",
   "metadata": {},
   "outputs": [
    {
     "data": {
      "text/plain": [
       "3658.815425184068"
      ]
     },
     "execution_count": 84,
     "metadata": {},
     "output_type": "execute_result"
    }
   ],
   "source": [
    "validation = m2.make_future_dataframe(periods=12, freq='Q')\n",
    "forecast2 = m2.predict(validation[-12:])\n",
    "y_pred = forecast2['yhat'].values\n",
    "y_true = df['y'][:12].values\n",
    "\n",
    "mae = mean_absolute_error(y_true, y_pred)\n",
    "mae"
   ]
  },
  {
   "cell_type": "code",
   "execution_count": null,
   "id": "077bfc48-f6ed-4feb-b350-bd0792198ab9",
   "metadata": {},
   "outputs": [],
   "source": [
    "# from sklearn.metrics import mean_absolute_error, mean_squared_error, r2_score\n",
    "# # calculate MAE between expected and predicted values for next 60 mont\n",
    "# y_true = data['y'].values\n",
    "# y_pred = forecast['yhat'][:252].values\n",
    "# mae = mean_absolute_error(y_true, y_pred)\n",
    "# print('MAE: %.3f' % mae)\n",
    "# r = r2_score(y_true, y_pred)\n",
    "# print('R-squared Score: %.3f' % r)"
   ]
  },
  {
   "cell_type": "code",
   "execution_count": 85,
   "id": "c6e3536b-5404-4ebf-9fe6-da0d918aef74",
   "metadata": {},
   "outputs": [
    {
     "data": {
      "image/png": "[encoded data removed]",
      "text/plain": [
       "<Figure size 432x288 with 1 Axes>"
      ]
     },
     "metadata": {
      "needs_background": "light"
     },
     "output_type": "display_data"
    }
   ],
   "source": [
    "from matplotlib import pyplot\n",
    "pyplot.plot(y_true, label='Actual')\n",
    "pyplot.plot(y_pred, label='Predicted')\n",
    "pyplot.legend()\n",
    "pyplot.show()"
   ]
  },
  {
   "cell_type": "markdown",
   "id": "270ae84f-6b20-42b9-81ea-13e39ceb0a56",
   "metadata": {},
   "source": [
    "### Cross-Validation using Prophet\n",
    "\n",
    "#TODO: Perform model tuning after setting up initial end-to-end pipeline"
   ]
  },
  {
   "cell_type": "code",
   "execution_count": null,
   "id": "0ea1787b-1078-4d88-8e32-a7f0c7e7f859",
   "metadata": {
    "scrolled": true,
    "tags": []
   },
   "outputs": [],
   "source": [
    "# from prophet.diagnostics import cross_validation\n",
    "# df_cv = cross_validation(m, horizon = '365 days')\n",
    "\n",
    "# from prophet.diagnostics import performance_metrics\n",
    "# df_p = performance_metrics(df_cv)\n",
    "# df_p"
   ]
  }
 ],
 "metadata": {
  "kernelspec": {
   "display_name": "Python 3 (ipykernel)",
   "language": "python",
   "name": "python3"
  },
  "language_info": {
   "codemirror_mode": {
    "name": "ipython",
    "version": 3
   },
   "file_extension": ".py",
   "mimetype": "text/x-python",
   "name": "python",
   "nbconvert_exporter": "python",
   "pygments_lexer": "ipython3",
   "version": "3.8.12"
  }
 },
 "nbformat": 4,
 "nbformat_minor": 5
}
